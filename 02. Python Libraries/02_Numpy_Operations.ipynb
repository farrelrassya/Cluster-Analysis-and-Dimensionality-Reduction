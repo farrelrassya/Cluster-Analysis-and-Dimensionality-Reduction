{
  "cells": [
    {
      "cell_type": "markdown",
      "metadata": {
        "id": "view-in-github",
        "colab_type": "text"
      },
      "source": [
        "<a href=\"https://colab.research.google.com/github/farrelrassya/Cluster-Analysis-and-Dimensionality-Reduction/blob/main/02.%20Python%20Libraries/02_Numpy_Operations.ipynb\" target=\"_parent\"><img src=\"https://colab.research.google.com/assets/colab-badge.svg\" alt=\"Open In Colab\"/></a>"
      ]
    },
    {
      "cell_type": "markdown",
      "metadata": {
        "id": "CcO2Mfb-XeTl"
      },
      "source": [
        "### Operations on single numpy arrays\n",
        "\n",
        "#### Lecture agenda\n",
        "\n",
        "- Operations on 1-D and 2-D arrays\n",
        "\n",
        "- Array reshaping"
      ]
    },
    {
      "cell_type": "code",
      "execution_count": 1,
      "metadata": {
        "id": "HOmygMBKXeTm"
      },
      "outputs": [],
      "source": [
        "import numpy as np"
      ]
    },
    {
      "cell_type": "markdown",
      "metadata": {
        "id": "oFXjTT0-XeTm"
      },
      "source": [
        "##### Handling 1-D arrays\n"
      ]
    },
    {
      "cell_type": "code",
      "execution_count": 2,
      "metadata": {
        "colab": {
          "base_uri": "https://localhost:8080/"
        },
        "id": "7e954sqWXeTm",
        "outputId": "8a90afdc-2240-44f4-f9d7-8f6681bf9348"
      },
      "outputs": [
        {
          "output_type": "execute_result",
          "data": {
            "text/plain": [
              "array([1, 2, 3, 4, 5, 6])"
            ]
          },
          "metadata": {},
          "execution_count": 2
        }
      ],
      "source": [
        "arr1 = np.array([1, 2, 3, 4, 5, 6])\n",
        "arr1"
      ]
    },
    {
      "cell_type": "code",
      "execution_count": 3,
      "metadata": {
        "colab": {
          "base_uri": "https://localhost:8080/"
        },
        "id": "wigRk7yEXeTn",
        "outputId": "a6f51801-c1b0-4f87-f737-cb1c14cab2c3"
      },
      "outputs": [
        {
          "output_type": "stream",
          "name": "stdout",
          "text": [
            "Square root: [1.         1.41421356 1.73205081 2.         2.23606798 2.44948974]\n",
            "Exponential: [  2.71828183   7.3890561   20.08553692  54.59815003 148.4131591\n",
            " 403.42879349]\n",
            "Log: [0.         0.69314718 1.09861229 1.38629436 1.60943791 1.79175947]\n"
          ]
        }
      ],
      "source": [
        "# Mathematical operations\n",
        "\n",
        "# Square root of each element\n",
        "print(\"Square root:\", np.sqrt(arr1))\n",
        "\n",
        "# Exponential (base e) of each element\n",
        "print(\"Exponential:\", np.exp(arr1))\n",
        "\n",
        "# Log of each element\n",
        "print(\"Log:\", np.log(arr1))"
      ]
    },
    {
      "cell_type": "code",
      "execution_count": 4,
      "metadata": {
        "colab": {
          "base_uri": "https://localhost:8080/"
        },
        "id": "6htR8m14XeTn",
        "outputId": "7238629d-0263-4f75-cd98-6c6bb5dda627"
      },
      "outputs": [
        {
          "output_type": "stream",
          "name": "stdout",
          "text": [
            "Addition: [2 3 4 5 6 7]\n",
            "Multiplication: [ 2  4  6  8 10 12]\n",
            "Greather than 2: [False False  True  True  True  True]\n"
          ]
        }
      ],
      "source": [
        "# Operations with scalars\n",
        "\n",
        "# Adding a scalar to all elements in the array\n",
        "print(\"Addition:\", arr1 + 1)\n",
        "\n",
        "# Multiplying all elements in the array by a scalar\n",
        "print(\"Multiplication:\", arr1 * 2)\n",
        "\n",
        "# Comparison with a scalar\n",
        "print(\"Greather than 2:\", arr1 > 2)"
      ]
    },
    {
      "cell_type": "code",
      "execution_count": 5,
      "metadata": {
        "colab": {
          "base_uri": "https://localhost:8080/"
        },
        "id": "nhkFU1YeXeTn",
        "outputId": "312d1063-15b0-44d7-e3ef-e0f0a43fc58c"
      },
      "outputs": [
        {
          "output_type": "stream",
          "name": "stdout",
          "text": [
            "Sum: 21\n",
            "Average: 3.5\n",
            "Max: 6\n",
            "Min: 1\n"
          ]
        }
      ],
      "source": [
        "# Aggregation functions\n",
        "\n",
        "# Sum of elements\n",
        "print(\"Sum:\", np.sum(arr1))\n",
        "\n",
        "# Average of elements\n",
        "print(\"Average:\", np.mean(arr1))\n",
        "\n",
        "# Maximum element\n",
        "print(\"Max:\", np.max(arr1))\n",
        "\n",
        "# Minimum element\n",
        "print(\"Min:\", np.min(arr1))"
      ]
    },
    {
      "cell_type": "code",
      "execution_count": 6,
      "metadata": {
        "colab": {
          "base_uri": "https://localhost:8080/"
        },
        "id": "83CvLKedXeTn",
        "outputId": "ed065629-259c-4426-cd2c-1421fe9f9f5f"
      },
      "outputs": [
        {
          "output_type": "stream",
          "name": "stdout",
          "text": [
            "Sorted: [1 1 2 4 8]\n"
          ]
        }
      ],
      "source": [
        "# Sorting\n",
        "\n",
        "arr3 = np.array([2,1,4,1,8])\n",
        "arr3.sort()\n",
        "\n",
        "print(\"Sorted:\", arr3)"
      ]
    },
    {
      "cell_type": "markdown",
      "metadata": {
        "id": "cCKzpzjPXeTo"
      },
      "source": [
        "##### 2-D arrays - basic operations"
      ]
    },
    {
      "cell_type": "code",
      "execution_count": 7,
      "metadata": {
        "colab": {
          "base_uri": "https://localhost:8080/"
        },
        "id": "FtQAyqcYXeTo",
        "outputId": "de1d5850-5af2-4fa1-ea88-e43993fbe56c"
      },
      "outputs": [
        {
          "output_type": "execute_result",
          "data": {
            "text/plain": [
              "array([[1, 2, 3],\n",
              "       [4, 5, 6]])"
            ]
          },
          "metadata": {},
          "execution_count": 7
        }
      ],
      "source": [
        "arr1 = np.array([[1, 2, 3], [4, 5, 6]])\n",
        "arr1"
      ]
    },
    {
      "cell_type": "code",
      "execution_count": 8,
      "metadata": {
        "colab": {
          "base_uri": "https://localhost:8080/"
        },
        "id": "ha3fsuCSXeTo",
        "outputId": "9a8f7848-9818-429b-8a3b-46cd3d0568d5"
      },
      "outputs": [
        {
          "output_type": "execute_result",
          "data": {
            "text/plain": [
              "(2, 3)"
            ]
          },
          "metadata": {},
          "execution_count": 8
        }
      ],
      "source": [
        "arr1.shape"
      ]
    },
    {
      "cell_type": "code",
      "execution_count": 9,
      "metadata": {
        "colab": {
          "base_uri": "https://localhost:8080/"
        },
        "id": "KmM20ATTXeTo",
        "outputId": "7cafa8fe-ddc8-42d7-8a7c-ac15c426cd0a"
      },
      "outputs": [
        {
          "output_type": "stream",
          "name": "stdout",
          "text": [
            "Square root: \n",
            " [[1.         1.41421356 1.73205081]\n",
            " [2.         2.23606798 2.44948974]]\n",
            "Exponential: '\n",
            " [[  2.71828183   7.3890561   20.08553692]\n",
            " [ 54.59815003 148.4131591  403.42879349]]\n",
            "Log: \n",
            " [[0.         0.69314718 1.09861229]\n",
            " [1.38629436 1.60943791 1.79175947]]\n"
          ]
        }
      ],
      "source": [
        "# Mathematical operations\n",
        "\n",
        "# Square root of each element\n",
        "print(\"Square root: \\n\", np.sqrt(arr1))\n",
        "\n",
        "# Exponential (base e) of each element\n",
        "print(\"Exponential: '\\n\", np.exp(arr1))\n",
        "\n",
        "# Log of each element\n",
        "print(\"Log: \\n\", np.log(arr1))"
      ]
    },
    {
      "cell_type": "code",
      "execution_count": 10,
      "metadata": {
        "colab": {
          "base_uri": "https://localhost:8080/"
        },
        "id": "_DhBQdj6XeTp",
        "outputId": "90c1a865-7f8e-463e-fc11-5dff49960b6d"
      },
      "outputs": [
        {
          "output_type": "stream",
          "name": "stdout",
          "text": [
            "Addition:\n",
            " [[2 3 4]\n",
            " [5 6 7]]\n",
            "Multiplication:\n",
            " [[ 2  4  6]\n",
            " [ 8 10 12]]\n",
            "Greather than 2:\n",
            " [[False False  True]\n",
            " [ True  True  True]]\n"
          ]
        }
      ],
      "source": [
        "# Working with scalars\n",
        "\n",
        "# Adding a scalar to all elements in the array\n",
        "print(\"Addition:\\n\", arr1 + 1)\n",
        "\n",
        "# Multiplying all elements in the array by a scalar\n",
        "print(\"Multiplication:\\n\", arr1 * 2)\n",
        "\n",
        "# Multiplying all elements in the array by a scalar\n",
        "print(\"Greather than 2:\\n\", arr1 > 2)"
      ]
    },
    {
      "cell_type": "code",
      "execution_count": 11,
      "metadata": {
        "colab": {
          "base_uri": "https://localhost:8080/"
        },
        "id": "V4bXWWOMXeTp",
        "outputId": "ce5fd02b-3fa4-42bd-ff67-22e8c483bd42"
      },
      "outputs": [
        {
          "output_type": "stream",
          "name": "stdout",
          "text": [
            "Sum: 21\n",
            "Average: 3.5\n",
            "Max: 6\n",
            "Min: 1\n"
          ]
        }
      ],
      "source": [
        "# Aggregation of the whole array\n",
        "\n",
        "# Sum of elements\n",
        "print(\"Sum:\", np.sum(arr1))\n",
        "\n",
        "# Average of elements\n",
        "print(\"Average:\", np.mean(arr1))\n",
        "\n",
        "# Maximum element\n",
        "print(\"Max:\", np.max(arr1))\n",
        "\n",
        "# Minimum element\n",
        "print(\"Min:\", np.min(arr1))"
      ]
    },
    {
      "cell_type": "code",
      "execution_count": 12,
      "metadata": {
        "colab": {
          "base_uri": "https://localhost:8080/"
        },
        "id": "waO6Y8YEXeTp",
        "outputId": "c8f03732-c7bc-4bfd-b244-4eb765af6938"
      },
      "outputs": [
        {
          "output_type": "execute_result",
          "data": {
            "text/plain": [
              "array([[1, 2, 3],\n",
              "       [4, 5, 6]])"
            ]
          },
          "metadata": {},
          "execution_count": 12
        }
      ],
      "source": [
        "arr1"
      ]
    },
    {
      "cell_type": "code",
      "execution_count": 13,
      "metadata": {
        "colab": {
          "base_uri": "https://localhost:8080/"
        },
        "id": "1y4ht7_TXeTp",
        "outputId": "09fd029e-3729-46d3-885a-a0fc238ab96a"
      },
      "outputs": [
        {
          "output_type": "stream",
          "name": "stdout",
          "text": [
            "Sum: [5 7 9]\n",
            "Average: [2.5 3.5 4.5]\n",
            "Max: [4 5 6]\n",
            "Min: [1 2 3]\n"
          ]
        }
      ],
      "source": [
        "# Aggregating columns\n",
        "\n",
        "# Sum of elements\n",
        "print(\"Sum:\", np.sum(arr1, axis=0))\n",
        "\n",
        "# Average of elements\n",
        "print(\"Average:\", np.mean(arr1, axis=0))\n",
        "\n",
        "# Maximum element\n",
        "print(\"Max:\", np.max(arr1, axis=0))\n",
        "\n",
        "# Minimum element\n",
        "print(\"Min:\", np.min(arr1, axis=0))"
      ]
    },
    {
      "cell_type": "code",
      "execution_count": 14,
      "metadata": {
        "colab": {
          "base_uri": "https://localhost:8080/"
        },
        "id": "pC4D_yE1XeTp",
        "outputId": "c2d37f6e-d907-4491-947c-aa72b51cd35c"
      },
      "outputs": [
        {
          "output_type": "stream",
          "name": "stdout",
          "text": [
            "Sum: [ 6 15]\n",
            "Average: [2. 5.]\n",
            "Max: [3 6]\n",
            "Min: [1 4]\n"
          ]
        }
      ],
      "source": [
        "# Aggregating rows\n",
        "\n",
        "# Sum of elements\n",
        "print(\"Sum:\", np.sum(arr1, axis=1))\n",
        "\n",
        "# Average of elements\n",
        "print(\"Average:\", np.mean(arr1, axis=1))\n",
        "\n",
        "# Maximum element\n",
        "print(\"Max:\", np.max(arr1, axis=1))\n",
        "\n",
        "# Minimum element\n",
        "print(\"Min:\", np.min(arr1, axis=1))"
      ]
    },
    {
      "cell_type": "markdown",
      "metadata": {
        "id": "fH-ZSiVfXeTp"
      },
      "source": [
        "##### Array reshaping"
      ]
    },
    {
      "cell_type": "code",
      "execution_count": 15,
      "metadata": {
        "colab": {
          "base_uri": "https://localhost:8080/"
        },
        "id": "5rhSBorlXeTp",
        "outputId": "d14d7e19-92d8-4ae1-9037-3b63add32359"
      },
      "outputs": [
        {
          "output_type": "stream",
          "name": "stdout",
          "text": [
            "[[1 2 3]\n",
            " [4 5 6]]\n",
            "Shape : (2, 3)\n"
          ]
        }
      ],
      "source": [
        "arr1 = np.array([[1, 2, 3], [4, 5, 6]])\n",
        "print(arr1)\n",
        "print('Shape : {}'.format(arr1.shape))"
      ]
    },
    {
      "cell_type": "code",
      "execution_count": 16,
      "metadata": {
        "colab": {
          "base_uri": "https://localhost:8080/"
        },
        "id": "yBzabUkoXeTp",
        "outputId": "cb3510a0-a49f-4872-a856-88672b36a895"
      },
      "outputs": [
        {
          "output_type": "stream",
          "name": "stdout",
          "text": [
            "[[1 4]\n",
            " [2 5]\n",
            " [3 6]]\n",
            "Shape : (3, 2)\n"
          ]
        }
      ],
      "source": [
        "# Transpose\n",
        "arr2 = arr1.T\n",
        "print(arr2)\n",
        "print('Shape : {}'.format(arr2.shape))"
      ]
    },
    {
      "cell_type": "code",
      "execution_count": 17,
      "metadata": {
        "colab": {
          "base_uri": "https://localhost:8080/"
        },
        "id": "73yTmVSCXeTp",
        "outputId": "6ecb9238-fb9e-4065-9f3c-e588e29629bd"
      },
      "outputs": [
        {
          "output_type": "stream",
          "name": "stdout",
          "text": [
            "[[1 2]\n",
            " [3 4]\n",
            " [5 6]]\n",
            "Shape : (3, 2)\n"
          ]
        }
      ],
      "source": [
        "# Custom reshape\n",
        "arr3 = np.reshape(arr1, newshape=(3, 2))\n",
        "print(arr3)\n",
        "print('Shape : {}'.format(arr3.shape))"
      ]
    },
    {
      "cell_type": "code",
      "execution_count": 18,
      "metadata": {
        "colab": {
          "base_uri": "https://localhost:8080/"
        },
        "id": "AnuVcsWEXeTp",
        "outputId": "37fb8f3e-43e2-4b73-8dfc-772df656dd3f"
      },
      "outputs": [
        {
          "output_type": "stream",
          "name": "stdout",
          "text": [
            "[1 2 3 4]\n",
            "Shape : (4,)\n"
          ]
        }
      ],
      "source": [
        "arr4 = np.array([1,2,3,4])\n",
        "print(arr4)\n",
        "print('Shape : {}'.format(arr4.shape))\n"
      ]
    },
    {
      "cell_type": "code",
      "execution_count": 19,
      "metadata": {
        "colab": {
          "base_uri": "https://localhost:8080/"
        },
        "id": "hvfaeR0tXeTp",
        "outputId": "77062995-365d-4943-a6a3-f0446af35678"
      },
      "outputs": [
        {
          "output_type": "stream",
          "name": "stdout",
          "text": [
            "[[1 2 3 4]]\n",
            "Shape : (1, 4)\n"
          ]
        }
      ],
      "source": [
        "# Add new dimension at the\n",
        "# beggining of the shape\n",
        "arr5 = np.expand_dims(arr4, axis=0)\n",
        "print(arr5)\n",
        "print('Shape : {}'.format(arr5.shape))"
      ]
    },
    {
      "cell_type": "code",
      "execution_count": 20,
      "metadata": {
        "colab": {
          "base_uri": "https://localhost:8080/"
        },
        "id": "FeW_GvelXeTp",
        "outputId": "b6ace7f0-a20d-4fdb-c900-26d72bef4c0e"
      },
      "outputs": [
        {
          "output_type": "stream",
          "name": "stdout",
          "text": [
            "[[1]\n",
            " [2]\n",
            " [3]\n",
            " [4]]\n",
            "Shape : (4, 1)\n"
          ]
        }
      ],
      "source": [
        "# Add new dimension at the\n",
        "# end of the shape\n",
        "arr6 = np.expand_dims(arr4, axis=1)\n",
        "print(arr6)\n",
        "print('Shape : {}'.format(arr6.shape))"
      ]
    },
    {
      "cell_type": "code",
      "execution_count": 21,
      "metadata": {
        "colab": {
          "base_uri": "https://localhost:8080/"
        },
        "id": "af5roOVuXeTp",
        "outputId": "9b450c4a-5bb3-44dc-aaea-c7ea6ae4e328"
      },
      "outputs": [
        {
          "output_type": "stream",
          "name": "stdout",
          "text": [
            "[1 2 3 4]\n",
            "Shape : (4,)\n"
          ]
        }
      ],
      "source": [
        "arr7 = np.squeeze(arr6)\n",
        "print(arr7)\n",
        "print('Shape : {}'.format(arr7.shape))"
      ]
    },
    {
      "cell_type": "code",
      "execution_count": 22,
      "metadata": {
        "colab": {
          "base_uri": "https://localhost:8080/"
        },
        "id": "BE2UhMBTXeTp",
        "outputId": "b16b03b0-c67a-4780-81a1-fe2556ec8d8a"
      },
      "outputs": [
        {
          "output_type": "stream",
          "name": "stdout",
          "text": [
            "[1 2 3 4]\n",
            "Shape : (4,)\n"
          ]
        }
      ],
      "source": [
        "arr8 = np.squeeze(arr5)\n",
        "print(arr8)\n",
        "print('Shape : {}'.format(arr8.shape))"
      ]
    },
    {
      "cell_type": "markdown",
      "metadata": {
        "id": "lUHfeSS-XeTq"
      },
      "source": [
        "### Summary\n",
        "\n",
        "We have learned about:\n",
        "\n",
        "- Operations on 1-D and 2-D arrays\n",
        "\n",
        "- Array reshaping"
      ]
    }
  ],
  "metadata": {
    "kernelspec": {
      "display_name": "test_env_2",
      "language": "python",
      "name": "python3"
    },
    "language_info": {
      "codemirror_mode": {
        "name": "ipython",
        "version": 3
      },
      "file_extension": ".py",
      "mimetype": "text/x-python",
      "name": "python",
      "nbconvert_exporter": "python",
      "pygments_lexer": "ipython3",
      "version": "3.11.3"
    },
    "orig_nbformat": 4,
    "colab": {
      "provenance": [],
      "include_colab_link": true
    }
  },
  "nbformat": 4,
  "nbformat_minor": 0
}