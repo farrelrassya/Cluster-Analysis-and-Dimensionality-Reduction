{
  "cells": [
    {
      "cell_type": "markdown",
      "metadata": {
        "id": "view-in-github",
        "colab_type": "text"
      },
      "source": [
        "<a href=\"https://colab.research.google.com/github/farrelrassya/Cluster-Analysis-and-Dimensionality-Reduction/blob/main/02.%20Python%20Libraries/06_Numpy_Matrixs.ipynb\" target=\"_parent\"><img src=\"https://colab.research.google.com/assets/colab-badge.svg\" alt=\"Open In Colab\"/></a>"
      ]
    },
    {
      "cell_type": "markdown",
      "metadata": {
        "id": "KYl93gSN2jdr"
      },
      "source": [
        "### Working with matrices\n",
        "\n",
        "#### Lecture agenda\n",
        "\n",
        "- Creating matrices\n",
        "- Matrix adition and multiplication"
      ]
    },
    {
      "cell_type": "markdown",
      "metadata": {
        "id": "az4gtZ-02jds"
      },
      "source": [
        "##### Creating matrices"
      ]
    },
    {
      "cell_type": "code",
      "execution_count": 1,
      "metadata": {
        "id": "sOTm74Or2jds"
      },
      "outputs": [],
      "source": [
        "import numpy as np"
      ]
    },
    {
      "cell_type": "code",
      "execution_count": 2,
      "metadata": {
        "colab": {
          "base_uri": "https://localhost:8080/"
        },
        "id": "6z1cf3bX2jds",
        "outputId": "b65a9594-2340-40d7-c3a7-0870540c8d62"
      },
      "outputs": [
        {
          "output_type": "execute_result",
          "data": {
            "text/plain": [
              "array([[ 1,  2,  3],\n",
              "       [ 4,  5,  6],\n",
              "       [ 7,  8,  9],\n",
              "       [10, 11, 12]])"
            ]
          },
          "metadata": {},
          "execution_count": 2
        }
      ],
      "source": [
        "# Custom matrix\n",
        "\n",
        "matrix = np.array([[1, 2, 3], [4, 5, 6], [7, 8, 9], [10, 11, 12]])\n",
        "matrix"
      ]
    },
    {
      "cell_type": "code",
      "execution_count": 3,
      "metadata": {
        "colab": {
          "base_uri": "https://localhost:8080/"
        },
        "id": "xkEBd7WE2jdt",
        "outputId": "86230ad2-fe4e-4563-c467-29f536523ad5"
      },
      "outputs": [
        {
          "output_type": "execute_result",
          "data": {
            "text/plain": [
              "array([[0., 0., 0.],\n",
              "       [0., 0., 0.],\n",
              "       [0., 0., 0.]])"
            ]
          },
          "metadata": {},
          "execution_count": 3
        }
      ],
      "source": [
        "# Zero matrix\n",
        "\n",
        "zero_matrix = np.zeros((3, 3))\n",
        "zero_matrix\n"
      ]
    },
    {
      "cell_type": "code",
      "execution_count": 4,
      "metadata": {
        "colab": {
          "base_uri": "https://localhost:8080/"
        },
        "id": "3SpQKohY2jdt",
        "outputId": "13fd5877-4d78-4f78-ced0-38309c72efdd"
      },
      "outputs": [
        {
          "output_type": "execute_result",
          "data": {
            "text/plain": [
              "array([[1., 0., 0.],\n",
              "       [0., 1., 0.],\n",
              "       [0., 0., 1.]])"
            ]
          },
          "metadata": {},
          "execution_count": 4
        }
      ],
      "source": [
        "# Identity matrix\n",
        "\n",
        "identity_matrix = np.eye(3)\n",
        "identity_matrix\n"
      ]
    },
    {
      "cell_type": "code",
      "execution_count": 5,
      "metadata": {
        "colab": {
          "base_uri": "https://localhost:8080/"
        },
        "id": "4lWQfdtn2jdt",
        "outputId": "faca3e9c-3694-4dff-b042-57aaa3083595"
      },
      "outputs": [
        {
          "output_type": "stream",
          "name": "stdout",
          "text": [
            "[[1. 1. 1.]\n",
            " [1. 1. 1.]\n",
            " [1. 1. 1.]]\n"
          ]
        }
      ],
      "source": [
        "# Matrix of ones\n",
        "\n",
        "ones_matrix = np.ones((3, 3))\n",
        "print(ones_matrix)\n"
      ]
    },
    {
      "cell_type": "code",
      "execution_count": 6,
      "metadata": {
        "colab": {
          "base_uri": "https://localhost:8080/"
        },
        "id": "FJb8qVsc2jdt",
        "outputId": "cba75052-aeba-4084-da92-e8b1f240a207"
      },
      "outputs": [
        {
          "output_type": "execute_result",
          "data": {
            "text/plain": [
              "array([[0.03714625, 0.43719214, 0.20815218],\n",
              "       [0.40016647, 0.6899726 , 0.17333724],\n",
              "       [0.41630504, 0.06701211, 0.95791016]])"
            ]
          },
          "metadata": {},
          "execution_count": 6
        }
      ],
      "source": [
        "# Random matrix\n",
        "\n",
        "random_matrix = np.random.random((3, 3))\n",
        "random_matrix"
      ]
    },
    {
      "cell_type": "markdown",
      "metadata": {
        "id": "lK5U2SXF2jdt"
      },
      "source": [
        "##### Matrix operations"
      ]
    },
    {
      "cell_type": "code",
      "execution_count": 7,
      "metadata": {
        "colab": {
          "base_uri": "https://localhost:8080/"
        },
        "id": "bWky55pS2jdt",
        "outputId": "64030987-ea8e-4d4e-e6d5-119aac949091"
      },
      "outputs": [
        {
          "output_type": "stream",
          "name": "stdout",
          "text": [
            "Mat 1 : \n",
            " [[1 2]\n",
            " [3 4]]\n",
            "Mat 2 : \n",
            " [[5 6]\n",
            " [7 8]]\n"
          ]
        },
        {
          "output_type": "execute_result",
          "data": {
            "text/plain": [
              "array([[ 6,  8],\n",
              "       [10, 12]])"
            ]
          },
          "metadata": {},
          "execution_count": 7
        }
      ],
      "source": [
        "# Matrix addition\n",
        "\n",
        "a = np.array([[1, 2], [3, 4]])\n",
        "b = np.array([[5, 6], [7, 8]])\n",
        "\n",
        "print('Mat 1 : \\n {}'.format(a))\n",
        "print('Mat 2 : \\n {}'.format(b))\n",
        "\n",
        "c = a + b\n",
        "c"
      ]
    },
    {
      "cell_type": "markdown",
      "metadata": {
        "id": "jpfwa8Xo2jdt"
      },
      "source": [
        "Matrix multiplication\n",
        "\n",
        "![](imgs/mat_mul.png)\n",
        "\n",
        "Source: https://commons.wikimedia.org/wiki/File:Matrix_multiplication_diagram.svg"
      ]
    },
    {
      "cell_type": "code",
      "execution_count": 8,
      "metadata": {
        "colab": {
          "base_uri": "https://localhost:8080/"
        },
        "id": "blck94re2jdt",
        "outputId": "ebb8bf66-d469-4551-fc4f-7f331ec2560d"
      },
      "outputs": [
        {
          "output_type": "stream",
          "name": "stdout",
          "text": [
            "Mat 1 : \n",
            " [[1 2]\n",
            " [3 4]]\n",
            "Mat 2 : \n",
            " [[5 6]\n",
            " [7 8]]\n"
          ]
        },
        {
          "output_type": "execute_result",
          "data": {
            "text/plain": [
              "array([[19, 22],\n",
              "       [43, 50]])"
            ]
          },
          "metadata": {},
          "execution_count": 8
        }
      ],
      "source": [
        "# Matrix multiplication\n",
        "\n",
        "a = np.array([[1, 2], [3, 4]])\n",
        "b = np.array([[5, 6], [7, 8]])\n",
        "\n",
        "print('Mat 1 : \\n {}'.format(a))\n",
        "print('Mat 2 : \\n {}'.format(b))\n",
        "\n",
        "c = a @ b\n",
        "c"
      ]
    },
    {
      "cell_type": "code",
      "execution_count": 9,
      "metadata": {
        "colab": {
          "base_uri": "https://localhost:8080/"
        },
        "id": "65rsqC3q2jdt",
        "outputId": "9a63a640-0f9b-4da3-f412-8f34ed3bd9bb"
      },
      "outputs": [
        {
          "output_type": "execute_result",
          "data": {
            "text/plain": [
              "array([[ 5, 12],\n",
              "       [21, 32]])"
            ]
          },
          "metadata": {},
          "execution_count": 9
        }
      ],
      "source": [
        "a*b"
      ]
    },
    {
      "cell_type": "code",
      "execution_count": 10,
      "metadata": {
        "colab": {
          "base_uri": "https://localhost:8080/"
        },
        "id": "5rw2wZrG2jdt",
        "outputId": "6e177d85-ece8-4a95-83ae-d2c8f42cec4f"
      },
      "outputs": [
        {
          "output_type": "stream",
          "name": "stdout",
          "text": [
            "Mat 1 : \n",
            " [[1 2]\n",
            " [3 4]]\n"
          ]
        },
        {
          "output_type": "execute_result",
          "data": {
            "text/plain": [
              "array([[1, 3],\n",
              "       [2, 4]])"
            ]
          },
          "metadata": {},
          "execution_count": 10
        }
      ],
      "source": [
        "# Matrix transponse\n",
        "\n",
        "a = np.array([[1, 2], [3, 4]])\n",
        "\n",
        "print('Mat 1 : \\n {}'.format(a))\n",
        "\n",
        "b = a.T\n",
        "b"
      ]
    }
  ],
  "metadata": {
    "kernelspec": {
      "display_name": "test_env_2",
      "language": "python",
      "name": "python3"
    },
    "language_info": {
      "codemirror_mode": {
        "name": "ipython",
        "version": 3
      },
      "file_extension": ".py",
      "mimetype": "text/x-python",
      "name": "python",
      "nbconvert_exporter": "python",
      "pygments_lexer": "ipython3",
      "version": "3.11.3"
    },
    "orig_nbformat": 4,
    "colab": {
      "provenance": [],
      "include_colab_link": true
    }
  },
  "nbformat": 4,
  "nbformat_minor": 0
}