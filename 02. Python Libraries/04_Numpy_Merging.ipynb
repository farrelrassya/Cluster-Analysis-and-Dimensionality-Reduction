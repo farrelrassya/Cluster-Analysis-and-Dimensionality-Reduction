{
  "cells": [
    {
      "cell_type": "markdown",
      "metadata": {
        "id": "view-in-github",
        "colab_type": "text"
      },
      "source": [
        "<a href=\"https://colab.research.google.com/github/farrelrassya/Cluster-Analysis-and-Dimensionality-Reduction/blob/main/02.%20Python%20Libraries/04_Numpy_Merging.ipynb\" target=\"_parent\"><img src=\"https://colab.research.google.com/assets/colab-badge.svg\" alt=\"Open In Colab\"/></a>"
      ]
    },
    {
      "cell_type": "markdown",
      "metadata": {
        "id": "kRbPBlKq1Nou"
      },
      "source": [
        "## Merging numpy arrays\n",
        "\n",
        "### Lecture agenda\n",
        "\n",
        "- Merging numpy arrays\n",
        "  - Concatenations\n",
        "  - Stacking"
      ]
    },
    {
      "cell_type": "code",
      "execution_count": 1,
      "metadata": {
        "id": "0I1q90LH1Noy"
      },
      "outputs": [],
      "source": [
        "import numpy as np"
      ]
    },
    {
      "cell_type": "markdown",
      "metadata": {
        "id": "Y42XqXxJ1Noz"
      },
      "source": [
        "##### Concatenations"
      ]
    },
    {
      "cell_type": "code",
      "execution_count": 2,
      "metadata": {
        "colab": {
          "base_uri": "https://localhost:8080/"
        },
        "id": "tt2uiMfk1No0",
        "outputId": "a7d2f866-8741-4228-cd9d-927aacb5f59d"
      },
      "outputs": [
        {
          "output_type": "stream",
          "name": "stdout",
          "text": [
            "Arr 1 : \n",
            " [1 2]\n",
            "Arr 2 : \n",
            " [5 6 7 8]\n"
          ]
        },
        {
          "output_type": "execute_result",
          "data": {
            "text/plain": [
              "array([1, 2, 5, 6, 7, 8])"
            ]
          },
          "metadata": {},
          "execution_count": 2
        }
      ],
      "source": [
        "# Merge 2D arrays\n",
        "\n",
        "a = np.array([1, 2])\n",
        "b = np.array([5, 6, 7, 8])\n",
        "\n",
        "print('Arr 1 : \\n {}'.format(a))\n",
        "print('Arr 2 : \\n {}'.format(b))\n",
        "\n",
        "c = np.concatenate((a, b))\n",
        "c"
      ]
    },
    {
      "cell_type": "code",
      "execution_count": 3,
      "metadata": {
        "colab": {
          "base_uri": "https://localhost:8080/"
        },
        "id": "kZ_ewSNw1No0",
        "outputId": "560247c3-4027-4314-b881-2256dafc61ad"
      },
      "outputs": [
        {
          "output_type": "stream",
          "name": "stdout",
          "text": [
            "Arr 1 : \n",
            " [[1 2]\n",
            " [3 4]]\n",
            "Arr 2 : \n",
            " [[5 6]\n",
            " [7 8]]\n"
          ]
        },
        {
          "output_type": "execute_result",
          "data": {
            "text/plain": [
              "array([[1, 2],\n",
              "       [3, 4],\n",
              "       [5, 6],\n",
              "       [7, 8]])"
            ]
          },
          "metadata": {},
          "execution_count": 3
        }
      ],
      "source": [
        "# Merge, axis=0\n",
        "\n",
        "a = np.array([[1, 2], [3, 4]])\n",
        "b = np.array([[5, 6], [7, 8]])\n",
        "\n",
        "print('Arr 1 : \\n {}'.format(a))\n",
        "print('Arr 2 : \\n {}'.format(b))\n",
        "\n",
        "c = np.concatenate((a, b), axis=0)\n",
        "c"
      ]
    },
    {
      "cell_type": "code",
      "execution_count": 4,
      "metadata": {
        "colab": {
          "base_uri": "https://localhost:8080/"
        },
        "id": "2SnBrbq21No1",
        "outputId": "2246947e-4eec-4f47-8c4e-cd4b4f68537a"
      },
      "outputs": [
        {
          "output_type": "stream",
          "name": "stdout",
          "text": [
            "Arr 1 : \n",
            " [[1 2]\n",
            " [3 4]]\n",
            "Arr 2 : \n",
            " [[5 6]\n",
            " [7 8]]\n"
          ]
        },
        {
          "output_type": "execute_result",
          "data": {
            "text/plain": [
              "array([[1, 2, 5, 6],\n",
              "       [3, 4, 7, 8]])"
            ]
          },
          "metadata": {},
          "execution_count": 4
        }
      ],
      "source": [
        "# Merge, axis=1\n",
        "\n",
        "a = np.array([[1, 2], [3, 4]])\n",
        "b = np.array([[5, 6], [7,8]])\n",
        "\n",
        "print('Arr 1 : \\n {}'.format(a))\n",
        "print('Arr 2 : \\n {}'.format(b))\n",
        "\n",
        "c = np.concatenate((a, b), axis=1)\n",
        "c"
      ]
    },
    {
      "cell_type": "code",
      "execution_count": 6,
      "metadata": {
        "colab": {
          "base_uri": "https://localhost:8080/",
          "height": 287
        },
        "id": "a1Sg-sWb1No1",
        "outputId": "367251fb-09ab-4b9d-aea8-0979662d4e77"
      },
      "outputs": [
        {
          "output_type": "stream",
          "name": "stdout",
          "text": [
            "Arr 1 : \n",
            " [[1 2]\n",
            " [3 4]]\n",
            "Arr 2 : \n",
            " [5 6]\n"
          ]
        },
        {
          "output_type": "error",
          "ename": "ValueError",
          "evalue": "all the input arrays must have same number of dimensions, but the array at index 0 has 2 dimension(s) and the array at index 1 has 1 dimension(s)",
          "traceback": [
            "\u001b[0;31m---------------------------------------------------------------------------\u001b[0m",
            "\u001b[0;31mValueError\u001b[0m                                Traceback (most recent call last)",
            "\u001b[0;32m<ipython-input-6-adb0865169f3>\u001b[0m in \u001b[0;36m<cell line: 9>\u001b[0;34m()\u001b[0m\n\u001b[1;32m      7\u001b[0m \u001b[0mprint\u001b[0m\u001b[0;34m(\u001b[0m\u001b[0;34m'Arr 2 : \\n {}'\u001b[0m\u001b[0;34m.\u001b[0m\u001b[0mformat\u001b[0m\u001b[0;34m(\u001b[0m\u001b[0mb\u001b[0m\u001b[0;34m)\u001b[0m\u001b[0;34m)\u001b[0m\u001b[0;34m\u001b[0m\u001b[0;34m\u001b[0m\u001b[0m\n\u001b[1;32m      8\u001b[0m \u001b[0;34m\u001b[0m\u001b[0m\n\u001b[0;32m----> 9\u001b[0;31m \u001b[0mc\u001b[0m \u001b[0;34m=\u001b[0m \u001b[0mnp\u001b[0m\u001b[0;34m.\u001b[0m\u001b[0mconcatenate\u001b[0m\u001b[0;34m(\u001b[0m\u001b[0;34m(\u001b[0m\u001b[0ma\u001b[0m\u001b[0;34m,\u001b[0m \u001b[0mb\u001b[0m\u001b[0;34m)\u001b[0m\u001b[0;34m,\u001b[0m \u001b[0maxis\u001b[0m\u001b[0;34m=\u001b[0m\u001b[0;36m0\u001b[0m\u001b[0;34m)\u001b[0m\u001b[0;34m\u001b[0m\u001b[0;34m\u001b[0m\u001b[0m\n\u001b[0m\u001b[1;32m     10\u001b[0m \u001b[0mc\u001b[0m\u001b[0;34m\u001b[0m\u001b[0;34m\u001b[0m\u001b[0m\n",
            "\u001b[0;31mValueError\u001b[0m: all the input arrays must have same number of dimensions, but the array at index 0 has 2 dimension(s) and the array at index 1 has 1 dimension(s)"
          ]
        }
      ],
      "source": [
        "# Merge, axis=0\n",
        "\n",
        "a = np.array([[1, 2], [3, 4]])\n",
        "b = np.array([5, 6])\n",
        "\n",
        "print('Arr 1 : \\n {}'.format(a))\n",
        "print('Arr 2 : \\n {}'.format(b))\n",
        "\n",
        "c = np.concatenate((a, b), axis=0)\n",
        "c"
      ]
    },
    {
      "cell_type": "code",
      "execution_count": 7,
      "metadata": {
        "colab": {
          "base_uri": "https://localhost:8080/"
        },
        "id": "4dX4_0A-1No2",
        "outputId": "dd57c1b2-066d-4175-afdc-fad24130b1a3"
      },
      "outputs": [
        {
          "output_type": "stream",
          "name": "stdout",
          "text": [
            "Arr 1 : \n",
            " [[1 2]\n",
            " [3 4]]\n",
            "Arr 2 : \n",
            " [[5 6]]\n"
          ]
        },
        {
          "output_type": "execute_result",
          "data": {
            "text/plain": [
              "array([[1, 2],\n",
              "       [3, 4],\n",
              "       [5, 6]])"
            ]
          },
          "metadata": {},
          "execution_count": 7
        }
      ],
      "source": [
        "# Merge, axis=0\n",
        "\n",
        "a = np.array([[1, 2], [3, 4]])\n",
        "b = np.array([5, 6])\n",
        "\n",
        "b = np.expand_dims(b, axis=0)\n",
        "\n",
        "print('Arr 1 : \\n {}'.format(a))\n",
        "print('Arr 2 : \\n {}'.format(b))\n",
        "\n",
        "c = np.concatenate((a, b), axis=0)\n",
        "c"
      ]
    },
    {
      "cell_type": "code",
      "execution_count": 8,
      "metadata": {
        "colab": {
          "base_uri": "https://localhost:8080/"
        },
        "id": "JNb11JjR1No2",
        "outputId": "17f16398-b4f0-481d-ec31-a7dd722018b0"
      },
      "outputs": [
        {
          "output_type": "stream",
          "name": "stdout",
          "text": [
            "Arr 1 : \n",
            " [[1 2 3]\n",
            " [4 5 6]]\n",
            "Arr 2 : \n",
            " [[ 7  8  9]\n",
            " [10 11 12]]\n",
            "Arr 3 : \n",
            " [[13 14 15]\n",
            " [16 17 18]]\n"
          ]
        },
        {
          "output_type": "execute_result",
          "data": {
            "text/plain": [
              "array([[ 1,  2,  3],\n",
              "       [ 4,  5,  6],\n",
              "       [ 7,  8,  9],\n",
              "       [10, 11, 12],\n",
              "       [13, 14, 15],\n",
              "       [16, 17, 18]])"
            ]
          },
          "metadata": {},
          "execution_count": 8
        }
      ],
      "source": [
        "### Concatenating multiple arrays\n",
        "\n",
        "# Define three 2D arrays\n",
        "a = np.array([[1, 2, 3], [4, 5, 6]])\n",
        "b = np.array([[7, 8, 9], [10, 11, 12]])\n",
        "c = np.array([[13, 14, 15], [16, 17, 18]])\n",
        "\n",
        "print('Arr 1 : \\n {}'.format(a))\n",
        "print('Arr 2 : \\n {}'.format(b))\n",
        "print('Arr 3 : \\n {}'.format(c))\n",
        "\n",
        "\n",
        "d = np.concatenate((a, b, c), axis=0)\n",
        "d"
      ]
    },
    {
      "cell_type": "markdown",
      "metadata": {
        "id": "XZsQBRu81No3"
      },
      "source": [
        "##### Stacking"
      ]
    },
    {
      "cell_type": "code",
      "execution_count": 9,
      "metadata": {
        "colab": {
          "base_uri": "https://localhost:8080/"
        },
        "id": "VVAuGsm71No3",
        "outputId": "36371bd7-3875-40b6-87ba-ff0ad3394351"
      },
      "outputs": [
        {
          "output_type": "stream",
          "name": "stdout",
          "text": [
            "Arr 1 : \n",
            " [1 2]\n",
            "Arr 2 : \n",
            " [3 4]\n"
          ]
        },
        {
          "output_type": "execute_result",
          "data": {
            "text/plain": [
              "array([[1, 2],\n",
              "       [3, 4]])"
            ]
          },
          "metadata": {},
          "execution_count": 9
        }
      ],
      "source": [
        "# Vertical stacking\n",
        "\n",
        "a = np.array([1, 2])\n",
        "b = np.array([3, 4])\n",
        "\n",
        "print('Arr 1 : \\n {}'.format(a))\n",
        "print('Arr 2 : \\n {}'.format(b))\n",
        "\n",
        "c = np.vstack((a, b))\n",
        "c"
      ]
    },
    {
      "cell_type": "code",
      "execution_count": 10,
      "metadata": {
        "colab": {
          "base_uri": "https://localhost:8080/"
        },
        "id": "AYG9e7Av1No3",
        "outputId": "ed251b86-1c1c-4ef6-cb67-0c8241a639d3"
      },
      "outputs": [
        {
          "output_type": "stream",
          "name": "stdout",
          "text": [
            "Arr 1 : \n",
            " [1 2]\n",
            "Arr 2 : \n",
            " [[3 4]\n",
            " [5 6]]\n"
          ]
        },
        {
          "output_type": "execute_result",
          "data": {
            "text/plain": [
              "array([[1, 2],\n",
              "       [3, 4],\n",
              "       [5, 6]])"
            ]
          },
          "metadata": {},
          "execution_count": 10
        }
      ],
      "source": [
        "# Vertical stacking\n",
        "\n",
        "a = np.array([1, 2])\n",
        "b = np.array([[3, 4], [5, 6]])\n",
        "\n",
        "print('Arr 1 : \\n {}'.format(a))\n",
        "print('Arr 2 : \\n {}'.format(b))\n",
        "\n",
        "c = np.vstack((a, b))\n",
        "c"
      ]
    },
    {
      "cell_type": "code",
      "execution_count": 11,
      "metadata": {
        "colab": {
          "base_uri": "https://localhost:8080/"
        },
        "id": "tmB6wjWc1No4",
        "outputId": "9efb1511-0b14-49f6-9af7-775569be3368"
      },
      "outputs": [
        {
          "output_type": "stream",
          "name": "stdout",
          "text": [
            "Arr 1 : \n",
            " [1 2 3]\n",
            "Arr 2 : \n",
            " [2 3 4]\n"
          ]
        },
        {
          "output_type": "execute_result",
          "data": {
            "text/plain": [
              "array([[1, 2],\n",
              "       [2, 3],\n",
              "       [3, 4]])"
            ]
          },
          "metadata": {},
          "execution_count": 11
        }
      ],
      "source": [
        "# Column stacking\n",
        "\n",
        "a = np.array([1,2,3])\n",
        "b = np.array([2,3,4])\n",
        "\n",
        "print('Arr 1 : \\n {}'.format(a))\n",
        "print('Arr 2 : \\n {}'.format(b))\n",
        "\n",
        "c = np.column_stack((a,b))\n",
        "c"
      ]
    },
    {
      "cell_type": "code",
      "execution_count": 12,
      "metadata": {
        "colab": {
          "base_uri": "https://localhost:8080/"
        },
        "id": "ON8ZP-4e1No4",
        "outputId": "8f05d1eb-b2e0-4203-a44e-79f451032e75"
      },
      "outputs": [
        {
          "output_type": "stream",
          "name": "stdout",
          "text": [
            "Arr 1 : \n",
            " [1 2 3]\n",
            "Arr 2 : \n",
            " [2 3 4]\n",
            "Arr 3 : \n",
            " [[10 20]\n",
            " [30 40]\n",
            " [50 60]]\n"
          ]
        },
        {
          "output_type": "execute_result",
          "data": {
            "text/plain": [
              "array([[ 1,  2, 10, 20],\n",
              "       [ 2,  3, 30, 40],\n",
              "       [ 3,  4, 50, 60]])"
            ]
          },
          "metadata": {},
          "execution_count": 12
        }
      ],
      "source": [
        "# Column stacking\n",
        "\n",
        "a = np.array([1,2,3])\n",
        "b = np.array([2,3,4])\n",
        "c = np.array([[10,20], [30, 40], [50, 60]])\n",
        "\n",
        "print('Arr 1 : \\n {}'.format(a))\n",
        "print('Arr 2 : \\n {}'.format(b))\n",
        "print('Arr 3 : \\n {}'.format(c))\n",
        "\n",
        "\n",
        "d = np.column_stack((a,b,c))\n",
        "d"
      ]
    }
  ],
  "metadata": {
    "kernelspec": {
      "display_name": "test_env_2",
      "language": "python",
      "name": "python3"
    },
    "language_info": {
      "codemirror_mode": {
        "name": "ipython",
        "version": 3
      },
      "file_extension": ".py",
      "mimetype": "text/x-python",
      "name": "python",
      "nbconvert_exporter": "python",
      "pygments_lexer": "ipython3",
      "version": "3.11.3"
    },
    "orig_nbformat": 4,
    "colab": {
      "provenance": [],
      "include_colab_link": true
    }
  },
  "nbformat": 4,
  "nbformat_minor": 0
}