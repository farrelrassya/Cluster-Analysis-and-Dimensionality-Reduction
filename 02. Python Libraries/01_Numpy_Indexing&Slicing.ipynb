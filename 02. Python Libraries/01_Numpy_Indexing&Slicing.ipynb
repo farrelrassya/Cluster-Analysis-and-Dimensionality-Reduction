{
  "cells": [
    {
      "cell_type": "markdown",
      "metadata": {
        "id": "view-in-github",
        "colab_type": "text"
      },
      "source": [
        "<a href=\"https://colab.research.google.com/github/farrelrassya/Cluster-Analysis-and-Dimensionality-Reduction/blob/main/02.%20Python%20Libraries/01_Numpy_Indexing%26Slicing.ipynb\" target=\"_parent\"><img src=\"https://colab.research.google.com/assets/colab-badge.svg\" alt=\"Open In Colab\"/></a>"
      ]
    },
    {
      "cell_type": "markdown",
      "metadata": {
        "id": "0v7jl1IfXS7Q"
      },
      "source": [
        "## Creating, slicing and modifying\n",
        "\n",
        "### Lecture agenda\n",
        "\n",
        "- Creating numpy arrays\n",
        "  \n",
        "- Slicing numpy arrays\n",
        "- Modifying numpy arrays\n",
        "- Searching for elements"
      ]
    },
    {
      "cell_type": "code",
      "execution_count": 1,
      "metadata": {
        "id": "i8ld_0gEXS7S"
      },
      "outputs": [],
      "source": [
        "import numpy as np"
      ]
    },
    {
      "cell_type": "markdown",
      "metadata": {
        "id": "0sOlBR_eXS7S"
      },
      "source": [
        "### Creating numpy arrays"
      ]
    },
    {
      "cell_type": "code",
      "execution_count": 2,
      "metadata": {
        "id": "MtFmzUOLXS7T",
        "outputId": "0144df70-b996-4803-a004-cdde2abeb96d",
        "colab": {
          "base_uri": "https://localhost:8080/"
        }
      },
      "outputs": [
        {
          "output_type": "stream",
          "name": "stdout",
          "text": [
            "[1 2 3 4 5]\n",
            "<class 'numpy.ndarray'>\n"
          ]
        }
      ],
      "source": [
        "# 1D array from a list\n",
        "arr1 = np.array([1,2,3,4,5])\n",
        "print(arr1)\n",
        "print(type(arr1))"
      ]
    },
    {
      "cell_type": "code",
      "execution_count": 3,
      "metadata": {
        "id": "mrQdSrkGXS7T",
        "outputId": "01dda77f-aab3-4482-9e76-e6e443263c18",
        "colab": {
          "base_uri": "https://localhost:8080/"
        }
      },
      "outputs": [
        {
          "output_type": "stream",
          "name": "stdout",
          "text": [
            "[[1 2 3]\n",
            " [4 5 6]]\n",
            "<class 'numpy.ndarray'>\n"
          ]
        }
      ],
      "source": [
        "# 2D array from a list\n",
        "arr2 = np.array([[1,2,3], [4,5,6]])\n",
        "print(arr2)\n",
        "print(type(arr2))"
      ]
    },
    {
      "cell_type": "code",
      "execution_count": 4,
      "metadata": {
        "id": "Dr0VNJDDXS7T",
        "outputId": "99f3c28c-06ff-4121-a421-9363c20b6f85",
        "colab": {
          "base_uri": "https://localhost:8080/"
        }
      },
      "outputs": [
        {
          "output_type": "stream",
          "name": "stdout",
          "text": [
            "(5,)\n",
            "(2, 3)\n"
          ]
        }
      ],
      "source": [
        "# Example attributes\n",
        "print(arr1.shape)\n",
        "print(arr2.shape)"
      ]
    },
    {
      "cell_type": "code",
      "execution_count": 5,
      "metadata": {
        "id": "zg-n9MnvXS7U",
        "outputId": "4355116c-3394-4843-f70b-42923b295462",
        "colab": {
          "base_uri": "https://localhost:8080/"
        }
      },
      "outputs": [
        {
          "output_type": "execute_result",
          "data": {
            "text/plain": [
              "array([[0., 0., 0., 0., 0.],\n",
              "       [0., 0., 0., 0., 0.],\n",
              "       [0., 0., 0., 0., 0.]])"
            ]
          },
          "metadata": {},
          "execution_count": 5
        }
      ],
      "source": [
        "# Array of zeros\n",
        "zero_arr = np.zeros(shape=(3,5))\n",
        "zero_arr"
      ]
    },
    {
      "cell_type": "code",
      "execution_count": 6,
      "metadata": {
        "id": "Ko_IDW06XS7U",
        "outputId": "427e054c-0d1d-4e2f-caf7-fec724cbf4a5",
        "colab": {
          "base_uri": "https://localhost:8080/"
        }
      },
      "outputs": [
        {
          "output_type": "execute_result",
          "data": {
            "text/plain": [
              "array([0., 0., 0.])"
            ]
          },
          "metadata": {},
          "execution_count": 6
        }
      ],
      "source": [
        "# Array of zeros\n",
        "zero_arr = np.zeros(shape=(3))\n",
        "zero_arr"
      ]
    },
    {
      "cell_type": "code",
      "execution_count": 7,
      "metadata": {
        "id": "GLV-w_HQXS7U",
        "outputId": "bb0593ff-a254-4514-ee51-2e41229263f6",
        "colab": {
          "base_uri": "https://localhost:8080/"
        }
      },
      "outputs": [
        {
          "output_type": "execute_result",
          "data": {
            "text/plain": [
              "array([[7, 7, 7, 7, 7],\n",
              "       [7, 7, 7, 7, 7],\n",
              "       [7, 7, 7, 7, 7]])"
            ]
          },
          "metadata": {},
          "execution_count": 7
        }
      ],
      "source": [
        "# Array containing a single unique value\n",
        "const_arr = np.full(shape=(3,5), fill_value=7)\n",
        "const_arr"
      ]
    },
    {
      "cell_type": "code",
      "execution_count": 8,
      "metadata": {
        "id": "0EPeP6HvXS7U",
        "outputId": "1118de7a-6eb3-4d67-b261-5bd71b6bea12",
        "colab": {
          "base_uri": "https://localhost:8080/"
        }
      },
      "outputs": [
        {
          "output_type": "execute_result",
          "data": {
            "text/plain": [
              "array([0, 1, 2, 3, 4, 5, 6, 7, 8, 9])"
            ]
          },
          "metadata": {},
          "execution_count": 8
        }
      ],
      "source": [
        "# Numpy arange\n",
        "arrange1 = np.arange(10)\n",
        "arrange1"
      ]
    },
    {
      "cell_type": "code",
      "execution_count": 9,
      "metadata": {
        "id": "Hj3Kms4sXS7V",
        "outputId": "c59f71ca-1cbd-4946-ee93-3dee48137fff",
        "colab": {
          "base_uri": "https://localhost:8080/"
        }
      },
      "outputs": [
        {
          "output_type": "execute_result",
          "data": {
            "text/plain": [
              "array([0. , 0.5, 1. , 1.5, 2. , 2.5, 3. , 3.5, 4. , 4.5, 5. , 5.5, 6. ,\n",
              "       6.5, 7. , 7.5, 8. , 8.5, 9. , 9.5])"
            ]
          },
          "metadata": {},
          "execution_count": 9
        }
      ],
      "source": [
        "# Create array based on\n",
        "# start, stop and step\n",
        "arrange1 = np.arange(0, 10, 0.5)\n",
        "arrange1"
      ]
    },
    {
      "cell_type": "code",
      "execution_count": 10,
      "metadata": {
        "id": "lX3pnU92XS7V",
        "outputId": "411d18a2-5dee-47a4-9ff4-e03ea7375314",
        "colab": {
          "base_uri": "https://localhost:8080/"
        }
      },
      "outputs": [
        {
          "output_type": "execute_result",
          "data": {
            "text/plain": [
              "array([[53, 17, 18, 34, 30, 76, 36,  8],\n",
              "       [27, 38, 28,  1, 93, 54,  0, 68],\n",
              "       [70, 66, 78,  2, 62, 42, 12, 70],\n",
              "       [15, 59, 85, 23, 22, 46, 56, 15],\n",
              "       [57, 34, 45, 30, 99, 23, 71, 26]])"
            ]
          },
          "metadata": {},
          "execution_count": 10
        }
      ],
      "source": [
        "# Random array\n",
        "rand_arr = np.random.randint(0, 100, (5, 8))\n",
        "rand_arr\n"
      ]
    },
    {
      "cell_type": "markdown",
      "metadata": {
        "id": "KTiiMzM_XS7V"
      },
      "source": [
        "### Slicing numpy arrays\n",
        "\n",
        "Slicing in NumPy is a way of accessing a subset of elements from a NumPy array."
      ]
    },
    {
      "cell_type": "markdown",
      "metadata": {
        "id": "76nV7cpuXS7V"
      },
      "source": [
        "##### 1D array"
      ]
    },
    {
      "cell_type": "code",
      "execution_count": 11,
      "metadata": {
        "id": "SqpekcezXS7W",
        "outputId": "981f457e-98d1-47f8-a136-cd5980c6e984",
        "colab": {
          "base_uri": "https://localhost:8080/"
        }
      },
      "outputs": [
        {
          "output_type": "execute_result",
          "data": {
            "text/plain": [
              "array([1, 2, 3, 4, 5])"
            ]
          },
          "metadata": {},
          "execution_count": 11
        }
      ],
      "source": [
        "arr1 = np.array([1,2,3,4,5])\n",
        "arr1"
      ]
    },
    {
      "cell_type": "code",
      "execution_count": 12,
      "metadata": {
        "id": "oD8tJF6jXS7W",
        "outputId": "f2961b49-e69c-4585-dd1c-f50f31952832",
        "colab": {
          "base_uri": "https://localhost:8080/"
        }
      },
      "outputs": [
        {
          "output_type": "execute_result",
          "data": {
            "text/plain": [
              "1"
            ]
          },
          "metadata": {},
          "execution_count": 12
        }
      ],
      "source": [
        "arr1[0]"
      ]
    },
    {
      "cell_type": "code",
      "execution_count": 13,
      "metadata": {
        "id": "fdUOwgmlXS7W",
        "outputId": "fcdac2ac-1bd8-4098-c5fa-146c674f59f6",
        "colab": {
          "base_uri": "https://localhost:8080/"
        }
      },
      "outputs": [
        {
          "output_type": "execute_result",
          "data": {
            "text/plain": [
              "3"
            ]
          },
          "metadata": {},
          "execution_count": 13
        }
      ],
      "source": [
        "arr1[2]"
      ]
    },
    {
      "cell_type": "code",
      "execution_count": 14,
      "metadata": {
        "id": "PuiaIVsMXS7W",
        "outputId": "0a68de19-bc21-47c7-bc87-019d534f4f4d",
        "colab": {
          "base_uri": "https://localhost:8080/"
        }
      },
      "outputs": [
        {
          "output_type": "execute_result",
          "data": {
            "text/plain": [
              "5"
            ]
          },
          "metadata": {},
          "execution_count": 14
        }
      ],
      "source": [
        "arr1[-1]"
      ]
    },
    {
      "cell_type": "code",
      "execution_count": 15,
      "metadata": {
        "id": "5YG_jXOwXS7W",
        "outputId": "f6f3f51f-4ff7-4d29-9e96-26b8cfa9e57e",
        "colab": {
          "base_uri": "https://localhost:8080/"
        }
      },
      "outputs": [
        {
          "output_type": "execute_result",
          "data": {
            "text/plain": [
              "array([3, 4])"
            ]
          },
          "metadata": {},
          "execution_count": 15
        }
      ],
      "source": [
        "arr1[2:4]"
      ]
    },
    {
      "cell_type": "code",
      "execution_count": 16,
      "metadata": {
        "id": "hBvFnZNUXS7W",
        "outputId": "7f512015-f0c6-4c1a-8e85-d5689b73d18d",
        "colab": {
          "base_uri": "https://localhost:8080/"
        }
      },
      "outputs": [
        {
          "output_type": "execute_result",
          "data": {
            "text/plain": [
              "array([1, 2, 3])"
            ]
          },
          "metadata": {},
          "execution_count": 16
        }
      ],
      "source": [
        "arr1[:3]"
      ]
    },
    {
      "cell_type": "code",
      "execution_count": 17,
      "metadata": {
        "id": "EqqNg7dfXS7W",
        "outputId": "faef7210-267f-43b6-840b-2f31842b5fae",
        "colab": {
          "base_uri": "https://localhost:8080/"
        }
      },
      "outputs": [
        {
          "output_type": "execute_result",
          "data": {
            "text/plain": [
              "array([3, 4, 5])"
            ]
          },
          "metadata": {},
          "execution_count": 17
        }
      ],
      "source": [
        "arr1[2:]"
      ]
    },
    {
      "cell_type": "code",
      "execution_count": 18,
      "metadata": {
        "id": "3rzEZH-1XS7W",
        "outputId": "6755d4d3-f939-4ed8-84c0-c21237e0ce37",
        "colab": {
          "base_uri": "https://localhost:8080/"
        }
      },
      "outputs": [
        {
          "output_type": "execute_result",
          "data": {
            "text/plain": [
              "array([2, 3])"
            ]
          },
          "metadata": {},
          "execution_count": 18
        }
      ],
      "source": [
        "arr1[1:-2]"
      ]
    },
    {
      "cell_type": "code",
      "execution_count": 19,
      "metadata": {
        "id": "dDpS-e1cXS7W",
        "outputId": "877c4698-2415-4b35-bcb5-f4b108d98f0e",
        "colab": {
          "base_uri": "https://localhost:8080/"
        }
      },
      "outputs": [
        {
          "output_type": "execute_result",
          "data": {
            "text/plain": [
              "array([1, 3])"
            ]
          },
          "metadata": {},
          "execution_count": 19
        }
      ],
      "source": [
        "# Slice with step\n",
        "arr1[0:4:2]"
      ]
    },
    {
      "cell_type": "code",
      "execution_count": 20,
      "metadata": {
        "id": "YC00O1QnXS7W",
        "outputId": "a4851d72-2e97-4b29-9d0f-f84ab26d13ce",
        "colab": {
          "base_uri": "https://localhost:8080/"
        }
      },
      "outputs": [
        {
          "output_type": "execute_result",
          "data": {
            "text/plain": [
              "array([1, 4])"
            ]
          },
          "metadata": {},
          "execution_count": 20
        }
      ],
      "source": [
        "# Slice with another numpy array\n",
        "idx_array = np.array([0, 3])\n",
        "arr1[idx_array]"
      ]
    },
    {
      "cell_type": "code",
      "execution_count": 21,
      "metadata": {
        "id": "I1818Jy3XS7W",
        "outputId": "dbda154e-4595-4cf6-8801-95f5e90d1752",
        "colab": {
          "base_uri": "https://localhost:8080/"
        }
      },
      "outputs": [
        {
          "output_type": "execute_result",
          "data": {
            "text/plain": [
              "array([1, 2, 3, 4, 5])"
            ]
          },
          "metadata": {},
          "execution_count": 21
        }
      ],
      "source": [
        "arr1"
      ]
    },
    {
      "cell_type": "code",
      "execution_count": 22,
      "metadata": {
        "id": "DHfgX_xPXS7X",
        "outputId": "c00b9ac0-0b14-4417-9e97-447ce2a00bf2",
        "colab": {
          "base_uri": "https://localhost:8080/"
        }
      },
      "outputs": [
        {
          "output_type": "execute_result",
          "data": {
            "text/plain": [
              "array([1, 2, 4, 5])"
            ]
          },
          "metadata": {},
          "execution_count": 22
        }
      ],
      "source": [
        "# Slice using boolean array\n",
        "bool_arr = np.array([True, True, False, True, True])\n",
        "arr1[bool_arr]"
      ]
    },
    {
      "cell_type": "markdown",
      "metadata": {
        "id": "LUOus6BnXS7X"
      },
      "source": [
        "##### 2D arrays"
      ]
    },
    {
      "cell_type": "code",
      "execution_count": 23,
      "metadata": {
        "id": "tyCYM0CJXS7X",
        "outputId": "5fd0313f-202e-4de5-d288-1c11d77a2932",
        "colab": {
          "base_uri": "https://localhost:8080/"
        }
      },
      "outputs": [
        {
          "output_type": "execute_result",
          "data": {
            "text/plain": [
              "array([[32, 12, 76, 66,  4, 88, 72, 70],\n",
              "       [14, 14, 50, 25, 90, 32, 63, 97],\n",
              "       [44, 46, 43, 48, 31, 64, 50, 23],\n",
              "       [88, 83, 83, 98, 92, 25, 13, 88],\n",
              "       [92, 97, 65, 73, 66, 62, 93, 56]])"
            ]
          },
          "metadata": {},
          "execution_count": 23
        }
      ],
      "source": [
        "# Random array\n",
        "rand_arr = np.random.randint(0, 100, (5, 8))\n",
        "rand_arr"
      ]
    },
    {
      "cell_type": "code",
      "execution_count": 24,
      "metadata": {
        "id": "oC8qnW3cXS7X",
        "outputId": "cd8cbe57-42c7-4c5b-9b82-90de1d63bf83",
        "colab": {
          "base_uri": "https://localhost:8080/"
        }
      },
      "outputs": [
        {
          "output_type": "execute_result",
          "data": {
            "text/plain": [
              "66"
            ]
          },
          "metadata": {},
          "execution_count": 24
        }
      ],
      "source": [
        "# Get single element\n",
        "rand_arr[0, 3]"
      ]
    },
    {
      "cell_type": "code",
      "execution_count": 25,
      "metadata": {
        "id": "67x_MMaRXS7X",
        "outputId": "eda110ab-bb23-407d-961e-839803d7506b",
        "colab": {
          "base_uri": "https://localhost:8080/"
        }
      },
      "outputs": [
        {
          "output_type": "execute_result",
          "data": {
            "text/plain": [
              "array([44, 46, 43, 48, 31, 64, 50, 23])"
            ]
          },
          "metadata": {},
          "execution_count": 25
        }
      ],
      "source": [
        "# Get single row\n",
        "rand_arr[2, :]"
      ]
    },
    {
      "cell_type": "code",
      "execution_count": 26,
      "metadata": {
        "id": "aYiM8o5yXS7X",
        "outputId": "5173c132-ffa6-4bc5-8e84-056f900e8d17",
        "colab": {
          "base_uri": "https://localhost:8080/"
        }
      },
      "outputs": [
        {
          "output_type": "execute_result",
          "data": {
            "text/plain": [
              "array([[44, 46, 43, 48, 31, 64, 50, 23],\n",
              "       [88, 83, 83, 98, 92, 25, 13, 88]])"
            ]
          },
          "metadata": {},
          "execution_count": 26
        }
      ],
      "source": [
        "# Get multiple rows\n",
        "rand_arr[2:4, :]"
      ]
    },
    {
      "cell_type": "code",
      "execution_count": 27,
      "metadata": {
        "id": "olOMxhOwXS7X",
        "outputId": "e7dac222-c818-4c91-c414-a402e7e7727f",
        "colab": {
          "base_uri": "https://localhost:8080/"
        }
      },
      "outputs": [
        {
          "output_type": "execute_result",
          "data": {
            "text/plain": [
              "array([44, 46, 43, 48, 31, 64, 50, 23])"
            ]
          },
          "metadata": {},
          "execution_count": 27
        }
      ],
      "source": [
        "# Get single row\n",
        "rand_arr[2]"
      ]
    },
    {
      "cell_type": "code",
      "execution_count": 28,
      "metadata": {
        "id": "nDhPMXh6XS7X",
        "outputId": "c20b8a66-2c53-49f6-aba0-adfdc9ff855e",
        "colab": {
          "base_uri": "https://localhost:8080/"
        }
      },
      "outputs": [
        {
          "output_type": "execute_result",
          "data": {
            "text/plain": [
              "array([[44, 46, 43, 48, 31, 64, 50, 23],\n",
              "       [88, 83, 83, 98, 92, 25, 13, 88]])"
            ]
          },
          "metadata": {},
          "execution_count": 28
        }
      ],
      "source": [
        "# Get multiple rows\n",
        "rand_arr[2:4]"
      ]
    },
    {
      "cell_type": "code",
      "execution_count": 29,
      "metadata": {
        "id": "G5IFvTWGXS7X",
        "outputId": "cc4bea63-3fd0-427f-dda3-455891f0f845",
        "colab": {
          "base_uri": "https://localhost:8080/"
        }
      },
      "outputs": [
        {
          "output_type": "execute_result",
          "data": {
            "text/plain": [
              "array([[32, 12, 76, 66,  4, 88, 72, 70],\n",
              "       [14, 14, 50, 25, 90, 32, 63, 97],\n",
              "       [44, 46, 43, 48, 31, 64, 50, 23],\n",
              "       [88, 83, 83, 98, 92, 25, 13, 88],\n",
              "       [92, 97, 65, 73, 66, 62, 93, 56]])"
            ]
          },
          "metadata": {},
          "execution_count": 29
        }
      ],
      "source": [
        "rand_arr"
      ]
    },
    {
      "cell_type": "code",
      "execution_count": 30,
      "metadata": {
        "id": "nSWOEiI4XS7Y",
        "outputId": "781cad73-3405-49d9-8fcb-9f9b66b85d4c",
        "colab": {
          "base_uri": "https://localhost:8080/"
        }
      },
      "outputs": [
        {
          "output_type": "execute_result",
          "data": {
            "text/plain": [
              "array([76, 50, 43, 83, 65])"
            ]
          },
          "metadata": {},
          "execution_count": 30
        }
      ],
      "source": [
        "# Get single column\n",
        "rand_arr[:, 2]"
      ]
    },
    {
      "cell_type": "code",
      "execution_count": 31,
      "metadata": {
        "id": "3z14P_77XS7Y",
        "outputId": "4d5cfb1a-3fd2-4f2f-87a4-448cabb5ba85",
        "colab": {
          "base_uri": "https://localhost:8080/"
        }
      },
      "outputs": [
        {
          "output_type": "execute_result",
          "data": {
            "text/plain": [
              "array([[76, 66],\n",
              "       [50, 25],\n",
              "       [43, 48],\n",
              "       [83, 98],\n",
              "       [65, 73]])"
            ]
          },
          "metadata": {},
          "execution_count": 31
        }
      ],
      "source": [
        "# Get multiple cols\n",
        "rand_arr[:, 2:4]"
      ]
    },
    {
      "cell_type": "code",
      "execution_count": 32,
      "metadata": {
        "id": "m9E8F9xaXS7Y",
        "outputId": "9ca8c29f-15c8-4d45-dca2-4ce82af48799",
        "colab": {
          "base_uri": "https://localhost:8080/"
        }
      },
      "outputs": [
        {
          "output_type": "execute_result",
          "data": {
            "text/plain": [
              "array([[25, 90],\n",
              "       [48, 31],\n",
              "       [98, 92]])"
            ]
          },
          "metadata": {},
          "execution_count": 32
        }
      ],
      "source": [
        "# Slice based on rows and cols\n",
        "rand_arr[1:4, 3:5]"
      ]
    },
    {
      "cell_type": "code",
      "execution_count": 33,
      "metadata": {
        "id": "5IbtQ44mXS7Y",
        "outputId": "6565e82a-ea7d-4e8f-e1ba-db8aa18c2650",
        "colab": {
          "base_uri": "https://localhost:8080/"
        }
      },
      "outputs": [
        {
          "output_type": "execute_result",
          "data": {
            "text/plain": [
              "array([[32, 76],\n",
              "       [44, 43],\n",
              "       [92, 65]])"
            ]
          },
          "metadata": {},
          "execution_count": 33
        }
      ],
      "source": [
        "# Slice based on rows and cols and step\n",
        "rand_arr[0:5:2, 0:4:2]"
      ]
    },
    {
      "cell_type": "code",
      "execution_count": 34,
      "metadata": {
        "id": "BNngzEAdXS7Y"
      },
      "outputs": [],
      "source": [
        "# Slice based on other numpy arrays\n",
        "row_idx = np.array([0, 3])\n",
        "col_idx = np.array([0,1])"
      ]
    },
    {
      "cell_type": "code",
      "execution_count": 35,
      "metadata": {
        "id": "WXYtUQPTXS7Y",
        "outputId": "a22749a9-8fce-4f83-d19c-724e355154b8",
        "colab": {
          "base_uri": "https://localhost:8080/"
        }
      },
      "outputs": [
        {
          "output_type": "execute_result",
          "data": {
            "text/plain": [
              "array([[32, 12, 76, 66,  4, 88, 72, 70],\n",
              "       [14, 14, 50, 25, 90, 32, 63, 97],\n",
              "       [44, 46, 43, 48, 31, 64, 50, 23],\n",
              "       [88, 83, 83, 98, 92, 25, 13, 88],\n",
              "       [92, 97, 65, 73, 66, 62, 93, 56]])"
            ]
          },
          "metadata": {},
          "execution_count": 35
        }
      ],
      "source": [
        "rand_arr"
      ]
    },
    {
      "cell_type": "code",
      "execution_count": 36,
      "metadata": {
        "id": "48Me-oVFXS7Z",
        "outputId": "4bce1d29-0df3-471d-dcec-d6d64e8bdf56",
        "colab": {
          "base_uri": "https://localhost:8080/"
        }
      },
      "outputs": [
        {
          "output_type": "execute_result",
          "data": {
            "text/plain": [
              "array([[32, 12, 76, 66,  4, 88, 72, 70],\n",
              "       [88, 83, 83, 98, 92, 25, 13, 88]])"
            ]
          },
          "metadata": {},
          "execution_count": 36
        }
      ],
      "source": [
        "# Get rows\n",
        "rand_arr[row_idx]"
      ]
    },
    {
      "cell_type": "code",
      "execution_count": 37,
      "metadata": {
        "id": "MSt1FKCPXS7Z",
        "outputId": "0d4ee93b-e61a-4193-8987-c8be976b5559",
        "colab": {
          "base_uri": "https://localhost:8080/"
        }
      },
      "outputs": [
        {
          "output_type": "execute_result",
          "data": {
            "text/plain": [
              "array([[32, 12, 76, 66,  4, 88, 72, 70],\n",
              "       [88, 83, 83, 98, 92, 25, 13, 88]])"
            ]
          },
          "metadata": {},
          "execution_count": 37
        }
      ],
      "source": [
        "# Get rows\n",
        "rand_arr[row_idx, :]"
      ]
    },
    {
      "cell_type": "code",
      "execution_count": 38,
      "metadata": {
        "id": "b6-zz3ojXS7Z",
        "outputId": "3debed5d-5297-4ebf-d692-b1740073cfc9",
        "colab": {
          "base_uri": "https://localhost:8080/"
        }
      },
      "outputs": [
        {
          "output_type": "execute_result",
          "data": {
            "text/plain": [
              "array([0, 1])"
            ]
          },
          "metadata": {},
          "execution_count": 38
        }
      ],
      "source": [
        "col_idx"
      ]
    },
    {
      "cell_type": "code",
      "execution_count": 39,
      "metadata": {
        "id": "_94V8xd4XS7Z",
        "outputId": "f8fe8e0b-322a-43d0-f02c-5482c9fbb695",
        "colab": {
          "base_uri": "https://localhost:8080/"
        }
      },
      "outputs": [
        {
          "output_type": "execute_result",
          "data": {
            "text/plain": [
              "array([[32, 12],\n",
              "       [14, 14],\n",
              "       [44, 46],\n",
              "       [88, 83],\n",
              "       [92, 97]])"
            ]
          },
          "metadata": {},
          "execution_count": 39
        }
      ],
      "source": [
        "# Get cols\n",
        "rand_arr[: ,col_idx]"
      ]
    },
    {
      "cell_type": "code",
      "execution_count": 40,
      "metadata": {
        "id": "rtp2l0UQXS7Z",
        "outputId": "fce2fdd4-6dda-4c83-966f-82744a3731a4",
        "colab": {
          "base_uri": "https://localhost:8080/"
        }
      },
      "outputs": [
        {
          "output_type": "execute_result",
          "data": {
            "text/plain": [
              "array([[32, 12],\n",
              "       [88, 83]])"
            ]
          },
          "metadata": {},
          "execution_count": 40
        }
      ],
      "source": [
        "# Get intersection of rows and cols\n",
        "rand_arr[row_idx, :][:, col_idx]"
      ]
    },
    {
      "cell_type": "code",
      "execution_count": 41,
      "metadata": {
        "id": "2xotG_36XS7Z",
        "outputId": "ac0b577e-672d-4209-897c-a196a681de4d",
        "colab": {
          "base_uri": "https://localhost:8080/"
        }
      },
      "outputs": [
        {
          "output_type": "execute_result",
          "data": {
            "text/plain": [
              "array([[32, 12],\n",
              "       [88, 83]])"
            ]
          },
          "metadata": {},
          "execution_count": 41
        }
      ],
      "source": [
        "# Another way\n",
        "rand_arr[np.ix_(row_idx, col_idx)]"
      ]
    },
    {
      "cell_type": "markdown",
      "metadata": {
        "id": "fClMtmaFXS7Z"
      },
      "source": [
        "##### Slicing based on boolean expressions"
      ]
    },
    {
      "cell_type": "code",
      "execution_count": 42,
      "metadata": {
        "id": "XsheLuPhXS7Z",
        "outputId": "208bfe52-b55d-4ef9-dea4-fdee583d82d5",
        "colab": {
          "base_uri": "https://localhost:8080/"
        }
      },
      "outputs": [
        {
          "output_type": "execute_result",
          "data": {
            "text/plain": [
              "array([[32, 12, 76, 66,  4, 88, 72, 70],\n",
              "       [14, 14, 50, 25, 90, 32, 63, 97],\n",
              "       [44, 46, 43, 48, 31, 64, 50, 23],\n",
              "       [88, 83, 83, 98, 92, 25, 13, 88],\n",
              "       [92, 97, 65, 73, 66, 62, 93, 56]])"
            ]
          },
          "metadata": {},
          "execution_count": 42
        }
      ],
      "source": [
        "rand_arr"
      ]
    },
    {
      "cell_type": "code",
      "execution_count": 43,
      "metadata": {
        "id": "Ky4Ww5L5XS7Z"
      },
      "outputs": [],
      "source": [
        "row_bool = np.array([True, True, False, False, False])\n",
        "cool_bool = np.array([True, True, False, False, False, False, False, False])"
      ]
    },
    {
      "cell_type": "code",
      "execution_count": 44,
      "metadata": {
        "id": "crW9rsG4XS7a",
        "outputId": "2fb848a9-4d50-4192-ef8d-aca70f6b1c07",
        "colab": {
          "base_uri": "https://localhost:8080/"
        }
      },
      "outputs": [
        {
          "output_type": "execute_result",
          "data": {
            "text/plain": [
              "array([[32, 12],\n",
              "       [14, 14]])"
            ]
          },
          "metadata": {},
          "execution_count": 44
        }
      ],
      "source": [
        "rand_arr[row_bool, :][:, cool_bool]"
      ]
    },
    {
      "cell_type": "code",
      "execution_count": 45,
      "metadata": {
        "id": "YIf4vm6oXS7a",
        "outputId": "ed48d428-7d3b-447a-bcfa-a0e62cb6a24c",
        "colab": {
          "base_uri": "https://localhost:8080/"
        }
      },
      "outputs": [
        {
          "output_type": "execute_result",
          "data": {
            "text/plain": [
              "array([[32, 12],\n",
              "       [14, 14]])"
            ]
          },
          "metadata": {},
          "execution_count": 45
        }
      ],
      "source": [
        "rand_arr[(np.ix_(row_bool, cool_bool))]"
      ]
    },
    {
      "cell_type": "code",
      "execution_count": 46,
      "metadata": {
        "id": "4Q3vxfDJXS7a",
        "outputId": "6a6fef2e-eee1-4f61-8375-cb4a68b040d3",
        "colab": {
          "base_uri": "https://localhost:8080/"
        }
      },
      "outputs": [
        {
          "output_type": "execute_result",
          "data": {
            "text/plain": [
              "array([[32, 12],\n",
              "       [14, 14]])"
            ]
          },
          "metadata": {},
          "execution_count": 46
        }
      ],
      "source": [
        "rand_arr[:2, cool_bool]"
      ]
    },
    {
      "cell_type": "code",
      "execution_count": 47,
      "metadata": {
        "id": "Eq2tXw_PXS7a",
        "outputId": "353ead7b-4acb-4923-d3b3-abcc46df9321",
        "colab": {
          "base_uri": "https://localhost:8080/"
        }
      },
      "outputs": [
        {
          "output_type": "execute_result",
          "data": {
            "text/plain": [
              "array([[ True,  True,  True,  True, False,  True,  True,  True],\n",
              "       [ True,  True,  True,  True,  True,  True,  True,  True],\n",
              "       [ True,  True,  True,  True,  True,  True,  True,  True],\n",
              "       [ True,  True,  True,  True,  True,  True,  True,  True],\n",
              "       [ True,  True,  True,  True,  True,  True,  True,  True]])"
            ]
          },
          "metadata": {},
          "execution_count": 47
        }
      ],
      "source": [
        "# We can use this for masking\n",
        "mask = rand_arr > 5\n",
        "mask"
      ]
    },
    {
      "cell_type": "code",
      "execution_count": 48,
      "metadata": {
        "id": "f2RKQUx7XS7a",
        "outputId": "392aab50-b1fb-4299-b412-3f9ddd7de85c",
        "colab": {
          "base_uri": "https://localhost:8080/"
        }
      },
      "outputs": [
        {
          "output_type": "execute_result",
          "data": {
            "text/plain": [
              "array([32, 12, 76, 66, 88, 72, 70, 14, 14, 50, 25, 90, 32, 63, 97, 44, 46,\n",
              "       43, 48, 31, 64, 50, 23, 88, 83, 83, 98, 92, 25, 13, 88, 92, 97, 65,\n",
              "       73, 66, 62, 93, 56])"
            ]
          },
          "metadata": {},
          "execution_count": 48
        }
      ],
      "source": [
        "rand_arr[mask]"
      ]
    },
    {
      "cell_type": "code",
      "execution_count": 49,
      "metadata": {
        "id": "3bmLytm1XS7a",
        "outputId": "58a510be-b4e2-4547-9481-5ffa096d86cc",
        "colab": {
          "base_uri": "https://localhost:8080/"
        }
      },
      "outputs": [
        {
          "output_type": "execute_result",
          "data": {
            "text/plain": [
              "array([32, 12, 76, 66, 88, 72, 70, 14, 14, 50, 25, 90, 32, 63, 97, 44, 46,\n",
              "       43, 48, 31, 64, 50, 23, 88, 83, 83, 98, 92, 25, 13, 88, 92, 97, 65,\n",
              "       73, 66, 62, 93, 56])"
            ]
          },
          "metadata": {},
          "execution_count": 49
        }
      ],
      "source": [
        "# Shorter notation\n",
        "rand_arr[rand_arr > 5]"
      ]
    },
    {
      "cell_type": "markdown",
      "metadata": {
        "id": "HLlXx96HXS7a"
      },
      "source": [
        "### Modifying numpy arrays"
      ]
    },
    {
      "cell_type": "code",
      "execution_count": 50,
      "metadata": {
        "id": "kSIh8qyGXS7a",
        "outputId": "943954ed-cb95-49de-f8ff-6eeb07836649",
        "colab": {
          "base_uri": "https://localhost:8080/"
        }
      },
      "outputs": [
        {
          "output_type": "execute_result",
          "data": {
            "text/plain": [
              "array([[70, 11, 69, 93],\n",
              "       [10, 47, 30, 33],\n",
              "       [83, 30, 52, 33]])"
            ]
          },
          "metadata": {},
          "execution_count": 50
        }
      ],
      "source": [
        "eg_arr = np.random.randint(0, 100, (3, 4))\n",
        "eg_arr"
      ]
    },
    {
      "cell_type": "code",
      "execution_count": 51,
      "metadata": {
        "id": "0TTI_YjZXS7a",
        "outputId": "0317442e-d99c-4533-b580-56eaa99b4a2a",
        "colab": {
          "base_uri": "https://localhost:8080/"
        }
      },
      "outputs": [
        {
          "output_type": "execute_result",
          "data": {
            "text/plain": [
              "array([[10, 11, 69, 93],\n",
              "       [10, 47, 30, 33],\n",
              "       [83, 30, 52, 33]])"
            ]
          },
          "metadata": {},
          "execution_count": 51
        }
      ],
      "source": [
        "# Modifying single element\n",
        "eg_arr[0,0] = 10\n",
        "eg_arr"
      ]
    },
    {
      "cell_type": "code",
      "execution_count": 52,
      "metadata": {
        "id": "l2zvDer5XS7a",
        "outputId": "dcb50264-3e88-452f-c598-e3d192aba407",
        "colab": {
          "base_uri": "https://localhost:8080/"
        }
      },
      "outputs": [
        {
          "output_type": "execute_result",
          "data": {
            "text/plain": [
              "array([[ 100, 1000,  500,  900],\n",
              "       [  10,   47,   30,   33],\n",
              "       [  83,   30,   52,   33]])"
            ]
          },
          "metadata": {},
          "execution_count": 52
        }
      ],
      "source": [
        "# Modifying row\n",
        "eg_arr[0, :] = np.array([100, 1000, 500, 900])\n",
        "eg_arr"
      ]
    },
    {
      "cell_type": "code",
      "execution_count": 53,
      "metadata": {
        "id": "2470XnCDXS7a",
        "outputId": "c3700d30-b322-4965-cb8d-e3a1afe3bcdb",
        "colab": {
          "base_uri": "https://localhost:8080/"
        }
      },
      "outputs": [
        {
          "output_type": "execute_result",
          "data": {
            "text/plain": [
              "array([[ 100, 1000,  500, 1900],\n",
              "       [  10,   47,   30,   33],\n",
              "       [  83,   30,   52,   33]])"
            ]
          },
          "metadata": {},
          "execution_count": 53
        }
      ],
      "source": [
        "# Modifying row\n",
        "eg_arr[0, :] = np.array([[100, 1000, 500, 1900]])\n",
        "eg_arr"
      ]
    },
    {
      "cell_type": "code",
      "execution_count": 54,
      "metadata": {
        "id": "_DvA3LslXS7b",
        "outputId": "4d42aeb9-21d3-4782-e9b8-2cea2aa2712f",
        "colab": {
          "base_uri": "https://localhost:8080/"
        }
      },
      "outputs": [
        {
          "output_type": "execute_result",
          "data": {
            "text/plain": [
              "array([[  100,  1000,   500,   -10],\n",
              "       [   10,    47,    30, -1000],\n",
              "       [   83,    30,    52,     9]])"
            ]
          },
          "metadata": {},
          "execution_count": 54
        }
      ],
      "source": [
        "# Modifying column\n",
        "eg_arr[:, -1] = np.array([-10, -1000, 9])\n",
        "eg_arr"
      ]
    },
    {
      "cell_type": "code",
      "execution_count": 55,
      "metadata": {
        "id": "nUzUWYJtXS7b",
        "outputId": "3f04f205-03b6-43af-d927-8a7aede86959",
        "colab": {
          "base_uri": "https://localhost:8080/"
        }
      },
      "outputs": [
        {
          "output_type": "execute_result",
          "data": {
            "text/plain": [
              "array([[  100,  1000,   500,   -10],\n",
              "       [   10,   222,   222, -1000],\n",
              "       [   83,   222,   222,     9]])"
            ]
          },
          "metadata": {},
          "execution_count": 55
        }
      ],
      "source": [
        "# Modify slice\n",
        "eg_arr[1:3, 1:3] = 222\n",
        "eg_arr"
      ]
    },
    {
      "cell_type": "code",
      "execution_count": 56,
      "metadata": {
        "id": "fs8rIR-yXS7b",
        "outputId": "89054c85-8f6f-4ebd-feba-3132c0d8593b",
        "colab": {
          "base_uri": "https://localhost:8080/"
        }
      },
      "outputs": [
        {
          "output_type": "execute_result",
          "data": {
            "text/plain": [
              "array([[  100,  1000,   500,   -10],\n",
              "       [   10,  1000,  2000, -1000],\n",
              "       [   83,  3000,  4000,     9]])"
            ]
          },
          "metadata": {},
          "execution_count": 56
        }
      ],
      "source": [
        "# Modify slice\n",
        "eg_arr[1:3, 1:3] = np.array([[1000, 2000], [3000, 4000]])\n",
        "eg_arr"
      ]
    },
    {
      "cell_type": "code",
      "execution_count": 57,
      "metadata": {
        "id": "ouaebNz_XS7b",
        "outputId": "f78603bc-9e4f-4005-d67f-28e27f299ada",
        "colab": {
          "base_uri": "https://localhost:8080/"
        }
      },
      "outputs": [
        {
          "output_type": "execute_result",
          "data": {
            "text/plain": [
              "array([[  -17,  1000,   500,   -17],\n",
              "       [   10,  1000,  2000, -1000],\n",
              "       [  -17,  3000,  4000,   -17]])"
            ]
          },
          "metadata": {},
          "execution_count": 57
        }
      ],
      "source": [
        "# Modify based on index arrays\n",
        "row_idx = np.array([0,2])\n",
        "col_idx = np.array([0,3])\n",
        "eg_arr[np.ix_(row_idx, col_idx)] = -17\n",
        "eg_arr"
      ]
    },
    {
      "cell_type": "code",
      "execution_count": 58,
      "metadata": {
        "id": "CNdIDS2DXS7b",
        "outputId": "5133ca28-1c7c-4ea9-96d3-9cce562037d0",
        "colab": {
          "base_uri": "https://localhost:8080/"
        }
      },
      "outputs": [
        {
          "output_type": "execute_result",
          "data": {
            "text/plain": [
              "array([[   0, 1000,  500,    0],\n",
              "       [  10, 1000, 2000,    0],\n",
              "       [   0, 3000, 4000,    0]])"
            ]
          },
          "metadata": {},
          "execution_count": 58
        }
      ],
      "source": [
        "# Modify based on boolean expression\n",
        "eg_arr[eg_arr < 0] = 0\n",
        "eg_arr"
      ]
    },
    {
      "cell_type": "markdown",
      "metadata": {
        "id": "5Mz5025wXS7b"
      },
      "source": [
        "### Searching for elements"
      ]
    },
    {
      "cell_type": "code",
      "execution_count": 59,
      "metadata": {
        "id": "qiCPfrv0XS7b",
        "outputId": "41243cd4-f166-4d49-c67e-d05a46c6db72",
        "colab": {
          "base_uri": "https://localhost:8080/"
        }
      },
      "outputs": [
        {
          "output_type": "execute_result",
          "data": {
            "text/plain": [
              "array([[85, 26, 51, 20, 19, 78, 61, 89],\n",
              "       [89, 26, 81, 29, 51, 55, 46, 38],\n",
              "       [39,  2, 74, 20, 85, 93, 76, 54],\n",
              "       [40, 54, 64, 92, 43, 19,  1, 11],\n",
              "       [45, 19, 56, 71, 29, 60, 63, 34]])"
            ]
          },
          "metadata": {},
          "execution_count": 59
        }
      ],
      "source": [
        "rand_arr = np.random.randint(0, 100, (5, 8))\n",
        "rand_arr"
      ]
    },
    {
      "cell_type": "code",
      "execution_count": 60,
      "metadata": {
        "id": "8QusZnx8XS7b",
        "outputId": "59018b2d-e798-42f7-cc0f-b3bc2f822009",
        "colab": {
          "base_uri": "https://localhost:8080/"
        }
      },
      "outputs": [
        {
          "output_type": "execute_result",
          "data": {
            "text/plain": [
              "(array([0, 0, 0, 0, 0, 0, 0, 0, 1, 1, 1, 1, 1, 1, 1, 1, 2, 2, 2, 2, 2, 2,\n",
              "        2, 3, 3, 3, 3, 3, 3, 3, 4, 4, 4, 4, 4, 4, 4, 4]),\n",
              " array([0, 1, 2, 3, 4, 5, 6, 7, 0, 1, 2, 3, 4, 5, 6, 7, 0, 2, 3, 4, 5, 6,\n",
              "        7, 0, 1, 2, 3, 4, 5, 7, 0, 1, 2, 3, 4, 5, 6, 7]))"
            ]
          },
          "metadata": {},
          "execution_count": 60
        }
      ],
      "source": [
        "# Find index of elements according to condition\n",
        "np.where(rand_arr > 5)"
      ]
    },
    {
      "cell_type": "code",
      "execution_count": 61,
      "metadata": {
        "id": "C9oBknIzXS7b",
        "outputId": "da04446b-dd6a-4458-c119-da751e618713",
        "colab": {
          "base_uri": "https://localhost:8080/"
        }
      },
      "outputs": [
        {
          "output_type": "execute_result",
          "data": {
            "text/plain": [
              "array([ 1,  2, 11, 19, 20, 26, 29, 34, 38, 39, 40, 43, 45, 46, 51, 54, 55,\n",
              "       56, 60, 61, 63, 64, 71, 74, 76, 78, 81, 85, 89, 92, 93])"
            ]
          },
          "metadata": {},
          "execution_count": 61
        }
      ],
      "source": [
        "# Unique elements\n",
        "np.unique(rand_arr)"
      ]
    },
    {
      "cell_type": "code",
      "execution_count": 62,
      "metadata": {
        "id": "cvIV-eJfXS7b",
        "outputId": "ce735069-0b61-4b95-dc39-eb02f0186a8c",
        "colab": {
          "base_uri": "https://localhost:8080/"
        }
      },
      "outputs": [
        {
          "output_type": "execute_result",
          "data": {
            "text/plain": [
              "(array([ 1,  2, 11, 19, 20, 26, 29, 34, 38, 39, 40, 43, 45, 46, 51, 54, 55,\n",
              "        56, 60, 61, 63, 64, 71, 74, 76, 78, 81, 85, 89, 92, 93]),\n",
              " array([1, 1, 1, 3, 2, 2, 2, 1, 1, 1, 1, 1, 1, 1, 2, 2, 1, 1, 1, 1, 1, 1,\n",
              "        1, 1, 1, 1, 1, 2, 2, 1, 1]))"
            ]
          },
          "metadata": {},
          "execution_count": 62
        }
      ],
      "source": [
        "# Unique elements\n",
        "np.unique(rand_arr, return_counts=True)"
      ]
    }
  ],
  "metadata": {
    "kernelspec": {
      "display_name": "test_env_2",
      "language": "python",
      "name": "python3"
    },
    "language_info": {
      "codemirror_mode": {
        "name": "ipython",
        "version": 3
      },
      "file_extension": ".py",
      "mimetype": "text/x-python",
      "name": "python",
      "nbconvert_exporter": "python",
      "pygments_lexer": "ipython3",
      "version": "3.11.3"
    },
    "orig_nbformat": 4,
    "colab": {
      "provenance": [],
      "include_colab_link": true
    }
  },
  "nbformat": 4,
  "nbformat_minor": 0
}