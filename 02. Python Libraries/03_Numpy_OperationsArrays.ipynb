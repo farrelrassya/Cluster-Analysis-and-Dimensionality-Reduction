{
  "cells": [
    {
      "cell_type": "markdown",
      "metadata": {
        "id": "view-in-github",
        "colab_type": "text"
      },
      "source": [
        "<a href=\"https://colab.research.google.com/github/farrelrassya/Cluster-Analysis-and-Dimensionality-Reduction/blob/main/02.%20Python%20Libraries/03_Numpy_OperationsArrays.ipynb\" target=\"_parent\"><img src=\"https://colab.research.google.com/assets/colab-badge.svg\" alt=\"Open In Colab\"/></a>"
      ]
    },
    {
      "cell_type": "markdown",
      "metadata": {
        "id": "YFnVopw6JyqG"
      },
      "source": [
        "## Operations between numpy arrays\n",
        "\n",
        "### Operations between numpy arrays having same shape"
      ]
    },
    {
      "cell_type": "code",
      "execution_count": 1,
      "metadata": {
        "id": "Q8k9yZP3JyqH"
      },
      "outputs": [],
      "source": [
        "import numpy as np"
      ]
    },
    {
      "cell_type": "code",
      "execution_count": 2,
      "metadata": {
        "colab": {
          "base_uri": "https://localhost:8080/"
        },
        "id": "Jy9q3j7dJyqI",
        "outputId": "12f9cefb-e8f0-461f-db95-7ad7115d5d4f"
      },
      "outputs": [
        {
          "output_type": "stream",
          "name": "stdout",
          "text": [
            "Addition: [ 7  9 11 13 15 17 20]\n",
            "Subtraction: [5 5 5 5 5 5 4]\n",
            "Multiplication: [ 6 14 24 36 50 66 96]\n",
            "Division: [6.         3.5        2.66666667 2.25       2.         1.83333333\n",
            " 1.5       ]\n"
          ]
        }
      ],
      "source": [
        "# 1D case\n",
        "\n",
        "arr1 = np.array([1, 2, 3, 4, 5, 6, 8])\n",
        "arr2 = np.array([6, 7, 8, 9, 10, 11,12])\n",
        "\n",
        "# Addition\n",
        "print(\"Addition:\", arr1 + arr2)\n",
        "\n",
        "# Subtraction\n",
        "print(\"Subtraction:\", arr2 - arr1)\n",
        "\n",
        "# Multiplication\n",
        "print(\"Multiplication:\", arr1 * arr2)\n",
        "\n",
        "# Division\n",
        "print(\"Division:\", arr2 / arr1)"
      ]
    },
    {
      "cell_type": "code",
      "execution_count": 3,
      "metadata": {
        "colab": {
          "base_uri": "https://localhost:8080/"
        },
        "id": "pBZIiEhmJyqI",
        "outputId": "1d458d0b-517b-4459-8622-f6dd3b1cddd2"
      },
      "outputs": [
        {
          "output_type": "stream",
          "name": "stdout",
          "text": [
            "Addition:\n",
            " [[ 8 10 12]\n",
            " [14 16 18]]\n",
            "Subtraction:\n",
            " [[6 6 6]\n",
            " [6 6 6]]\n",
            "Multiplication:\n",
            " [[ 7 16 27]\n",
            " [40 55 72]]\n",
            "Division:\n",
            " [[7.  4.  3. ]\n",
            " [2.5 2.2 2. ]]\n"
          ]
        }
      ],
      "source": [
        "# 2D case\n",
        "\n",
        "arr1 = np.array([[1, 2, 3], [4, 5, 6]])\n",
        "arr2 = np.array([[7, 8, 9], [10, 11, 12]])\n",
        "\n",
        "# Addition\n",
        "print(\"Addition:\\n\", arr1 + arr2)\n",
        "\n",
        "# Subtraction\n",
        "print(\"Subtraction:\\n\", arr2 - arr1)\n",
        "\n",
        "# Multiplication\n",
        "print(\"Multiplication:\\n\", arr1 * arr2)\n",
        "\n",
        "# Division\n",
        "print(\"Division:\\n\", arr2 / arr1)"
      ]
    },
    {
      "cell_type": "markdown",
      "metadata": {
        "id": "BhKYotVcJyqI"
      },
      "source": [
        "### Broadcasting\n",
        "\n",
        "#### Broadcasting 1-D arrays\n"
      ]
    },
    {
      "cell_type": "code",
      "execution_count": 4,
      "metadata": {
        "colab": {
          "base_uri": "https://localhost:8080/"
        },
        "id": "Ji_BtPysJyqJ",
        "outputId": "df4e1567-9916-4ca6-d752-a865d08c1e21"
      },
      "outputs": [
        {
          "output_type": "stream",
          "name": "stdout",
          "text": [
            "Arr 1 : \n",
            " [1 2 3]\n",
            "Arr 2 : \n",
            " [1]\n"
          ]
        },
        {
          "output_type": "execute_result",
          "data": {
            "text/plain": [
              "array([2, 3, 4])"
            ]
          },
          "metadata": {},
          "execution_count": 4
        }
      ],
      "source": [
        "# Simplest case - 1D\n",
        "# In order for this broadcast to work\n",
        "# dimension of arr2 must be 1\n",
        "\n",
        "arr1 = np.array([1, 2, 3])\n",
        "arr2 = np.array([1])\n",
        "\n",
        "print('Arr 1 : \\n {}'.format(arr1))\n",
        "print('Arr 2 : \\n {}'.format(arr2))\n",
        "\n",
        "arr1 + arr2"
      ]
    },
    {
      "cell_type": "code",
      "execution_count": 6,
      "metadata": {
        "colab": {
          "base_uri": "https://localhost:8080/",
          "height": 251
        },
        "id": "lzUEi9MYJyqJ",
        "outputId": "70af49db-8cac-46ad-c46a-87bb4116af13"
      },
      "outputs": [
        {
          "output_type": "stream",
          "name": "stdout",
          "text": [
            "Arr 1 : \n",
            " [1 2 3 4]\n",
            "Arr 2 : \n",
            " [1 2]\n"
          ]
        },
        {
          "output_type": "error",
          "ename": "ValueError",
          "evalue": "operands could not be broadcast together with shapes (4,) (2,) ",
          "traceback": [
            "\u001b[0;31m---------------------------------------------------------------------------\u001b[0m",
            "\u001b[0;31mValueError\u001b[0m                                Traceback (most recent call last)",
            "\u001b[0;32m<ipython-input-6-9df2bec3cb36>\u001b[0m in \u001b[0;36m<cell line: 10>\u001b[0;34m()\u001b[0m\n\u001b[1;32m      8\u001b[0m \u001b[0mprint\u001b[0m\u001b[0;34m(\u001b[0m\u001b[0;34m'Arr 2 : \\n {}'\u001b[0m\u001b[0;34m.\u001b[0m\u001b[0mformat\u001b[0m\u001b[0;34m(\u001b[0m\u001b[0marr2\u001b[0m\u001b[0;34m)\u001b[0m\u001b[0;34m)\u001b[0m\u001b[0;34m\u001b[0m\u001b[0;34m\u001b[0m\u001b[0m\n\u001b[1;32m      9\u001b[0m \u001b[0;34m\u001b[0m\u001b[0m\n\u001b[0;32m---> 10\u001b[0;31m \u001b[0marr1\u001b[0m \u001b[0;34m+\u001b[0m \u001b[0marr2\u001b[0m\u001b[0;34m\u001b[0m\u001b[0;34m\u001b[0m\u001b[0m\n\u001b[0m",
            "\u001b[0;31mValueError\u001b[0m: operands could not be broadcast together with shapes (4,) (2,) "
          ]
        }
      ],
      "source": [
        "# If dimension of arr1 is not 1\n",
        "# we get error\n",
        "\n",
        "arr1 = np.array([1, 2, 3, 4])\n",
        "arr2 = np.array([1, 2])\n",
        "\n",
        "print('Arr 1 : \\n {}'.format(arr1))\n",
        "print('Arr 2 : \\n {}'.format(arr2))\n",
        "\n",
        "arr1 + arr2"
      ]
    },
    {
      "cell_type": "markdown",
      "metadata": {
        "id": "1KxukAgqJyqJ"
      },
      "source": [
        "##### Broadcasting 2-D arrays"
      ]
    },
    {
      "cell_type": "code",
      "execution_count": 7,
      "metadata": {
        "colab": {
          "base_uri": "https://localhost:8080/"
        },
        "id": "ukamsYz-JyqK",
        "outputId": "a8b37f33-687e-42ba-bea3-03e45cea7d71"
      },
      "outputs": [
        {
          "output_type": "stream",
          "name": "stdout",
          "text": [
            "Arr 1 : \n",
            " [[1 2 3]\n",
            " [4 5 6]]\n",
            "Arr 2 : \n",
            " [[1 2 3]]\n"
          ]
        },
        {
          "output_type": "execute_result",
          "data": {
            "text/plain": [
              "array([[2, 4, 6],\n",
              "       [5, 7, 9]])"
            ]
          },
          "metadata": {},
          "execution_count": 7
        }
      ],
      "source": [
        "arr1 = np.array([[1, 2, 3], [4,5,6]])\n",
        "arr2 = np.array([[1, 2, 3]])\n",
        "\n",
        "print('Arr 1 : \\n {}'.format(arr1))\n",
        "print('Arr 2 : \\n {}'.format(arr2))\n",
        "\n",
        "arr1 + arr2"
      ]
    },
    {
      "cell_type": "code",
      "execution_count": 8,
      "metadata": {
        "colab": {
          "base_uri": "https://localhost:8080/"
        },
        "id": "2IdKRwKNJyqK",
        "outputId": "6ea64c7c-176d-4f56-f859-758d09aa121f"
      },
      "outputs": [
        {
          "output_type": "stream",
          "name": "stdout",
          "text": [
            "Arr 1 : \n",
            " [[1 2 3]\n",
            " [4 5 6]]\n",
            "Arr 2 : \n",
            " [[1]\n",
            " [2]]\n"
          ]
        },
        {
          "output_type": "execute_result",
          "data": {
            "text/plain": [
              "array([[2, 3, 4],\n",
              "       [6, 7, 8]])"
            ]
          },
          "metadata": {},
          "execution_count": 8
        }
      ],
      "source": [
        "arr1 = np.array([[1, 2, 3], [4,5,6]])\n",
        "arr2 = np.array([[1], [2]])\n",
        "\n",
        "print('Arr 1 : \\n {}'.format(arr1))\n",
        "print('Arr 2 : \\n {}'.format(arr2))\n",
        "\n",
        "arr1 + arr2\n"
      ]
    },
    {
      "cell_type": "code",
      "execution_count": 9,
      "metadata": {
        "colab": {
          "base_uri": "https://localhost:8080/"
        },
        "id": "5O2ngwEKJyqK",
        "outputId": "0a8b2d3a-f7e6-49dd-db44-7427af925c30"
      },
      "outputs": [
        {
          "output_type": "stream",
          "name": "stdout",
          "text": [
            "Arr 1 : \n",
            " [[1 2 3]]\n",
            "Arr 2 : \n",
            " [[4]\n",
            " [5]\n",
            " [6]]\n"
          ]
        },
        {
          "output_type": "execute_result",
          "data": {
            "text/plain": [
              "array([[5, 6, 7],\n",
              "       [6, 7, 8],\n",
              "       [7, 8, 9]])"
            ]
          },
          "metadata": {},
          "execution_count": 9
        }
      ],
      "source": [
        "arr1 = np.array([[1, 2, 3]])\n",
        "arr2 = np.array([[4], [5], [6]])\n",
        "\n",
        "print('Arr 1 : \\n {}'.format(arr1))\n",
        "print('Arr 2 : \\n {}'.format(arr2))\n",
        "\n",
        "arr1 + arr2"
      ]
    },
    {
      "cell_type": "markdown",
      "metadata": {
        "id": "3SAL3-IXJyqK"
      },
      "source": [
        "##### Broadcasting arrays of different shappes"
      ]
    },
    {
      "cell_type": "code",
      "execution_count": 10,
      "metadata": {
        "colab": {
          "base_uri": "https://localhost:8080/"
        },
        "id": "L4AW10ffJyqK",
        "outputId": "97dce841-8098-4b70-dea5-9d5eb41319f5"
      },
      "outputs": [
        {
          "output_type": "stream",
          "name": "stdout",
          "text": [
            "Arr 1 : \n",
            " [[1 2 3]\n",
            " [4 5 6]]\n",
            "Arr 2 : \n",
            " [1 2 3]\n"
          ]
        },
        {
          "output_type": "execute_result",
          "data": {
            "text/plain": [
              "array([[2, 4, 6],\n",
              "       [5, 7, 9]])"
            ]
          },
          "metadata": {},
          "execution_count": 10
        }
      ],
      "source": [
        "arr1 = np.array([[1, 2, 3], [4,5,6]])\n",
        "arr2 = np.array([1, 2, 3])\n",
        "\n",
        "print('Arr 1 : \\n {}'.format(arr1))\n",
        "print('Arr 2 : \\n {}'.format(arr2))\n",
        "\n",
        "arr1 + arr2"
      ]
    },
    {
      "cell_type": "code",
      "execution_count": 11,
      "metadata": {
        "colab": {
          "base_uri": "https://localhost:8080/",
          "height": 287
        },
        "id": "6cWedADKJyqL",
        "outputId": "11fb3aff-57ae-48ea-f50e-812dff828a04"
      },
      "outputs": [
        {
          "output_type": "stream",
          "name": "stdout",
          "text": [
            "Arr 1 : \n",
            " [[1 2]\n",
            " [3 4]\n",
            " [5 6]]\n",
            "Arr 2 : \n",
            " [1 2 3]\n"
          ]
        },
        {
          "output_type": "error",
          "ename": "ValueError",
          "evalue": "operands could not be broadcast together with shapes (3,2) (3,) ",
          "traceback": [
            "\u001b[0;31m---------------------------------------------------------------------------\u001b[0m",
            "\u001b[0;31mValueError\u001b[0m                                Traceback (most recent call last)",
            "\u001b[0;32m<ipython-input-11-58b71324dbaa>\u001b[0m in \u001b[0;36m<cell line: 7>\u001b[0;34m()\u001b[0m\n\u001b[1;32m      5\u001b[0m \u001b[0mprint\u001b[0m\u001b[0;34m(\u001b[0m\u001b[0;34m'Arr 2 : \\n {}'\u001b[0m\u001b[0;34m.\u001b[0m\u001b[0mformat\u001b[0m\u001b[0;34m(\u001b[0m\u001b[0marr2\u001b[0m\u001b[0;34m)\u001b[0m\u001b[0;34m)\u001b[0m\u001b[0;34m\u001b[0m\u001b[0;34m\u001b[0m\u001b[0m\n\u001b[1;32m      6\u001b[0m \u001b[0;34m\u001b[0m\u001b[0m\n\u001b[0;32m----> 7\u001b[0;31m \u001b[0marr1\u001b[0m \u001b[0;34m+\u001b[0m \u001b[0marr2\u001b[0m\u001b[0;34m\u001b[0m\u001b[0;34m\u001b[0m\u001b[0m\n\u001b[0m",
            "\u001b[0;31mValueError\u001b[0m: operands could not be broadcast together with shapes (3,2) (3,) "
          ]
        }
      ],
      "source": [
        "arr1 = np.array([[1, 2],[3,4], [5,6]])\n",
        "arr2 = np.array([1, 2, 3])\n",
        "\n",
        "print('Arr 1 : \\n {}'.format(arr1))\n",
        "print('Arr 2 : \\n {}'.format(arr2))\n",
        "\n",
        "arr1 + arr2"
      ]
    },
    {
      "cell_type": "code",
      "execution_count": 12,
      "metadata": {
        "colab": {
          "base_uri": "https://localhost:8080/"
        },
        "id": "TdQJAa8QJyqL",
        "outputId": "d14b860c-d7fa-45cb-b271-c1d83a0fc691"
      },
      "outputs": [
        {
          "output_type": "execute_result",
          "data": {
            "text/plain": [
              "array([[2, 3],\n",
              "       [5, 6],\n",
              "       [8, 9]])"
            ]
          },
          "metadata": {},
          "execution_count": 12
        }
      ],
      "source": [
        "arr1 + np.expand_dims(arr2, axis=1)"
      ]
    },
    {
      "cell_type": "markdown",
      "metadata": {
        "id": "S231XelpJyqL"
      },
      "source": [
        "### Summary\n",
        "\n",
        "We have learned about:\n",
        "\n",
        "- Numpy array broadcasting"
      ]
    }
  ],
  "metadata": {
    "kernelspec": {
      "display_name": "test_env_2",
      "language": "python",
      "name": "python3"
    },
    "language_info": {
      "codemirror_mode": {
        "name": "ipython",
        "version": 3
      },
      "file_extension": ".py",
      "mimetype": "text/x-python",
      "name": "python",
      "nbconvert_exporter": "python",
      "pygments_lexer": "ipython3",
      "version": "3.11.3"
    },
    "orig_nbformat": 4,
    "colab": {
      "provenance": [],
      "include_colab_link": true
    }
  },
  "nbformat": 4,
  "nbformat_minor": 0
}