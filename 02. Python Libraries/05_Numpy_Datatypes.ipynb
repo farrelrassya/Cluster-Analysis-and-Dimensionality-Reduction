{
  "cells": [
    {
      "cell_type": "markdown",
      "metadata": {
        "id": "view-in-github",
        "colab_type": "text"
      },
      "source": [
        "<a href=\"https://colab.research.google.com/github/farrelrassya/Cluster-Analysis-and-Dimensionality-Reduction/blob/main/02.%20Python%20Libraries/05_Numpy_Datatypes.ipynb\" target=\"_parent\"><img src=\"https://colab.research.google.com/assets/colab-badge.svg\" alt=\"Open In Colab\"/></a>"
      ]
    },
    {
      "cell_type": "markdown",
      "metadata": {
        "id": "JKmE-RBO1k8o"
      },
      "source": [
        "## Numpy datatypes\n",
        "\n",
        "### Lecture agenda\n",
        "- Datatypes\n",
        "- Datatype conversions\n",
        "\n",
        "Numpy array can contain only elements of one datatype."
      ]
    },
    {
      "cell_type": "code",
      "execution_count": 1,
      "metadata": {
        "id": "PO_9pr3M1k8p"
      },
      "outputs": [],
      "source": [
        "import numpy as np"
      ]
    },
    {
      "cell_type": "code",
      "execution_count": 2,
      "metadata": {
        "colab": {
          "base_uri": "https://localhost:8080/"
        },
        "id": "RoJpclvP1k8q",
        "outputId": "5111d5ea-0545-4dec-aebc-1c5d9ae819c0"
      },
      "outputs": [
        {
          "output_type": "stream",
          "name": "stdout",
          "text": [
            "[1 2 3 4]\n",
            "int64\n"
          ]
        }
      ],
      "source": [
        "int_arr = np.array([1, 2, 3, 4], dtype=np.int64)\n",
        "\n",
        "print(int_arr)\n",
        "print(int_arr.dtype)"
      ]
    },
    {
      "cell_type": "markdown",
      "metadata": {
        "id": "x4lFY5Jg1k8r"
      },
      "source": [
        "`np.int32`: This is a 32-bit integer type. It can represent integer values from -2147483648 to 2147483647. It uses 32 bits of memory, which equals 4 bytes.\n",
        "\n",
        "`np.int64`: This is a 64-bit integer type. It can represent integer values from -9223372036854775808 to 9223372036854775807. It uses 64 bits of memory, which equals 8 bytes."
      ]
    },
    {
      "cell_type": "code",
      "execution_count": 3,
      "metadata": {
        "colab": {
          "base_uri": "https://localhost:8080/"
        },
        "id": "txiza5FE1k8r",
        "outputId": "0b0e92cc-7763-4ba2-ed72-b762bb7eef52"
      },
      "outputs": [
        {
          "output_type": "stream",
          "name": "stdout",
          "text": [
            "[1 2 3 4]\n",
            "int32\n"
          ]
        }
      ],
      "source": [
        "int_arr = np.array([1, 2, 3, 4], dtype=np.int32)\n",
        "\n",
        "print(int_arr)\n",
        "print(int_arr.dtype)"
      ]
    },
    {
      "cell_type": "code",
      "execution_count": 4,
      "metadata": {
        "colab": {
          "base_uri": "https://localhost:8080/"
        },
        "id": "YJ6yLGdv1k8r",
        "outputId": "42d38b6b-ae77-49d1-e085-5eabf8f256fd"
      },
      "outputs": [
        {
          "output_type": "stream",
          "name": "stdout",
          "text": [
            "[1.5 2.5 3.5 4.5]\n",
            "float64\n"
          ]
        }
      ],
      "source": [
        "float_arr = np.array([1.5, 2.5, 3.5, 4.5], dtype=np.float64)\n",
        "\n",
        "print(float_arr)\n",
        "print(float_arr.dtype)"
      ]
    },
    {
      "cell_type": "code",
      "execution_count": 5,
      "metadata": {
        "colab": {
          "base_uri": "https://localhost:8080/"
        },
        "id": "WOYwco9-1k8s",
        "outputId": "c4d722e7-b3ff-42bf-d218-cf0327f50d47"
      },
      "outputs": [
        {
          "output_type": "stream",
          "name": "stdout",
          "text": [
            "[ True False  True]\n",
            "bool\n"
          ]
        }
      ],
      "source": [
        "bool_arr = np.array([True, False, True], dtype=np.bool_)\n",
        "\n",
        "print(bool_arr)\n",
        "print(bool_arr.dtype)"
      ]
    },
    {
      "cell_type": "markdown",
      "metadata": {
        "id": "3MgkRcIv1k8s"
      },
      "source": [
        "##### Datatype conversion"
      ]
    },
    {
      "cell_type": "code",
      "execution_count": 6,
      "metadata": {
        "colab": {
          "base_uri": "https://localhost:8080/"
        },
        "id": "b6AKk0xp1k8s",
        "outputId": "524f740f-c4c8-454a-ce5d-d0c1a41b1d3a"
      },
      "outputs": [
        {
          "output_type": "stream",
          "name": "stdout",
          "text": [
            "[1 2 3 4]\n",
            "int64\n",
            "[1. 2. 3. 4.]\n",
            "float64\n"
          ]
        }
      ],
      "source": [
        "# Integer to float\n",
        "a = np.array([1, 2, 3, 4], dtype=np.int64)\n",
        "print(a)\n",
        "print(a.dtype)\n",
        "\n",
        "b = a.astype(np.float64)\n",
        "print(b)\n",
        "print(b.dtype)"
      ]
    },
    {
      "cell_type": "code",
      "execution_count": 7,
      "metadata": {
        "colab": {
          "base_uri": "https://localhost:8080/"
        },
        "id": "M6AW3Zjk1k8t",
        "outputId": "ac0b345b-517c-46ef-8981-f2811550ef1e"
      },
      "outputs": [
        {
          "output_type": "stream",
          "name": "stdout",
          "text": [
            "[1 2 3 4]\n"
          ]
        },
        {
          "output_type": "execute_result",
          "data": {
            "text/plain": [
              "array([9, 2, 3, 4])"
            ]
          },
          "metadata": {},
          "execution_count": 7
        }
      ],
      "source": [
        "# We can not add float number to integer array\n",
        "a = np.array([1, 2, 3, 4], dtype=np.int64)\n",
        "print(a)\n",
        "\n",
        "a[0] = 9.1\n",
        "\n",
        "a"
      ]
    },
    {
      "cell_type": "code",
      "execution_count": 8,
      "metadata": {
        "colab": {
          "base_uri": "https://localhost:8080/"
        },
        "id": "0laN95vv1k8t",
        "outputId": "e3e19933-60c8-4f43-9569-cd0a1b446410"
      },
      "outputs": [
        {
          "output_type": "stream",
          "name": "stdout",
          "text": [
            "[1.1 2.  3.9 4. ]\n",
            "float64\n",
            "[1 2 3 4]\n",
            "int64\n"
          ]
        }
      ],
      "source": [
        "# Float to integer\n",
        "a = np.array([1.1, 2, 3.9, 4], dtype=np.float64)\n",
        "print(a)\n",
        "print(a.dtype)\n",
        "\n",
        "b = a.astype(np.int64)\n",
        "print(b)\n",
        "print(b.dtype)"
      ]
    },
    {
      "cell_type": "code",
      "execution_count": 9,
      "metadata": {
        "colab": {
          "base_uri": "https://localhost:8080/"
        },
        "id": "NN-iiBCs1k8t",
        "outputId": "05ed2758-7a34-44a9-e453-f62cd972e2ac"
      },
      "outputs": [
        {
          "output_type": "stream",
          "name": "stdout",
          "text": [
            "[ True False  True  True False]\n",
            "bool\n",
            "[1 0 1 1 0]\n",
            "int64\n"
          ]
        }
      ],
      "source": [
        "# Boolean to int\n",
        "a = np.array([True, False, True, True, False], dtype=np.bool_)\n",
        "\n",
        "print(a)\n",
        "print(a.dtype)\n",
        "\n",
        "# Convert the boolean array to an integer array\n",
        "b = a.astype(np.int64)\n",
        "\n",
        "print(b)\n",
        "print(b.dtype)\n"
      ]
    }
  ],
  "metadata": {
    "kernelspec": {
      "display_name": "test_env_2",
      "language": "python",
      "name": "python3"
    },
    "language_info": {
      "codemirror_mode": {
        "name": "ipython",
        "version": 3
      },
      "file_extension": ".py",
      "mimetype": "text/x-python",
      "name": "python",
      "nbconvert_exporter": "python",
      "pygments_lexer": "ipython3",
      "version": "3.11.3"
    },
    "orig_nbformat": 4,
    "colab": {
      "provenance": [],
      "include_colab_link": true
    }
  },
  "nbformat": 4,
  "nbformat_minor": 0
}