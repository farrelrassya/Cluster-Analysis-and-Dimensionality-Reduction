{
  "cells": [
    {
      "cell_type": "markdown",
      "metadata": {
        "id": "view-in-github",
        "colab_type": "text"
      },
      "source": [
        "<a href=\"https://colab.research.google.com/github/farrelrassya/Cluster-Analysis-and-Dimensionality-Reduction/blob/main/01.%20Python%20Basic/14_Comprehensions.ipynb\" target=\"_parent\"><img src=\"https://colab.research.google.com/assets/colab-badge.svg\" alt=\"Open In Colab\"/></a>"
      ]
    },
    {
      "cell_type": "markdown",
      "metadata": {
        "id": "TdgySmBkSgiu"
      },
      "source": [
        "### Comprehensions\n",
        "\n",
        "Comprehensions in Python are a way of creating new sequences like lists or dictionaries from existing ones in a concise and efficient manner.\n",
        "\n",
        "#### Lecture contents\n",
        "\n",
        "- Problem statement\n",
        "- List comprehensions\n",
        "- Dictionary comprehension"
      ]
    },
    {
      "cell_type": "markdown",
      "metadata": {
        "id": "bTzxcSZySgiv"
      },
      "source": [
        "#### Problem statement\n",
        "\n",
        "Compute the square of each element in the list."
      ]
    },
    {
      "cell_type": "code",
      "execution_count": 1,
      "metadata": {
        "id": "wYlVMfUSSgiv"
      },
      "outputs": [],
      "source": [
        "l1 = [1, 2, 3, 4, 5]"
      ]
    },
    {
      "cell_type": "code",
      "execution_count": 2,
      "metadata": {
        "colab": {
          "base_uri": "https://localhost:8080/"
        },
        "id": "ym0fptcnSgiw",
        "outputId": "e24bc04b-b53c-4f41-f480-f597df24de0e"
      },
      "outputs": [
        {
          "output_type": "execute_result",
          "data": {
            "text/plain": [
              "[1, 4, 9, 16, 25]"
            ]
          },
          "metadata": {},
          "execution_count": 2
        }
      ],
      "source": [
        "square_list = []\n",
        "\n",
        "for el in l1:\n",
        "    square_list.append(el**2)\n",
        "\n",
        "square_list"
      ]
    },
    {
      "cell_type": "markdown",
      "metadata": {
        "id": "5Q1-C1eMSgiw"
      },
      "source": [
        "Square all elements in the list that are not equal to 3."
      ]
    },
    {
      "cell_type": "code",
      "execution_count": 3,
      "metadata": {
        "colab": {
          "base_uri": "https://localhost:8080/"
        },
        "id": "nrkQ0fFsSgiw",
        "outputId": "afa7efb3-b7bc-4e05-ea0a-6f18168327b0"
      },
      "outputs": [
        {
          "output_type": "execute_result",
          "data": {
            "text/plain": [
              "[1, 4, 16, 25]"
            ]
          },
          "metadata": {},
          "execution_count": 3
        }
      ],
      "source": [
        "square_list = []\n",
        "\n",
        "for el in l1:\n",
        "    if el != 3:\n",
        "        square_list.append(el**2)\n",
        "\n",
        "square_list"
      ]
    },
    {
      "cell_type": "markdown",
      "metadata": {
        "id": "te3v7LAsSgiw"
      },
      "source": [
        "##### List comprehension"
      ]
    },
    {
      "cell_type": "code",
      "execution_count": 4,
      "metadata": {
        "colab": {
          "base_uri": "https://localhost:8080/"
        },
        "id": "ImEKarIGSgiw",
        "outputId": "591aa0d8-c1da-435a-971a-4fd50895bd9b"
      },
      "outputs": [
        {
          "output_type": "execute_result",
          "data": {
            "text/plain": [
              "[1, 4, 9, 16, 25]"
            ]
          },
          "metadata": {},
          "execution_count": 4
        }
      ],
      "source": [
        "l1 = [1, 2, 3, 4, 5]\n",
        "\n",
        "l2 = [el**2 for el in l1]\n",
        "\n",
        "l2"
      ]
    },
    {
      "cell_type": "code",
      "execution_count": 5,
      "metadata": {
        "colab": {
          "base_uri": "https://localhost:8080/"
        },
        "id": "i3a9zaeWSgiw",
        "outputId": "098c845a-0704-459c-d023-7c245c924e82"
      },
      "outputs": [
        {
          "output_type": "execute_result",
          "data": {
            "text/plain": [
              "[1, 4, 16, 25]"
            ]
          },
          "metadata": {},
          "execution_count": 5
        }
      ],
      "source": [
        "l3 = [el**2 for el in l1 if el != 3]\n",
        "\n",
        "l3"
      ]
    },
    {
      "cell_type": "code",
      "execution_count": 6,
      "metadata": {
        "colab": {
          "base_uri": "https://localhost:8080/"
        },
        "id": "weRaenN6Sgiw",
        "outputId": "42311c81-0c5e-42c5-cec6-abb5346c8a7b"
      },
      "outputs": [
        {
          "output_type": "execute_result",
          "data": {
            "text/plain": [
              "[1, 2, 3, 4, 5]"
            ]
          },
          "metadata": {},
          "execution_count": 6
        }
      ],
      "source": [
        "l1"
      ]
    },
    {
      "cell_type": "code",
      "execution_count": 7,
      "metadata": {
        "colab": {
          "base_uri": "https://localhost:8080/"
        },
        "id": "7PPYDiOlSgix",
        "outputId": "ebb2c0a1-045c-42c5-e382-104f42970e82"
      },
      "outputs": [
        {
          "output_type": "execute_result",
          "data": {
            "text/plain": [
              "[1, 4, 27, 16, 25]"
            ]
          },
          "metadata": {},
          "execution_count": 7
        }
      ],
      "source": [
        "l4 = [el**2 if el != 3 else el**3 for el in l1]\n",
        "l4\n"
      ]
    },
    {
      "cell_type": "code",
      "execution_count": 8,
      "metadata": {
        "colab": {
          "base_uri": "https://localhost:8080/"
        },
        "id": "mmEk_fUUSgix",
        "outputId": "068ab37b-1fb4-4fd7-9197-66425ebe8d5a"
      },
      "outputs": [
        {
          "output_type": "execute_result",
          "data": {
            "text/plain": [
              "[1, 4, 27, 25]"
            ]
          },
          "metadata": {},
          "execution_count": 8
        }
      ],
      "source": [
        "l5 = [el**2 if el != 3 else el**3 for el in l1 if el != 4]\n",
        "l5"
      ]
    },
    {
      "cell_type": "code",
      "execution_count": 9,
      "metadata": {
        "colab": {
          "base_uri": "https://localhost:8080/"
        },
        "id": "AMLnwbX_Sgix",
        "outputId": "bbb9d63c-ee49-4425-c9ce-4f5be9baa893"
      },
      "outputs": [
        {
          "output_type": "execute_result",
          "data": {
            "text/plain": [
              "['a', 'b', 'c']"
            ]
          },
          "metadata": {},
          "execution_count": 9
        }
      ],
      "source": [
        "d1 = {\n",
        "    'a': 1,\n",
        "    'b': 2,\n",
        "    'c': 3\n",
        "}\n",
        "\n",
        "l6 = [el for el in d1]\n",
        "l6"
      ]
    },
    {
      "cell_type": "code",
      "execution_count": 10,
      "metadata": {
        "colab": {
          "base_uri": "https://localhost:8080/"
        },
        "id": "NafGyKVzSgix",
        "outputId": "31c9332b-a19f-4c46-ed9a-57b7ef8f9abd"
      },
      "outputs": [
        {
          "output_type": "execute_result",
          "data": {
            "text/plain": [
              "[1, 2, 3]"
            ]
          },
          "metadata": {},
          "execution_count": 10
        }
      ],
      "source": [
        "l6 = [d1[el] for el in d1]\n",
        "l6"
      ]
    },
    {
      "cell_type": "markdown",
      "metadata": {
        "id": "L38KCsxTSgix"
      },
      "source": [
        "##### Dict comprehension"
      ]
    },
    {
      "cell_type": "code",
      "execution_count": 11,
      "metadata": {
        "colab": {
          "base_uri": "https://localhost:8080/"
        },
        "id": "3YERRE61Sgix",
        "outputId": "93afd13c-a484-45d5-b163-568861eb1134"
      },
      "outputs": [
        {
          "output_type": "execute_result",
          "data": {
            "text/plain": [
              "{'apple': 5, 'banana': 6, 'cherry': 6, 'date': 4}"
            ]
          },
          "metadata": {},
          "execution_count": 11
        }
      ],
      "source": [
        "words = ['apple', 'banana', 'cherry', 'date']\n",
        "word_lengths = {word: len(word) for word in words}\n",
        "\n",
        "word_lengths"
      ]
    },
    {
      "cell_type": "code",
      "execution_count": 12,
      "metadata": {
        "colab": {
          "base_uri": "https://localhost:8080/"
        },
        "id": "qyj5yOUvSgix",
        "outputId": "623acf37-4f14-4883-d3ce-d49c4bd943c6"
      },
      "outputs": [
        {
          "output_type": "execute_result",
          "data": {
            "text/plain": [
              "{'apple': 5, 'banana': 6, 'cherry': 6, 'date': 4}"
            ]
          },
          "metadata": {},
          "execution_count": 12
        }
      ],
      "source": [
        "words = ['apple', 'banana', 3, 4, 'cherry', 'date']\n",
        "word_lengths = {word: len(word) for word in words if isinstance(word, str)}\n",
        "word_lengths"
      ]
    },
    {
      "cell_type": "code",
      "execution_count": 13,
      "metadata": {
        "colab": {
          "base_uri": "https://localhost:8080/"
        },
        "id": "JDR1e-ghSgiy",
        "outputId": "24cc83ce-c7a2-4b61-c2de-c49a80748bfd"
      },
      "outputs": [
        {
          "output_type": "execute_result",
          "data": {
            "text/plain": [
              "{'apple': 5, 'banana': 6, 3: None, 4: None, 'cherry': 6, 'date': 4}"
            ]
          },
          "metadata": {},
          "execution_count": 13
        }
      ],
      "source": [
        "words = ['apple', 'banana', 3, 4, 'cherry', 'date']\n",
        "word_lengths = {word: len(word) if isinstance(word, str) else None  for word in words }\n",
        "word_lengths"
      ]
    },
    {
      "cell_type": "code",
      "execution_count": 14,
      "metadata": {
        "colab": {
          "base_uri": "https://localhost:8080/"
        },
        "id": "c4J0h3s7Sgiy",
        "outputId": "687976e3-23e6-4235-f29f-2d6a1b66c454"
      },
      "outputs": [
        {
          "output_type": "execute_result",
          "data": {
            "text/plain": [
              "{'a': 1, 'b': 4, 'c': 9}"
            ]
          },
          "metadata": {},
          "execution_count": 14
        }
      ],
      "source": [
        "d1 = {\n",
        "    'a': 1,\n",
        "    'b': 2,\n",
        "    'c': 3\n",
        "}\n",
        "\n",
        "d2 = {key: d1[key]**2 for key in d1}\n",
        "d2"
      ]
    },
    {
      "cell_type": "code",
      "execution_count": 15,
      "metadata": {
        "colab": {
          "base_uri": "https://localhost:8080/"
        },
        "id": "qgaKI1O2Sgiy",
        "outputId": "1b20a1b2-9b0e-4721-9bce-ec7ae10d3f29"
      },
      "outputs": [
        {
          "output_type": "execute_result",
          "data": {
            "text/plain": [
              "{'a': 1, 'b': 4, 'c': 9}"
            ]
          },
          "metadata": {},
          "execution_count": 15
        }
      ],
      "source": [
        "d2 = {key: value**2 for key, value in d1.items()}\n",
        "d2"
      ]
    },
    {
      "cell_type": "markdown",
      "metadata": {
        "id": "FfmgzveDSgiy"
      },
      "source": [
        "</br></br></br></br>\n",
        "\n",
        "### Summary\n",
        "\n",
        "#### We have learned:\n",
        "\n",
        "- What are comprehensions\n",
        "\n",
        "- List comprehensions\n",
        "\n",
        "- Dict comprehensions"
      ]
    }
  ],
  "metadata": {
    "kernelspec": {
      "display_name": "test_env_2",
      "language": "python",
      "name": "python3"
    },
    "language_info": {
      "codemirror_mode": {
        "name": "ipython",
        "version": 3
      },
      "file_extension": ".py",
      "mimetype": "text/x-python",
      "name": "python",
      "nbconvert_exporter": "python",
      "pygments_lexer": "ipython3",
      "version": "3.11.3"
    },
    "orig_nbformat": 4,
    "colab": {
      "provenance": [],
      "include_colab_link": true
    }
  },
  "nbformat": 4,
  "nbformat_minor": 0
}