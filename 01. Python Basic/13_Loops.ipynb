{
  "cells": [
    {
      "cell_type": "markdown",
      "metadata": {
        "id": "view-in-github",
        "colab_type": "text"
      },
      "source": [
        "<a href=\"https://colab.research.google.com/github/farrelrassya/Cluster-Analysis-and-Dimensionality-Reduction/blob/main/01.%20Python%20Basic/13_Loops.ipynb\" target=\"_parent\"><img src=\"https://colab.research.google.com/assets/colab-badge.svg\" alt=\"Open In Colab\"/></a>"
      ]
    },
    {
      "cell_type": "markdown",
      "metadata": {
        "id": "y-aS1pkwSAjs"
      },
      "source": [
        "## Python loops\n",
        "\n",
        "Agenda:\n",
        "\n",
        "- For loop\n",
        "- While loop\n",
        "- Loop control statements"
      ]
    },
    {
      "cell_type": "markdown",
      "metadata": {
        "id": "l9merA2iSAju"
      },
      "source": [
        "### For loop"
      ]
    },
    {
      "cell_type": "code",
      "execution_count": 1,
      "metadata": {
        "id": "ab4sV1UTSAju"
      },
      "outputs": [],
      "source": [
        "l1 = [1, 2, 3, 4]"
      ]
    },
    {
      "cell_type": "code",
      "execution_count": 2,
      "metadata": {
        "colab": {
          "base_uri": "https://localhost:8080/"
        },
        "id": "Rh1R2W4uSAjv",
        "outputId": "3522c349-6346-4609-8545-eb3be944d419"
      },
      "outputs": [
        {
          "output_type": "stream",
          "name": "stdout",
          "text": [
            "1\n",
            "2\n",
            "3\n",
            "4\n"
          ]
        }
      ],
      "source": [
        "for el in l1:\n",
        "    print(el)"
      ]
    },
    {
      "cell_type": "markdown",
      "metadata": {
        "id": "qZyMYOyzSAjv"
      },
      "source": [
        "### While loop\n"
      ]
    },
    {
      "cell_type": "code",
      "execution_count": 3,
      "metadata": {
        "colab": {
          "base_uri": "https://localhost:8080/"
        },
        "id": "NzuZW3wmSAjw",
        "outputId": "9b312982-12fc-44cf-c3fe-d31ca6582906"
      },
      "outputs": [
        {
          "output_type": "stream",
          "name": "stdout",
          "text": [
            "0\n",
            "1\n",
            "2\n",
            "3\n",
            "4\n",
            "5\n",
            "6\n",
            "7\n",
            "8\n",
            "9\n"
          ]
        }
      ],
      "source": [
        "counter = 0\n",
        "\n",
        "while counter < 10:\n",
        "\n",
        "    print(counter)\n",
        "    counter += 1"
      ]
    },
    {
      "cell_type": "markdown",
      "metadata": {
        "id": "WG62d28bSAjx"
      },
      "source": [
        "### Loop control statements"
      ]
    },
    {
      "cell_type": "code",
      "execution_count": 4,
      "metadata": {
        "id": "qfRZWGb-SAjx"
      },
      "outputs": [],
      "source": [
        "document_list = ['document 1', 'document 2', 'invalid document', 'document 3']"
      ]
    },
    {
      "cell_type": "code",
      "execution_count": 5,
      "metadata": {
        "colab": {
          "base_uri": "https://localhost:8080/"
        },
        "id": "YTjVyS8NSAjx",
        "outputId": "f979ca96-727a-4ca1-a4ae-fba6e2f328a1"
      },
      "outputs": [
        {
          "output_type": "stream",
          "name": "stdout",
          "text": [
            "document 1\n",
            "document 2\n"
          ]
        }
      ],
      "source": [
        "# Break stops the loop\n",
        "for el in document_list:\n",
        "\n",
        "    if el == 'invalid document':\n",
        "        break\n",
        "\n",
        "    print(el)"
      ]
    },
    {
      "cell_type": "code",
      "execution_count": 6,
      "metadata": {
        "colab": {
          "base_uri": "https://localhost:8080/"
        },
        "id": "1np8ComBSAjx",
        "outputId": "caf125d2-7484-474b-dd26-d8322d2333d0"
      },
      "outputs": [
        {
          "output_type": "stream",
          "name": "stdout",
          "text": [
            "document 1\n",
            "document 2\n",
            "document 3\n"
          ]
        }
      ],
      "source": [
        "# Continue proceeds to the next itteration\n",
        "for el in document_list:\n",
        "\n",
        "    if el == 'invalid document':\n",
        "        continue\n",
        "\n",
        "    print(el)"
      ]
    },
    {
      "cell_type": "code",
      "execution_count": 7,
      "metadata": {
        "colab": {
          "base_uri": "https://localhost:8080/"
        },
        "id": "ZDK9q3FMSAjy",
        "outputId": "40e72361-3990-427e-8a14-cd17a9c437f5"
      },
      "outputs": [
        {
          "output_type": "execute_result",
          "data": {
            "text/plain": [
              "[1, 2, 3, 4]"
            ]
          },
          "metadata": {},
          "execution_count": 7
        }
      ],
      "source": [
        "l1"
      ]
    },
    {
      "cell_type": "code",
      "execution_count": 8,
      "metadata": {
        "colab": {
          "base_uri": "https://localhost:8080/"
        },
        "id": "ZnIr5aSgSAjy",
        "outputId": "72f98d62-0ff5-4e8c-e501-6fa6e871157f"
      },
      "outputs": [
        {
          "output_type": "stream",
          "name": "stdout",
          "text": [
            "1 and a\n",
            "2 and a\n",
            "1 and b\n",
            "2 and b\n",
            "1 and c\n",
            "2 and c\n",
            "1 and d\n",
            "2 and d\n"
          ]
        }
      ],
      "source": [
        "# Break can only interrupt a\n",
        "# single loop\n",
        "l2 = ['a', 'b', 'c', 'd']\n",
        "\n",
        "for el2 in l2:\n",
        "    for el1 in l1:\n",
        "        if el1 == 3:\n",
        "            break\n",
        "        print('{} and {}'.format(el1, el2))\n",
        ""
      ]
    },
    {
      "cell_type": "code",
      "execution_count": 9,
      "metadata": {
        "colab": {
          "base_uri": "https://localhost:8080/"
        },
        "id": "ADvzPrXbSAjz",
        "outputId": "a4ac2ebb-9d8f-40fe-93a8-3eb26b1a5a48"
      },
      "outputs": [
        {
          "output_type": "stream",
          "name": "stdout",
          "text": [
            "1 and a\n",
            "2 and a\n",
            "4 and a\n",
            "1 and b\n",
            "2 and b\n",
            "4 and b\n",
            "1 and c\n",
            "2 and c\n",
            "4 and c\n",
            "1 and d\n",
            "2 and d\n",
            "4 and d\n"
          ]
        }
      ],
      "source": [
        "# Same goes for continue\n",
        "l2 = ['a', 'b', 'c', 'd']\n",
        "\n",
        "for el2 in l2:\n",
        "    for el1 in l1:\n",
        "        if el1 == 3:\n",
        "            continue\n",
        "        print('{} and {}'.format(el1, el2))"
      ]
    },
    {
      "cell_type": "markdown",
      "metadata": {
        "id": "3RWjx8OVSAjz"
      },
      "source": [
        "### Conclusion\n",
        "\n",
        "We have learned about :\n",
        "- Foor loop\n",
        "- While loop\n",
        "- Break statement\n",
        "- Continue statement"
      ]
    }
  ],
  "metadata": {
    "kernelspec": {
      "display_name": "test_env_2",
      "language": "python",
      "name": "python3"
    },
    "language_info": {
      "codemirror_mode": {
        "name": "ipython",
        "version": 3
      },
      "file_extension": ".py",
      "mimetype": "text/x-python",
      "name": "python",
      "nbconvert_exporter": "python",
      "pygments_lexer": "ipython3",
      "version": "3.11.3"
    },
    "orig_nbformat": 4,
    "colab": {
      "provenance": [],
      "include_colab_link": true
    }
  },
  "nbformat": 4,
  "nbformat_minor": 0
}