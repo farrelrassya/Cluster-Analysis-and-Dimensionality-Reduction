{
  "cells": [
    {
      "cell_type": "markdown",
      "metadata": {
        "id": "view-in-github",
        "colab_type": "text"
      },
      "source": [
        "<a href=\"https://colab.research.google.com/github/farrelrassya/Cluster-Analysis-and-Dimensionality-Reduction/blob/main/01.%20Python%20Basic/%2004_Lists.ipynb\" target=\"_parent\"><img src=\"https://colab.research.google.com/assets/colab-badge.svg\" alt=\"Open In Colab\"/></a>"
      ]
    },
    {
      "cell_type": "markdown",
      "metadata": {
        "id": "5DRyzCtcK_D6"
      },
      "source": [
        "## Lists\n",
        "\n",
        "Agenda:\n",
        "\n",
        "- Creating a list\n",
        "  \n",
        "- Getting list elements\n",
        "- Adding / modifying list elements\n",
        "- Removing list elements\n",
        "- Checking if list contains element\n",
        "- Operations on lists\n",
        "- List summarization functions\n",
        "- Iterating through list"
      ]
    },
    {
      "cell_type": "code",
      "execution_count": 1,
      "metadata": {
        "colab": {
          "base_uri": "https://localhost:8080/"
        },
        "id": "dOTnrpoQK_D8",
        "outputId": "dd42102b-aa07-4a13-c40b-2ed236eb7cab"
      },
      "outputs": [
        {
          "output_type": "stream",
          "name": "stdout",
          "text": [
            "[1, 'apple', 2.4, 'apple', True, [2]]\n",
            "<class 'list'>\n"
          ]
        }
      ],
      "source": [
        "# Create a simple list\n",
        "list1 = [1, 'apple', 2.4, 'apple',  True, [2]]\n",
        "print(list1)\n",
        "print(type(list1))"
      ]
    },
    {
      "cell_type": "code",
      "execution_count": 2,
      "metadata": {
        "colab": {
          "base_uri": "https://localhost:8080/"
        },
        "id": "ioNzowvjK_D9",
        "outputId": "4a24fbef-6b70-4f05-d8bb-8ebe7270b0d6"
      },
      "outputs": [
        {
          "output_type": "stream",
          "name": "stdout",
          "text": [
            "[1, 'apple', 2.4, True, [2]]\n",
            "<class 'list'>\n"
          ]
        }
      ],
      "source": [
        "# Create a simple list\n",
        "list2 = list((1, 'apple', 2.4, True, [2]))\n",
        "print(list2)\n",
        "print(type(list2))"
      ]
    },
    {
      "cell_type": "code",
      "execution_count": 3,
      "metadata": {
        "colab": {
          "base_uri": "https://localhost:8080/"
        },
        "id": "evZWCOOXK_D9",
        "outputId": "38fe089f-81b0-48d2-ea3d-76ada8feff14"
      },
      "outputs": [
        {
          "output_type": "stream",
          "name": "stdout",
          "text": [
            "1\n"
          ]
        }
      ],
      "source": [
        "# List is ordered\n",
        "print(list1[0])"
      ]
    },
    {
      "cell_type": "code",
      "execution_count": 4,
      "metadata": {
        "colab": {
          "base_uri": "https://localhost:8080/"
        },
        "id": "L3OkqfsJK_D9",
        "outputId": "05b4d312-4b39-4be0-b89a-1c0584602779"
      },
      "outputs": [
        {
          "output_type": "execute_result",
          "data": {
            "text/plain": [
              "['TOWER', 'apple', 2.4, 'apple', True, [2]]"
            ]
          },
          "metadata": {},
          "execution_count": 4
        }
      ],
      "source": [
        "# List is mutable\n",
        "list1[0] = 'TOWER'\n",
        "list1"
      ]
    },
    {
      "cell_type": "markdown",
      "metadata": {
        "id": "DnuH1f1vK_D-"
      },
      "source": [
        "#### Getting list elements"
      ]
    },
    {
      "cell_type": "code",
      "execution_count": 5,
      "metadata": {
        "colab": {
          "base_uri": "https://localhost:8080/"
        },
        "id": "0QB7u03uK_D-",
        "outputId": "285d94fb-9045-475c-949b-52d9f3d4d0d0"
      },
      "outputs": [
        {
          "output_type": "execute_result",
          "data": {
            "text/plain": [
              "[2]"
            ]
          },
          "metadata": {},
          "execution_count": 5
        }
      ],
      "source": [
        "# Getting last element of a list\n",
        "list1[-1]"
      ]
    },
    {
      "cell_type": "code",
      "execution_count": 6,
      "metadata": {
        "colab": {
          "base_uri": "https://localhost:8080/"
        },
        "id": "6nKUkVFVK_D-",
        "outputId": "492a720e-528b-48ed-ceab-08ed2b1df381"
      },
      "outputs": [
        {
          "output_type": "execute_result",
          "data": {
            "text/plain": [
              "['apple', 2.4]"
            ]
          },
          "metadata": {},
          "execution_count": 6
        }
      ],
      "source": [
        "# Slicing a list\n",
        "list1[1:3]"
      ]
    },
    {
      "cell_type": "code",
      "execution_count": 10,
      "metadata": {
        "colab": {
          "base_uri": "https://localhost:8080/",
          "height": 162
        },
        "id": "xxBUviyWK_D-",
        "outputId": "03a8014a-a607-4787-9651-ac5125898460"
      },
      "outputs": [
        {
          "output_type": "error",
          "ename": "IndexError",
          "evalue": "list index out of range",
          "traceback": [
            "\u001b[0;31m---------------------------------------------------------------------------\u001b[0m",
            "\u001b[0;31mIndexError\u001b[0m                                Traceback (most recent call last)",
            "\u001b[0;32m<ipython-input-10-38a0f858b01f>\u001b[0m in \u001b[0;36m<cell line: 2>\u001b[0;34m()\u001b[0m\n\u001b[1;32m      1\u001b[0m \u001b[0;31m# Getting non existant list element\u001b[0m\u001b[0;34m\u001b[0m\u001b[0;34m\u001b[0m\u001b[0m\n\u001b[0;32m----> 2\u001b[0;31m \u001b[0mlist1\u001b[0m\u001b[0;34m[\u001b[0m\u001b[0;36m20\u001b[0m\u001b[0;34m]\u001b[0m\u001b[0;34m\u001b[0m\u001b[0;34m\u001b[0m\u001b[0m\n\u001b[0m",
            "\u001b[0;31mIndexError\u001b[0m: list index out of range"
          ]
        }
      ],
      "source": [
        "# Getting non existant list element\n",
        "list1[20]"
      ]
    },
    {
      "cell_type": "code",
      "execution_count": 11,
      "metadata": {
        "colab": {
          "base_uri": "https://localhost:8080/"
        },
        "id": "WRCuhikvK_D-",
        "outputId": "37a29388-7a86-419e-f605-b04276630426"
      },
      "outputs": [
        {
          "output_type": "execute_result",
          "data": {
            "text/plain": [
              "1"
            ]
          },
          "metadata": {},
          "execution_count": 11
        }
      ],
      "source": [
        "# Find element index\n",
        "list1.index('apple')"
      ]
    },
    {
      "cell_type": "code",
      "execution_count": 12,
      "metadata": {
        "colab": {
          "base_uri": "https://localhost:8080/"
        },
        "id": "ocsxLnteK_D_",
        "outputId": "abccc285-fa08-430e-bbd0-444c134908d1"
      },
      "outputs": [
        {
          "output_type": "execute_result",
          "data": {
            "text/plain": [
              "6"
            ]
          },
          "metadata": {},
          "execution_count": 12
        }
      ],
      "source": [
        "# List length\n",
        "len(list1)"
      ]
    },
    {
      "cell_type": "markdown",
      "metadata": {
        "id": "LqqlzdgtK_D_"
      },
      "source": [
        "#### Adding / modifying list elements"
      ]
    },
    {
      "cell_type": "code",
      "execution_count": 13,
      "metadata": {
        "colab": {
          "base_uri": "https://localhost:8080/"
        },
        "id": "Ur6WMP2vK_D_",
        "outputId": "05bff7f8-5567-4cf6-95a2-4cda77ea0e20"
      },
      "outputs": [
        {
          "output_type": "execute_result",
          "data": {
            "text/plain": [
              "['TOWER', 'apple', 2.4, 'apple', True, [2]]"
            ]
          },
          "metadata": {},
          "execution_count": 13
        }
      ],
      "source": [
        "list1"
      ]
    },
    {
      "cell_type": "code",
      "execution_count": 14,
      "metadata": {
        "colab": {
          "base_uri": "https://localhost:8080/"
        },
        "id": "wWRL4F-fK_D_",
        "outputId": "4599da4a-9cf4-4074-ffad-c9cfef8c981a"
      },
      "outputs": [
        {
          "output_type": "execute_result",
          "data": {
            "text/plain": [
              "['TOWER', 'apple', 2.4, 'TOWER', True, [2]]"
            ]
          },
          "metadata": {},
          "execution_count": 14
        }
      ],
      "source": [
        "# Setting element by index\n",
        "list1[3] = 'TOWER'\n",
        "list1"
      ]
    },
    {
      "cell_type": "code",
      "execution_count": 15,
      "metadata": {
        "colab": {
          "base_uri": "https://localhost:8080/"
        },
        "id": "35E3zR5KK_D_",
        "outputId": "51c91f0f-118e-48eb-9077-a4f44ee78320"
      },
      "outputs": [
        {
          "output_type": "execute_result",
          "data": {
            "text/plain": [
              "[False, False, 2.4, 'TOWER', True, [2]]"
            ]
          },
          "metadata": {},
          "execution_count": 15
        }
      ],
      "source": [
        "list1[0:2] = [False, False]\n",
        "list1"
      ]
    },
    {
      "cell_type": "code",
      "execution_count": 16,
      "metadata": {
        "colab": {
          "base_uri": "https://localhost:8080/"
        },
        "id": "zhHrKzI0K_D_",
        "outputId": "5ec70fe3-66f3-4792-b0f0-addeca96ff89"
      },
      "outputs": [
        {
          "output_type": "execute_result",
          "data": {
            "text/plain": [
              "[False, False, 2.4, 'TOWER', True, [2], 'dragonfruit']"
            ]
          },
          "metadata": {},
          "execution_count": 16
        }
      ],
      "source": [
        "# Add element to the end of the list\n",
        "list1.append(\"dragonfruit\")\n",
        "list1"
      ]
    },
    {
      "cell_type": "code",
      "execution_count": 17,
      "metadata": {
        "colab": {
          "base_uri": "https://localhost:8080/"
        },
        "id": "fjDbZUinK_EA",
        "outputId": "4ebb745e-92e5-4705-c627-915151ebfba7"
      },
      "outputs": [
        {
          "output_type": "execute_result",
          "data": {
            "text/plain": [
              "[False, 'mango', False, 2.4, 'TOWER', True, [2], 'dragonfruit']"
            ]
          },
          "metadata": {},
          "execution_count": 17
        }
      ],
      "source": [
        "# Add element to the index position 1\n",
        "list1.insert(1, \"mango\")\n",
        "list1"
      ]
    },
    {
      "cell_type": "code",
      "execution_count": 18,
      "metadata": {
        "colab": {
          "base_uri": "https://localhost:8080/"
        },
        "id": "kqPMEb-xK_EA",
        "outputId": "4fbebfd4-a175-47e5-bdc4-e1f835d1a0b1"
      },
      "outputs": [
        {
          "output_type": "execute_result",
          "data": {
            "text/plain": [
              "[False, 'mango', False, 2.4, 'TOWER', True, [2], 'dragonfruit']"
            ]
          },
          "metadata": {},
          "execution_count": 18
        }
      ],
      "source": [
        "list1"
      ]
    },
    {
      "cell_type": "code",
      "execution_count": 19,
      "metadata": {
        "colab": {
          "base_uri": "https://localhost:8080/"
        },
        "id": "fR8FP6TVK_EA",
        "outputId": "fdc4aa3e-a4b1-4486-ae33-504c06fc79ec"
      },
      "outputs": [
        {
          "output_type": "execute_result",
          "data": {
            "text/plain": [
              "[False, 'mango', False, 2.4, 'TOWER', True, [2, 'new!'], 'dragonfruit']"
            ]
          },
          "metadata": {},
          "execution_count": 19
        }
      ],
      "source": [
        "# Modify list elements\n",
        "list1[-2].append('new!')\n",
        "list1"
      ]
    },
    {
      "cell_type": "markdown",
      "metadata": {
        "id": "5YYa_apoK_EA"
      },
      "source": [
        "#### Removing list elements"
      ]
    },
    {
      "cell_type": "code",
      "execution_count": 20,
      "metadata": {
        "colab": {
          "base_uri": "https://localhost:8080/"
        },
        "id": "zh0-HNgTK_EA",
        "outputId": "620c48b8-14dd-4550-d1e0-1e67b6b5edb0"
      },
      "outputs": [
        {
          "output_type": "execute_result",
          "data": {
            "text/plain": [
              "[False, False, 2.4, 'TOWER', True, [2, 'new!'], 'dragonfruit']"
            ]
          },
          "metadata": {},
          "execution_count": 20
        }
      ],
      "source": [
        "# Remove certain element\n",
        "list1.remove(\"mango\")\n",
        "list1"
      ]
    },
    {
      "cell_type": "code",
      "execution_count": 21,
      "metadata": {
        "colab": {
          "base_uri": "https://localhost:8080/"
        },
        "id": "Q_l1R45PK_EA",
        "outputId": "1315c292-6d19-4746-a3b5-83be7e23ff55"
      },
      "outputs": [
        {
          "output_type": "stream",
          "name": "stdout",
          "text": [
            "[False, False, 2.4, 'TOWER', True, [2, 'new!']]\n",
            "Poped : dragonfruit\n"
          ]
        }
      ],
      "source": [
        "# Remove last element\n",
        "pop_el = list1.pop()\n",
        "print(list1)\n",
        "print('Poped : {}'.format(pop_el))"
      ]
    },
    {
      "cell_type": "code",
      "execution_count": 22,
      "metadata": {
        "colab": {
          "base_uri": "https://localhost:8080/"
        },
        "id": "gT2duCpFK_EA",
        "outputId": "a5378c91-8aac-4e66-a7ae-29efe7238ba7"
      },
      "outputs": [
        {
          "output_type": "stream",
          "name": "stdout",
          "text": [
            "[False, False, 'TOWER', True, [2, 'new!']]\n",
            "Poped el 2.4\n"
          ]
        }
      ],
      "source": [
        "# Pop element with index 2\n",
        "pop_el = list1.pop(2)\n",
        "print(list1)\n",
        "print('Poped el {}'.format(pop_el))"
      ]
    },
    {
      "cell_type": "code",
      "execution_count": 24,
      "metadata": {
        "colab": {
          "base_uri": "https://localhost:8080/",
          "height": 180
        },
        "id": "CNQI42XZK_EA",
        "outputId": "441c550c-956b-4cb1-cbff-37cedd3ff5d7"
      },
      "outputs": [
        {
          "output_type": "error",
          "ename": "ValueError",
          "evalue": "list.remove(x): x not in list",
          "traceback": [
            "\u001b[0;31m---------------------------------------------------------------------------\u001b[0m",
            "\u001b[0;31mValueError\u001b[0m                                Traceback (most recent call last)",
            "\u001b[0;32m<ipython-input-24-e2166d1af546>\u001b[0m in \u001b[0;36m<cell line: 2>\u001b[0;34m()\u001b[0m\n\u001b[1;32m      1\u001b[0m \u001b[0;31m# Attempt removing non-existant element\u001b[0m\u001b[0;34m\u001b[0m\u001b[0;34m\u001b[0m\u001b[0m\n\u001b[0;32m----> 2\u001b[0;31m \u001b[0mlist1\u001b[0m\u001b[0;34m.\u001b[0m\u001b[0mremove\u001b[0m\u001b[0;34m(\u001b[0m\u001b[0;34m\"mango\"\u001b[0m\u001b[0;34m)\u001b[0m\u001b[0;34m\u001b[0m\u001b[0;34m\u001b[0m\u001b[0m\n\u001b[0m\u001b[1;32m      3\u001b[0m \u001b[0mlist1\u001b[0m\u001b[0;34m\u001b[0m\u001b[0;34m\u001b[0m\u001b[0m\n",
            "\u001b[0;31mValueError\u001b[0m: list.remove(x): x not in list"
          ]
        }
      ],
      "source": [
        "# Attempt removing non-existant element\n",
        "list1.remove(\"mango\")\n",
        "list1"
      ]
    },
    {
      "cell_type": "code",
      "execution_count": 25,
      "metadata": {
        "colab": {
          "base_uri": "https://localhost:8080/"
        },
        "id": "TH9SfqzjK_EA",
        "outputId": "d4069cd0-75b8-4f6c-b6ef-cee2b2988581"
      },
      "outputs": [
        {
          "output_type": "execute_result",
          "data": {
            "text/plain": [
              "[False, 'TOWER', True, [2, 'new!']]"
            ]
          },
          "metadata": {},
          "execution_count": 25
        }
      ],
      "source": [
        "del list1[1]\n",
        "list1"
      ]
    },
    {
      "cell_type": "markdown",
      "metadata": {
        "id": "ekNn_NSGK_EA"
      },
      "source": [
        "#### Checking if list contains element"
      ]
    },
    {
      "cell_type": "code",
      "execution_count": 26,
      "metadata": {
        "id": "EsiCZGwAK_EB"
      },
      "outputs": [],
      "source": [
        "# Checking if element is in the list\n",
        "if \"car\" in list1:\n",
        "    print(\"Car is in the list.\")"
      ]
    },
    {
      "cell_type": "markdown",
      "metadata": {
        "id": "N3cjQQLlK_EB"
      },
      "source": [
        "#### Operations on lists"
      ]
    },
    {
      "cell_type": "code",
      "execution_count": 27,
      "metadata": {
        "colab": {
          "base_uri": "https://localhost:8080/"
        },
        "id": "KN98oViNK_EB",
        "outputId": "60cbc729-0ac2-4850-a1ca-6e555143e564"
      },
      "outputs": [
        {
          "output_type": "execute_result",
          "data": {
            "text/plain": [
              "[1, 2, 'a', True, False]"
            ]
          },
          "metadata": {},
          "execution_count": 27
        }
      ],
      "source": [
        "# Concatenating lists\n",
        "l1 = [1,2,'a']\n",
        "l2 = [True, False]\n",
        "\n",
        "l3 = l1 + l2\n",
        "l3"
      ]
    },
    {
      "cell_type": "code",
      "execution_count": 28,
      "metadata": {
        "colab": {
          "base_uri": "https://localhost:8080/"
        },
        "id": "Ad4hZENfK_EB",
        "outputId": "eeed9929-fd0a-400e-8744-780c1cd32a3c"
      },
      "outputs": [
        {
          "output_type": "execute_result",
          "data": {
            "text/plain": [
              "[1, 2, 'a', 1, 2, 'a', 1, 2, 'a']"
            ]
          },
          "metadata": {},
          "execution_count": 28
        }
      ],
      "source": [
        "# \"Repeating lists\"\n",
        "l1 = [1,2, 'a']\n",
        "l1*3"
      ]
    },
    {
      "cell_type": "code",
      "execution_count": 29,
      "metadata": {
        "colab": {
          "base_uri": "https://localhost:8080/"
        },
        "id": "iHl2bVffK_EB",
        "outputId": "ff4541c4-13a9-4c95-b2a9-8b58e73d1a16"
      },
      "outputs": [
        {
          "output_type": "execute_result",
          "data": {
            "text/plain": [
              "True"
            ]
          },
          "metadata": {},
          "execution_count": 29
        }
      ],
      "source": [
        "# Comparing lists\n",
        "l1 = [1,2,3]\n",
        "l2 = [1,2,3]\n",
        "\n",
        "l1 == l2"
      ]
    },
    {
      "cell_type": "code",
      "execution_count": 30,
      "metadata": {
        "colab": {
          "base_uri": "https://localhost:8080/"
        },
        "id": "F5BZaW4nK_EB",
        "outputId": "5cf5c5eb-ddd2-4d2a-874d-992726e482e1"
      },
      "outputs": [
        {
          "output_type": "execute_result",
          "data": {
            "text/plain": [
              "False"
            ]
          },
          "metadata": {},
          "execution_count": 30
        }
      ],
      "source": [
        "# Comparing lists\n",
        "l1 = [1,2,3]\n",
        "l2 = [1,3,2]\n",
        "\n",
        "l1 == l2"
      ]
    },
    {
      "cell_type": "markdown",
      "metadata": {
        "id": "GB2AbP36K_EB"
      },
      "source": [
        "##### List summarization functions"
      ]
    },
    {
      "cell_type": "code",
      "execution_count": 31,
      "metadata": {
        "colab": {
          "base_uri": "https://localhost:8080/"
        },
        "id": "_ytKdPZSK_EB",
        "outputId": "d2e196b8-c4e4-4b7d-853b-43bf439665e3"
      },
      "outputs": [
        {
          "output_type": "stream",
          "name": "stdout",
          "text": [
            "Sum : 45\n",
            "Maximum : 9\n",
            "Minimum : 0\n"
          ]
        }
      ],
      "source": [
        "# Specialized operations for numbers\n",
        "numbers = [0, 1, 2, 3, 4, 5, 6, 7, 8, 9]\n",
        "\n",
        "print('Sum : {}'.format(sum(numbers)))\n",
        "print('Maximum : {}'.format(max(numbers)))\n",
        "print('Minimum : {}'.format(min(numbers)))"
      ]
    },
    {
      "cell_type": "code",
      "execution_count": 32,
      "metadata": {
        "colab": {
          "base_uri": "https://localhost:8080/"
        },
        "id": "garpFZl0K_EB",
        "outputId": "df1cf9c8-6e5c-4e86-80e8-1e99624f4704"
      },
      "outputs": [
        {
          "output_type": "stream",
          "name": "stdout",
          "text": [
            "All operator : False\n",
            "Any operator : True\n"
          ]
        }
      ],
      "source": [
        "# Specialied operations for boolean lists\n",
        "bool_list = [True, True, False]\n",
        "\n",
        "print('All operator : {}'.format(all(bool_list)))\n",
        "print('Any operator : {}'.format(any(bool_list)))"
      ]
    },
    {
      "cell_type": "markdown",
      "metadata": {
        "id": "5L-dMJgpK_EC"
      },
      "source": [
        "##### Iterating through list"
      ]
    },
    {
      "cell_type": "code",
      "execution_count": 33,
      "metadata": {
        "colab": {
          "base_uri": "https://localhost:8080/"
        },
        "id": "9bNeBuniK_EC",
        "outputId": "9f570a50-23c6-4a9c-8ad6-4ca0d748852e"
      },
      "outputs": [
        {
          "output_type": "stream",
          "name": "stdout",
          "text": [
            "bird\n",
            "True\n",
            "4\n",
            "5\n",
            "submarine\n"
          ]
        }
      ],
      "source": [
        "# Simple iteration\n",
        "list2 = ['bird', True, 4, 5, 'submarine']\n",
        "\n",
        "for el in list2:\n",
        "    print(el)"
      ]
    },
    {
      "cell_type": "code",
      "execution_count": 34,
      "metadata": {
        "colab": {
          "base_uri": "https://localhost:8080/"
        },
        "id": "JwNFHJZ9K_EC",
        "outputId": "bd365b30-2680-4261-a0c1-6cd097e0f7b7"
      },
      "outputs": [
        {
          "output_type": "execute_result",
          "data": {
            "text/plain": [
              "['bird', 'submarine']"
            ]
          },
          "metadata": {},
          "execution_count": 34
        }
      ],
      "source": [
        "# Creating new list based on existing list\n",
        "# and if statement\n",
        "str_list = []\n",
        "\n",
        "for el in list2:\n",
        "    if isinstance(el, str):\n",
        "        str_list.append(el)\n",
        "str_list\n",
        ""
      ]
    },
    {
      "cell_type": "code",
      "execution_count": 35,
      "metadata": {
        "colab": {
          "base_uri": "https://localhost:8080/"
        },
        "id": "tLWl2MphK_EC",
        "outputId": "4fb2c280-903b-4d1b-b0ee-1f8dcee025fc"
      },
      "outputs": [
        {
          "output_type": "stream",
          "name": "stdout",
          "text": [
            "1\n",
            "a\n",
            "---------\n",
            "2\n",
            "b\n",
            "---------\n",
            "3\n",
            "c\n",
            "---------\n"
          ]
        }
      ],
      "source": [
        "# Iterating through two lists at the same time\n",
        "l1 = [1,2,3]\n",
        "l2 = ['a', 'b', 'c']\n",
        "\n",
        "for el1, el2 in zip(l1,l2):\n",
        "\n",
        "    print(el1)\n",
        "    print(el2)\n",
        "    print('---------')"
      ]
    },
    {
      "cell_type": "code",
      "execution_count": 36,
      "metadata": {
        "colab": {
          "base_uri": "https://localhost:8080/"
        },
        "id": "SH1vNL_lK_ED",
        "outputId": "9128d41c-7350-4de0-c68b-8001413bfbeb"
      },
      "outputs": [
        {
          "output_type": "stream",
          "name": "stdout",
          "text": [
            "0\n",
            "house\n",
            "---------\n",
            "1\n",
            "frog\n",
            "---------\n",
            "2\n",
            "rabbit\n",
            "---------\n"
          ]
        }
      ],
      "source": [
        "# List enumeration\n",
        "l1 = ['house', 'frog', 'rabbit']\n",
        "\n",
        "for list_i, el in enumerate(l1):\n",
        "\n",
        "    print(list_i)\n",
        "    print(el)\n",
        "    print('---------')"
      ]
    },
    {
      "cell_type": "code",
      "execution_count": 37,
      "metadata": {
        "colab": {
          "base_uri": "https://localhost:8080/"
        },
        "id": "Ow2p9ZMVK_ED",
        "outputId": "6be07a45-9d2d-450f-a63b-f6a0132647cd"
      },
      "outputs": [
        {
          "output_type": "execute_result",
          "data": {
            "text/plain": [
              "range(0, 10)"
            ]
          },
          "metadata": {},
          "execution_count": 37
        }
      ],
      "source": [
        "rng = range(10)\n",
        "rng"
      ]
    },
    {
      "cell_type": "code",
      "execution_count": 38,
      "metadata": {
        "colab": {
          "base_uri": "https://localhost:8080/"
        },
        "id": "_MYWQTRnK_ED",
        "outputId": "90e0706a-bc99-48ab-b507-9c9160a70950"
      },
      "outputs": [
        {
          "output_type": "stream",
          "name": "stdout",
          "text": [
            "0\n",
            "house\n",
            "---------\n",
            "1\n",
            "frog\n",
            "---------\n",
            "2\n",
            "rabbit\n",
            "---------\n"
          ]
        }
      ],
      "source": [
        "# Iterating with range\n",
        "\n",
        "l1 = ['house', 'frog', 'rabbit']\n",
        "\n",
        "for i in range(len(l1)):\n",
        "\n",
        "    print(i)\n",
        "    print(l1[i])\n",
        "    print('---------')"
      ]
    },
    {
      "cell_type": "markdown",
      "metadata": {
        "id": "FukRMXqsK_ED"
      },
      "source": [
        "### Summary:\n",
        "\n",
        "We have learned about:\n",
        "\n",
        "- Creating a list\n",
        "  \n",
        "- Getting list elements\n",
        "- Adding / modifying list elements\n",
        "- Removing list elements\n",
        "- Checking if list contains element\n",
        "- Operations on lists\n",
        "- List summarization functions\n",
        "- Iterating through list"
      ]
    }
  ],
  "metadata": {
    "kernelspec": {
      "display_name": "test_env_2",
      "language": "python",
      "name": "python3"
    },
    "language_info": {
      "codemirror_mode": {
        "name": "ipython",
        "version": 3
      },
      "file_extension": ".py",
      "mimetype": "text/x-python",
      "name": "python",
      "nbconvert_exporter": "python",
      "pygments_lexer": "ipython3",
      "version": "3.11.3"
    },
    "orig_nbformat": 4,
    "colab": {
      "provenance": [],
      "include_colab_link": true
    }
  },
  "nbformat": 4,
  "nbformat_minor": 0
}