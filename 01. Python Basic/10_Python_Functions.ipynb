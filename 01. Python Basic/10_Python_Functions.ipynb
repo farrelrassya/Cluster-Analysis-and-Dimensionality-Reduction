{
  "cells": [
    {
      "cell_type": "markdown",
      "metadata": {
        "id": "view-in-github",
        "colab_type": "text"
      },
      "source": [
        "<a href=\"https://colab.research.google.com/github/farrelrassya/Cluster-Analysis-and-Dimensionality-Reduction/blob/main/01.%20Python%20Basic/10_Python_Functions.ipynb\" target=\"_parent\"><img src=\"https://colab.research.google.com/assets/colab-badge.svg\" alt=\"Open In Colab\"/></a>"
      ]
    },
    {
      "cell_type": "markdown",
      "metadata": {
        "id": "LJvhgRV759Nw"
      },
      "source": [
        "## Python functions\n",
        "\n",
        "#### Agenda:\n",
        "\n",
        "- Function definition\n",
        "  \n",
        "- Positional and keyword arguments\n",
        "- Argument default values\n",
        "- Using \"*\" with function arguments\n",
        "- Using \"**\" with function arguments"
      ]
    },
    {
      "cell_type": "markdown",
      "metadata": {
        "id": "w01_eKB759Ny"
      },
      "source": [
        "#### Creating simple function"
      ]
    },
    {
      "cell_type": "code",
      "execution_count": 1,
      "metadata": {
        "colab": {
          "base_uri": "https://localhost:8080/"
        },
        "id": "UlL-mRHh59Nz",
        "outputId": "d9bdfaca-8d55-45f6-907f-26f6340d7eca"
      },
      "outputs": [
        {
          "output_type": "stream",
          "name": "stdout",
          "text": [
            "['cat', 'car']\n"
          ]
        }
      ],
      "source": [
        "word_list = [\"cat\", \"window\", \"bridges\", \"car\"]\n",
        "character = 'c'\n",
        "\n",
        "target_word_list = []\n",
        "\n",
        "for word in word_list:\n",
        "\n",
        "    if character in word:\n",
        "        target_word_list.append(word)\n",
        "\n",
        "print(target_word_list)\n"
      ]
    },
    {
      "cell_type": "code",
      "execution_count": 2,
      "metadata": {
        "id": "A11Br4xv59N0"
      },
      "outputs": [],
      "source": [
        "# Define function\n",
        "\n",
        "def find_words_containing_character(word_list, character):\n",
        "\n",
        "    target_word_list = []\n",
        "\n",
        "    for word in word_list:\n",
        "\n",
        "        if character in word:\n",
        "            target_word_list.append(word)\n",
        "\n",
        "    return target_word_list"
      ]
    },
    {
      "cell_type": "code",
      "execution_count": 3,
      "metadata": {
        "colab": {
          "base_uri": "https://localhost:8080/"
        },
        "id": "rFJ-1yNB59N0",
        "outputId": "f75e7c51-45b8-4532-e848-d4e59ee20284"
      },
      "outputs": [
        {
          "output_type": "execute_result",
          "data": {
            "text/plain": [
              "function"
            ]
          },
          "metadata": {},
          "execution_count": 3
        }
      ],
      "source": [
        "# Check type of \"find_words_containing_character\"\n",
        "type(find_words_containing_character)"
      ]
    },
    {
      "cell_type": "code",
      "execution_count": 4,
      "metadata": {
        "colab": {
          "base_uri": "https://localhost:8080/"
        },
        "id": "AemJiTsg59N1",
        "outputId": "a5a71ad0-1c20-4722-86c1-c0de3ad25257"
      },
      "outputs": [
        {
          "output_type": "execute_result",
          "data": {
            "text/plain": [
              "136068556794192"
            ]
          },
          "metadata": {},
          "execution_count": 4
        }
      ],
      "source": [
        "id(find_words_containing_character)"
      ]
    },
    {
      "cell_type": "code",
      "execution_count": 5,
      "metadata": {
        "colab": {
          "base_uri": "https://localhost:8080/"
        },
        "id": "0fSczLrR59N1",
        "outputId": "33f1b603-7ab2-4614-c3f0-675991302dc8"
      },
      "outputs": [
        {
          "output_type": "stream",
          "name": "stdout",
          "text": [
            "['cat', 'car']\n"
          ]
        }
      ],
      "source": [
        "# Call by using keyword argument\n",
        "\n",
        "words = [\"cat\", \"window\", \"bridges\", \"car\"]\n",
        "\n",
        "out_list = find_words_containing_character(\n",
        "    word_list=words,\n",
        "    character='c'\n",
        ")\n",
        "\n",
        "print(out_list)"
      ]
    },
    {
      "cell_type": "markdown",
      "metadata": {
        "id": "IHu-3c7S59N1"
      },
      "source": [
        "#### Function arguments"
      ]
    },
    {
      "cell_type": "code",
      "execution_count": 6,
      "metadata": {
        "colab": {
          "base_uri": "https://localhost:8080/"
        },
        "id": "F0sUu3B259N2",
        "outputId": "c0306890-4a25-406d-d89e-ab0969636105"
      },
      "outputs": [
        {
          "output_type": "stream",
          "name": "stdout",
          "text": [
            "['cat', 'car']\n"
          ]
        }
      ],
      "source": [
        "# Call by using keyword argument\n",
        "\n",
        "words = [\"cat\", \"window\", \"bridges\", \"car\"]\n",
        "out_list = find_words_containing_character(\n",
        "    word_list=words,\n",
        "    character='c'\n",
        ")\n",
        "print(out_list)"
      ]
    },
    {
      "cell_type": "code",
      "execution_count": 7,
      "metadata": {
        "colab": {
          "base_uri": "https://localhost:8080/"
        },
        "id": "wcq8zWBS59N2",
        "outputId": "7deeea94-2651-4efc-abf1-7976e3f78323"
      },
      "outputs": [
        {
          "output_type": "stream",
          "name": "stdout",
          "text": [
            "['cat', 'car']\n"
          ]
        }
      ],
      "source": [
        "# Call by using positional argument\n",
        "\n",
        "words = [\"cat\", \"window\", \"bridges\", \"car\"]\n",
        "\n",
        "out_list = find_words_containing_character(words, 'c')\n",
        "\n",
        "print(out_list)"
      ]
    },
    {
      "cell_type": "code",
      "execution_count": 8,
      "metadata": {
        "colab": {
          "base_uri": "https://localhost:8080/"
        },
        "id": "XHMePbmL59N2",
        "outputId": "e7a8aff3-a45b-40e4-a29c-9b334a228753"
      },
      "outputs": [
        {
          "output_type": "stream",
          "name": "stdout",
          "text": [
            "['cat', 'car']\n"
          ]
        }
      ],
      "source": [
        "# Call by using mix of arguments\n",
        "\n",
        "words = [\"cat\", \"window\", \"bridges\", \"car\"]\n",
        "\n",
        "out_list = find_words_containing_character(words, character='c')\n",
        "\n",
        "print(out_list)"
      ]
    },
    {
      "cell_type": "code",
      "execution_count": 11,
      "metadata": {
        "colab": {
          "base_uri": "https://localhost:8080/",
          "height": 108
        },
        "id": "lvOtzUWK59N2",
        "outputId": "f849c3ff-7ac0-4c4f-e403-1189bf1d8694"
      },
      "outputs": [
        {
          "output_type": "error",
          "ename": "SyntaxError",
          "evalue": "positional argument follows keyword argument (<ipython-input-11-5e947863020e>, line 5)",
          "traceback": [
            "\u001b[0;36m  File \u001b[0;32m\"<ipython-input-11-5e947863020e>\"\u001b[0;36m, line \u001b[0;32m5\u001b[0m\n\u001b[0;31m    out_list = find_words_containing_character(word_list=words, 'h')\u001b[0m\n\u001b[0m                                                                   ^\u001b[0m\n\u001b[0;31mSyntaxError\u001b[0m\u001b[0;31m:\u001b[0m positional argument follows keyword argument\n"
          ]
        }
      ],
      "source": [
        "# Call by using mix of arguments\n",
        "\n",
        "words = [\"cat\", \"window\", \"bridges\", \"car\"]\n",
        "\n",
        "out_list = find_words_containing_character(word_list=words, 'h')\n",
        "\n",
        "print(out_list)"
      ]
    },
    {
      "cell_type": "code",
      "execution_count": 12,
      "metadata": {
        "colab": {
          "base_uri": "https://localhost:8080/",
          "height": 216
        },
        "id": "TOfTnrsC59N2",
        "outputId": "3a01bdfd-02be-431f-f1aa-1360da53a4d3"
      },
      "outputs": [
        {
          "output_type": "error",
          "ename": "TypeError",
          "evalue": "find_words_containing_character() missing 1 required positional argument: 'character'",
          "traceback": [
            "\u001b[0;31m---------------------------------------------------------------------------\u001b[0m",
            "\u001b[0;31mTypeError\u001b[0m                                 Traceback (most recent call last)",
            "\u001b[0;32m<ipython-input-12-ed9548d8e844>\u001b[0m in \u001b[0;36m<cell line: 5>\u001b[0;34m()\u001b[0m\n\u001b[1;32m      3\u001b[0m \u001b[0mwords\u001b[0m \u001b[0;34m=\u001b[0m \u001b[0;34m[\u001b[0m\u001b[0;34m\"cat\"\u001b[0m\u001b[0;34m,\u001b[0m \u001b[0;34m\"window\"\u001b[0m\u001b[0;34m,\u001b[0m \u001b[0;34m\"bridges\"\u001b[0m\u001b[0;34m,\u001b[0m \u001b[0;34m\"car\"\u001b[0m\u001b[0;34m]\u001b[0m\u001b[0;34m\u001b[0m\u001b[0;34m\u001b[0m\u001b[0m\n\u001b[1;32m      4\u001b[0m \u001b[0;34m\u001b[0m\u001b[0m\n\u001b[0;32m----> 5\u001b[0;31m \u001b[0mout_list\u001b[0m \u001b[0;34m=\u001b[0m \u001b[0mfind_words_containing_character\u001b[0m\u001b[0;34m(\u001b[0m\u001b[0mwords\u001b[0m\u001b[0;34m)\u001b[0m\u001b[0;34m\u001b[0m\u001b[0;34m\u001b[0m\u001b[0m\n\u001b[0m\u001b[1;32m      6\u001b[0m \u001b[0;34m\u001b[0m\u001b[0m\n\u001b[1;32m      7\u001b[0m \u001b[0mprint\u001b[0m\u001b[0;34m(\u001b[0m\u001b[0mout_list\u001b[0m\u001b[0;34m)\u001b[0m\u001b[0;34m\u001b[0m\u001b[0;34m\u001b[0m\u001b[0m\n",
            "\u001b[0;31mTypeError\u001b[0m: find_words_containing_character() missing 1 required positional argument: 'character'"
          ]
        }
      ],
      "source": [
        "# All arguments must be passed to the function\n",
        "\n",
        "words = [\"cat\", \"window\", \"bridges\", \"car\"]\n",
        "\n",
        "out_list = find_words_containing_character(words)\n",
        "\n",
        "print(out_list)"
      ]
    },
    {
      "cell_type": "code",
      "execution_count": 13,
      "metadata": {
        "colab": {
          "base_uri": "https://localhost:8080/",
          "height": 216
        },
        "id": "KfNNoXzG59N3",
        "outputId": "aa8e842e-cdda-4723-c054-efe03abeedd9"
      },
      "outputs": [
        {
          "output_type": "error",
          "ename": "TypeError",
          "evalue": "find_words_containing_character() missing 1 required positional argument: 'character'",
          "traceback": [
            "\u001b[0;31m---------------------------------------------------------------------------\u001b[0m",
            "\u001b[0;31mTypeError\u001b[0m                                 Traceback (most recent call last)",
            "\u001b[0;32m<ipython-input-13-fbb3499c659a>\u001b[0m in \u001b[0;36m<cell line: 5>\u001b[0;34m()\u001b[0m\n\u001b[1;32m      3\u001b[0m \u001b[0mwords\u001b[0m \u001b[0;34m=\u001b[0m \u001b[0;34m[\u001b[0m\u001b[0;34m\"cat\"\u001b[0m\u001b[0;34m,\u001b[0m \u001b[0;34m\"window\"\u001b[0m\u001b[0;34m,\u001b[0m \u001b[0;34m\"bridges\"\u001b[0m\u001b[0;34m,\u001b[0m \u001b[0;34m\"car\"\u001b[0m\u001b[0;34m]\u001b[0m\u001b[0;34m\u001b[0m\u001b[0;34m\u001b[0m\u001b[0m\n\u001b[1;32m      4\u001b[0m \u001b[0;34m\u001b[0m\u001b[0m\n\u001b[0;32m----> 5\u001b[0;31m \u001b[0mout_list\u001b[0m \u001b[0;34m=\u001b[0m \u001b[0mfind_words_containing_character\u001b[0m\u001b[0;34m(\u001b[0m\u001b[0mword_list\u001b[0m\u001b[0;34m=\u001b[0m\u001b[0mwords\u001b[0m\u001b[0;34m)\u001b[0m\u001b[0;34m\u001b[0m\u001b[0;34m\u001b[0m\u001b[0m\n\u001b[0m\u001b[1;32m      6\u001b[0m \u001b[0;34m\u001b[0m\u001b[0m\n\u001b[1;32m      7\u001b[0m \u001b[0mprint\u001b[0m\u001b[0;34m(\u001b[0m\u001b[0mout_list\u001b[0m\u001b[0;34m)\u001b[0m\u001b[0;34m\u001b[0m\u001b[0;34m\u001b[0m\u001b[0m\n",
            "\u001b[0;31mTypeError\u001b[0m: find_words_containing_character() missing 1 required positional argument: 'character'"
          ]
        }
      ],
      "source": [
        "# All arguments must be passed to the function\n",
        "\n",
        "words = [\"cat\", \"window\", \"bridges\", \"car\"]\n",
        "\n",
        "out_list = find_words_containing_character(word_list=words)\n",
        "\n",
        "print(out_list)"
      ]
    },
    {
      "cell_type": "code",
      "execution_count": 14,
      "metadata": {
        "colab": {
          "base_uri": "https://localhost:8080/",
          "height": 216
        },
        "id": "drPD-hWj59N3",
        "outputId": "9c49d9c9-6e7b-4e6a-80da-abec62578ba5"
      },
      "outputs": [
        {
          "output_type": "error",
          "ename": "TypeError",
          "evalue": "find_words_containing_character() takes 2 positional arguments but 3 were given",
          "traceback": [
            "\u001b[0;31m---------------------------------------------------------------------------\u001b[0m",
            "\u001b[0;31mTypeError\u001b[0m                                 Traceback (most recent call last)",
            "\u001b[0;32m<ipython-input-14-7a5c006e603f>\u001b[0m in \u001b[0;36m<cell line: 5>\u001b[0;34m()\u001b[0m\n\u001b[1;32m      3\u001b[0m \u001b[0mwords\u001b[0m \u001b[0;34m=\u001b[0m \u001b[0;34m[\u001b[0m\u001b[0;34m\"cat\"\u001b[0m\u001b[0;34m,\u001b[0m \u001b[0;34m\"window\"\u001b[0m\u001b[0;34m,\u001b[0m \u001b[0;34m\"bridges\"\u001b[0m\u001b[0;34m,\u001b[0m \u001b[0;34m\"car\"\u001b[0m\u001b[0;34m]\u001b[0m\u001b[0;34m\u001b[0m\u001b[0;34m\u001b[0m\u001b[0m\n\u001b[1;32m      4\u001b[0m \u001b[0;34m\u001b[0m\u001b[0m\n\u001b[0;32m----> 5\u001b[0;31m \u001b[0mout_list\u001b[0m \u001b[0;34m=\u001b[0m \u001b[0mfind_words_containing_character\u001b[0m\u001b[0;34m(\u001b[0m\u001b[0mwords\u001b[0m\u001b[0;34m,\u001b[0m\u001b[0;34m'h'\u001b[0m\u001b[0;34m,\u001b[0m \u001b[0;32mTrue\u001b[0m\u001b[0;34m)\u001b[0m\u001b[0;34m\u001b[0m\u001b[0;34m\u001b[0m\u001b[0m\n\u001b[0m\u001b[1;32m      6\u001b[0m \u001b[0;34m\u001b[0m\u001b[0m\n\u001b[1;32m      7\u001b[0m \u001b[0mprint\u001b[0m\u001b[0;34m(\u001b[0m\u001b[0mout_list\u001b[0m\u001b[0;34m)\u001b[0m\u001b[0;34m\u001b[0m\u001b[0;34m\u001b[0m\u001b[0m\n",
            "\u001b[0;31mTypeError\u001b[0m: find_words_containing_character() takes 2 positional arguments but 3 were given"
          ]
        }
      ],
      "source": [
        "# You cant provide values for unexisting arguments\n",
        "\n",
        "words = [\"cat\", \"window\", \"bridges\", \"car\"]\n",
        "\n",
        "out_list = find_words_containing_character(words,'h', True)\n",
        "\n",
        "print(out_list)"
      ]
    },
    {
      "cell_type": "code",
      "execution_count": 15,
      "metadata": {
        "colab": {
          "base_uri": "https://localhost:8080/",
          "height": 216
        },
        "id": "6pFYwJPB59N3",
        "outputId": "6e654e64-5a79-4b0c-d27f-07fee8948c3f"
      },
      "outputs": [
        {
          "output_type": "error",
          "ename": "TypeError",
          "evalue": "find_words_containing_character() got an unexpected keyword argument 'new_arg'",
          "traceback": [
            "\u001b[0;31m---------------------------------------------------------------------------\u001b[0m",
            "\u001b[0;31mTypeError\u001b[0m                                 Traceback (most recent call last)",
            "\u001b[0;32m<ipython-input-15-e591449989c0>\u001b[0m in \u001b[0;36m<cell line: 5>\u001b[0;34m()\u001b[0m\n\u001b[1;32m      3\u001b[0m \u001b[0mwords\u001b[0m \u001b[0;34m=\u001b[0m \u001b[0;34m[\u001b[0m\u001b[0;34m\"cat\"\u001b[0m\u001b[0;34m,\u001b[0m \u001b[0;34m\"window\"\u001b[0m\u001b[0;34m,\u001b[0m \u001b[0;34m\"bridges\"\u001b[0m\u001b[0;34m,\u001b[0m \u001b[0;34m\"car\"\u001b[0m\u001b[0;34m]\u001b[0m\u001b[0;34m\u001b[0m\u001b[0;34m\u001b[0m\u001b[0m\n\u001b[1;32m      4\u001b[0m \u001b[0;34m\u001b[0m\u001b[0m\n\u001b[0;32m----> 5\u001b[0;31m \u001b[0mout_list\u001b[0m \u001b[0;34m=\u001b[0m \u001b[0mfind_words_containing_character\u001b[0m\u001b[0;34m(\u001b[0m\u001b[0mwords\u001b[0m\u001b[0;34m,\u001b[0m\u001b[0;34m'h'\u001b[0m\u001b[0;34m,\u001b[0m \u001b[0mnew_arg\u001b[0m \u001b[0;34m=\u001b[0m \u001b[0;32mTrue\u001b[0m\u001b[0;34m)\u001b[0m\u001b[0;34m\u001b[0m\u001b[0;34m\u001b[0m\u001b[0m\n\u001b[0m\u001b[1;32m      6\u001b[0m \u001b[0;34m\u001b[0m\u001b[0m\n\u001b[1;32m      7\u001b[0m \u001b[0mprint\u001b[0m\u001b[0;34m(\u001b[0m\u001b[0mout_list\u001b[0m\u001b[0;34m)\u001b[0m\u001b[0;34m\u001b[0m\u001b[0;34m\u001b[0m\u001b[0m\n",
            "\u001b[0;31mTypeError\u001b[0m: find_words_containing_character() got an unexpected keyword argument 'new_arg'"
          ]
        }
      ],
      "source": [
        "# You cant provide values for unexisting arguments\n",
        "\n",
        "words = [\"cat\", \"window\", \"bridges\", \"car\"]\n",
        "\n",
        "out_list = find_words_containing_character(words,'h', new_arg = True)\n",
        "\n",
        "print(out_list)"
      ]
    },
    {
      "cell_type": "markdown",
      "metadata": {
        "id": "mj8_SRbO59N3"
      },
      "source": [
        "##### Argument default values"
      ]
    },
    {
      "cell_type": "code",
      "execution_count": 16,
      "metadata": {
        "id": "2So8hWH359N3"
      },
      "outputs": [],
      "source": [
        "words = [\"cat\", \"window\", \"bridges\", \"car\"]\n",
        "\n",
        "def find_words_containing_character(word_list, character='c'):\n",
        "\n",
        "    target_word_list = []\n",
        "\n",
        "    for word in word_list:\n",
        "\n",
        "        if character in word:\n",
        "            target_word_list.append(word)\n",
        "\n",
        "    # Return the longest word\n",
        "    return target_word_list"
      ]
    },
    {
      "cell_type": "code",
      "execution_count": 17,
      "metadata": {
        "colab": {
          "base_uri": "https://localhost:8080/"
        },
        "id": "yifM3QSC59N3",
        "outputId": "1a047056-402c-474b-e42a-baf1ef40804d"
      },
      "outputs": [
        {
          "output_type": "execute_result",
          "data": {
            "text/plain": [
              "['cat', 'car']"
            ]
          },
          "metadata": {},
          "execution_count": 17
        }
      ],
      "source": [
        "find_words_containing_character(word_list)"
      ]
    },
    {
      "cell_type": "code",
      "execution_count": 18,
      "metadata": {
        "colab": {
          "base_uri": "https://localhost:8080/"
        },
        "id": "3dEcSRFS59N4",
        "outputId": "7f84a8e0-6a15-4b15-e50d-cc67b2664734"
      },
      "outputs": [
        {
          "output_type": "execute_result",
          "data": {
            "text/plain": [
              "['cat', 'car']"
            ]
          },
          "metadata": {},
          "execution_count": 18
        }
      ],
      "source": [
        "find_words_containing_character(word_list=word_list)"
      ]
    },
    {
      "cell_type": "markdown",
      "metadata": {
        "id": "ONXVMjSi59N4"
      },
      "source": [
        "##### Unpacking positional arguments with *"
      ]
    },
    {
      "cell_type": "code",
      "execution_count": 19,
      "metadata": {
        "id": "HSjCAFV459N4"
      },
      "outputs": [],
      "source": [
        "def sum_numbers(a, b, c):\n",
        "    return a + b + c"
      ]
    },
    {
      "cell_type": "code",
      "execution_count": 20,
      "metadata": {
        "colab": {
          "base_uri": "https://localhost:8080/"
        },
        "id": "rsy87FlO59N4",
        "outputId": "0a1a8fd2-0620-4ec6-d4be-6fcfe66baf5b"
      },
      "outputs": [
        {
          "output_type": "execute_result",
          "data": {
            "text/plain": [
              "6"
            ]
          },
          "metadata": {},
          "execution_count": 20
        }
      ],
      "source": [
        "# Call with positional arguments\n",
        "sum_numbers(1,2,3)"
      ]
    },
    {
      "cell_type": "code",
      "execution_count": 21,
      "metadata": {
        "colab": {
          "base_uri": "https://localhost:8080/"
        },
        "id": "AUAEHFuA59N4",
        "outputId": "3abad2d1-2c1e-4a0a-b1ac-6a98e60583b6"
      },
      "outputs": [
        {
          "output_type": "execute_result",
          "data": {
            "text/plain": [
              "6"
            ]
          },
          "metadata": {},
          "execution_count": 21
        }
      ],
      "source": [
        "# List can be unpacked as arguments\n",
        "num_list = [1,2,3]\n",
        "sum_numbers(*num_list)"
      ]
    },
    {
      "cell_type": "code",
      "execution_count": 22,
      "metadata": {
        "id": "lXzlLYr559N4"
      },
      "outputs": [],
      "source": [
        "# Star can be used inside function definition\n",
        "def sum_numbers_and_print_rest(a, b, *c):\n",
        "\n",
        "    print(a)\n",
        "    print(b)\n",
        "    print(c)"
      ]
    },
    {
      "cell_type": "code",
      "execution_count": 23,
      "metadata": {
        "colab": {
          "base_uri": "https://localhost:8080/"
        },
        "id": "29nXOx_o59N4",
        "outputId": "8b82bdc2-652a-4427-cdd7-fd60093e30be"
      },
      "outputs": [
        {
          "output_type": "stream",
          "name": "stdout",
          "text": [
            "1\n",
            "2\n",
            "(True, 'Italy')\n"
          ]
        }
      ],
      "source": [
        "sum_numbers_and_print_rest(1, 2, True, 'Italy')"
      ]
    },
    {
      "cell_type": "code",
      "execution_count": 24,
      "metadata": {
        "colab": {
          "base_uri": "https://localhost:8080/"
        },
        "id": "BrQlvaGs59N4",
        "outputId": "57e885a0-9125-4c87-cde9-7fb27b68ad77"
      },
      "outputs": [
        {
          "output_type": "stream",
          "name": "stdout",
          "text": [
            "1\n",
            "2\n",
            "(3, 4, 5)\n"
          ]
        }
      ],
      "source": [
        "def fun_1(arg1, arg2, *args):\n",
        "\n",
        "    print(arg1)\n",
        "    print(arg2)\n",
        "    print(args)\n",
        "\n",
        "fun_1(1,2,3,4,5)"
      ]
    },
    {
      "cell_type": "code",
      "execution_count": 25,
      "metadata": {
        "colab": {
          "base_uri": "https://localhost:8080/",
          "height": 180
        },
        "id": "e7euPbBu59N4",
        "outputId": "d50be2d5-89db-41f2-f7b0-c98c7f48b019"
      },
      "outputs": [
        {
          "output_type": "error",
          "ename": "TypeError",
          "evalue": "fun_1() missing 1 required keyword-only argument: 'arg3'",
          "traceback": [
            "\u001b[0;31m---------------------------------------------------------------------------\u001b[0m",
            "\u001b[0;31mTypeError\u001b[0m                                 Traceback (most recent call last)",
            "\u001b[0;32m<ipython-input-25-4ab1ad445bfe>\u001b[0m in \u001b[0;36m<cell line: 11>\u001b[0;34m()\u001b[0m\n\u001b[1;32m      9\u001b[0m     \u001b[0mprint\u001b[0m\u001b[0;34m(\u001b[0m\u001b[0marg3\u001b[0m\u001b[0;34m)\u001b[0m\u001b[0;34m\u001b[0m\u001b[0;34m\u001b[0m\u001b[0m\n\u001b[1;32m     10\u001b[0m \u001b[0;34m\u001b[0m\u001b[0m\n\u001b[0;32m---> 11\u001b[0;31m \u001b[0mfun_1\u001b[0m\u001b[0;34m(\u001b[0m\u001b[0;36m1\u001b[0m\u001b[0;34m,\u001b[0m\u001b[0;36m2\u001b[0m\u001b[0;34m,\u001b[0m\u001b[0;36m3\u001b[0m\u001b[0;34m,\u001b[0m\u001b[0;36m4\u001b[0m\u001b[0;34m,\u001b[0m\u001b[0;36m5\u001b[0m\u001b[0;34m)\u001b[0m\u001b[0;34m\u001b[0m\u001b[0;34m\u001b[0m\u001b[0m\n\u001b[0m",
            "\u001b[0;31mTypeError\u001b[0m: fun_1() missing 1 required keyword-only argument: 'arg3'"
          ]
        }
      ],
      "source": [
        "# You can define arguments after *\n",
        "# but this arguments must be called\n",
        "# as keyword arguments\n",
        "def fun_1(arg1, arg2, *args, arg3):\n",
        "\n",
        "    print(arg1)\n",
        "    print(arg2)\n",
        "    print(args)\n",
        "    print(arg3)\n",
        "\n",
        "fun_1(1,2,3,4,5)"
      ]
    },
    {
      "cell_type": "code",
      "execution_count": 26,
      "metadata": {
        "colab": {
          "base_uri": "https://localhost:8080/"
        },
        "id": "tcpC93XS59N4",
        "outputId": "ea6c9354-6420-4ac6-8e39-980546d6ab57"
      },
      "outputs": [
        {
          "output_type": "stream",
          "name": "stdout",
          "text": [
            "1\n",
            "2\n",
            "(3, 4, 5)\n",
            "ARG3\n"
          ]
        }
      ],
      "source": [
        "fun_1(1,2,3,4,5, arg3='ARG3')"
      ]
    },
    {
      "cell_type": "markdown",
      "metadata": {
        "id": "uFEYYQmd59N4"
      },
      "source": [
        "##### Unpacking arguments with **"
      ]
    },
    {
      "cell_type": "code",
      "execution_count": 27,
      "metadata": {
        "colab": {
          "base_uri": "https://localhost:8080/"
        },
        "id": "rYXD14D459N5",
        "outputId": "a3198442-5b32-4a4a-a230-07b97558fccb"
      },
      "outputs": [
        {
          "output_type": "execute_result",
          "data": {
            "text/plain": [
              "6"
            ]
          },
          "metadata": {},
          "execution_count": 27
        }
      ],
      "source": [
        "# Unpack dict\n",
        "\n",
        "def sum_vals(a, b, c):\n",
        "    return a + b + c\n",
        "\n",
        "val_dict = {\n",
        "    'a': 1,\n",
        "    'b': 2,\n",
        "    'c': 3\n",
        "}\n",
        "\n",
        "sum_vals(**val_dict)"
      ]
    },
    {
      "cell_type": "code",
      "execution_count": 28,
      "metadata": {
        "colab": {
          "base_uri": "https://localhost:8080/",
          "height": 180
        },
        "id": "4VaEJGgd59N5",
        "outputId": "4af73a6b-33f9-4227-fb00-7ac2f98580d9"
      },
      "outputs": [
        {
          "output_type": "error",
          "ename": "TypeError",
          "evalue": "sum_vals() got an unexpected keyword argument 'm'",
          "traceback": [
            "\u001b[0;31m---------------------------------------------------------------------------\u001b[0m",
            "\u001b[0;31mTypeError\u001b[0m                                 Traceback (most recent call last)",
            "\u001b[0;32m<ipython-input-28-f5ca7afb0870>\u001b[0m in \u001b[0;36m<cell line: 12>\u001b[0;34m()\u001b[0m\n\u001b[1;32m     10\u001b[0m }\n\u001b[1;32m     11\u001b[0m \u001b[0;34m\u001b[0m\u001b[0m\n\u001b[0;32m---> 12\u001b[0;31m \u001b[0msum_vals\u001b[0m\u001b[0;34m(\u001b[0m\u001b[0;34m**\u001b[0m\u001b[0mval_dict\u001b[0m\u001b[0;34m)\u001b[0m\u001b[0;34m\u001b[0m\u001b[0;34m\u001b[0m\u001b[0m\n\u001b[0m",
            "\u001b[0;31mTypeError\u001b[0m: sum_vals() got an unexpected keyword argument 'm'"
          ]
        }
      ],
      "source": [
        "# Unpack dict\n",
        "\n",
        "def sum_vals(a, b, c):\n",
        "    return a + b + c\n",
        "\n",
        "val_dict = {\n",
        "    'm': 1,\n",
        "    'b': 2,\n",
        "    'c': 3\n",
        "}\n",
        "\n",
        "sum_vals(**val_dict)"
      ]
    },
    {
      "cell_type": "code",
      "execution_count": 29,
      "metadata": {
        "colab": {
          "base_uri": "https://localhost:8080/"
        },
        "id": "HBFtzfbi59N5",
        "outputId": "8176c655-f079-4737-cecf-5d8437cd2b5f"
      },
      "outputs": [
        {
          "output_type": "stream",
          "name": "stdout",
          "text": [
            "1\n",
            "2\n",
            "GO\n",
            "{'m1': 5, 'm2': 10}\n"
          ]
        }
      ],
      "source": [
        "# Unpack keyword arguments\n",
        "# when positional arguments are\n",
        "# also present\n",
        "\n",
        "def fun_1(arg1, arg2, arg3, **kwargs):\n",
        "\n",
        "    print(arg1)\n",
        "    print(arg2)\n",
        "    print(arg3)\n",
        "    print(kwargs)\n",
        "\n",
        "\n",
        "fun_1(1, 2, arg3='GO', m1=5, m2=10)"
      ]
    },
    {
      "cell_type": "markdown",
      "metadata": {
        "id": "LpUt7BhV59N5"
      },
      "source": [
        "##### Using * and **"
      ]
    },
    {
      "cell_type": "code",
      "execution_count": 30,
      "metadata": {
        "colab": {
          "base_uri": "https://localhost:8080/"
        },
        "id": "YqOag8ag59N5",
        "outputId": "c367af24-1362-4c6d-fbc7-eee2fd05a888"
      },
      "outputs": [
        {
          "output_type": "stream",
          "name": "stdout",
          "text": [
            "p1 : 1\n",
            "p2 : 2\n",
            "k1 : 4\n",
            "k2 : 5\n"
          ]
        }
      ],
      "source": [
        "def example_fun(p1, p2, k1, k2):\n",
        "\n",
        "    print('p1 : {}'.format(p1))\n",
        "    print('p2 : {}'.format(p2))\n",
        "    print('k1 : {}'.format(k1))\n",
        "    print('k2 : {}'.format(k2))\n",
        "\n",
        "l1 = [1, 2]\n",
        "dict1 = {\n",
        "    'k1':4,\n",
        "    'k2':5\n",
        "}\n",
        "\n",
        "example_fun(*l1, **dict1)"
      ]
    },
    {
      "cell_type": "code",
      "execution_count": 31,
      "metadata": {
        "id": "ocTAQ-Kr59N5"
      },
      "outputs": [],
      "source": [
        "# Unpack mix of positional and\n",
        "# keyword arguments\n",
        "\n",
        "def example_fun(p1, p2, *args, k1, k2, **kwargs):\n",
        "\n",
        "    print('p1 : {}'.format(p1))\n",
        "    print('p2 : {}'.format(p2))\n",
        "    print('args : {}'.format(args))\n",
        "    print('k1 : {}'.format(k1))\n",
        "    print('k2 : {}'.format(k2))\n",
        "    print('kwargs : {}'.format(kwargs))\n"
      ]
    },
    {
      "cell_type": "code",
      "execution_count": 32,
      "metadata": {
        "colab": {
          "base_uri": "https://localhost:8080/"
        },
        "id": "DPHOoE1W59N5",
        "outputId": "02845ff5-e57d-40d6-abb8-2a4488025bea"
      },
      "outputs": [
        {
          "output_type": "stream",
          "name": "stdout",
          "text": [
            "p1 : 1\n",
            "p2 : 2\n",
            "args : (3, 4, 5, 6)\n",
            "k1 : 10\n",
            "k2 : house\n",
            "kwargs : {'k3': 30, 'k4': [], 'k5': {'a': 1}}\n"
          ]
        }
      ],
      "source": [
        "example_fun(1,2,3,4,5,6, k1=10, k2='house', k3=30, k4=[], k5={'a': 1})"
      ]
    },
    {
      "cell_type": "code",
      "execution_count": 33,
      "metadata": {
        "id": "zmNza_1G59N6"
      },
      "outputs": [],
      "source": [
        "# Use star to denote where\n",
        "# positional arguments end\n",
        "def example_fun_1(p1, p2, *, k1, k2, **kwargs):\n",
        "\n",
        "    print('p1 : {}'.format(p1))\n",
        "    print('p2 : {}'.format(p2))\n",
        "    print('k1 : {}'.format(k1))\n",
        "    print('k2 : {}'.format(k2))\n",
        "    print('kwargs : {}'.format(kwargs))"
      ]
    },
    {
      "cell_type": "code",
      "execution_count": 34,
      "metadata": {
        "colab": {
          "base_uri": "https://localhost:8080/"
        },
        "id": "ps1DurZi59N6",
        "outputId": "55bfdd12-ff65-4c67-c5b0-f8eb738268f3"
      },
      "outputs": [
        {
          "output_type": "stream",
          "name": "stdout",
          "text": [
            "p1 : 1\n",
            "p2 : 2\n",
            "k1 : 10\n",
            "k2 : house\n",
            "kwargs : {'k3': 30, 'k4': [], 'k5': {'a': 1}}\n"
          ]
        }
      ],
      "source": [
        "example_fun_1(1,2, k1=10, k2='house', k3=30, k4=[], k5={'a': 1})"
      ]
    },
    {
      "cell_type": "code",
      "execution_count": 35,
      "metadata": {
        "colab": {
          "base_uri": "https://localhost:8080/",
          "height": 144
        },
        "id": "5_Tipgr659N7",
        "outputId": "cee6e65e-47b9-4603-f38e-b18296261568"
      },
      "outputs": [
        {
          "output_type": "error",
          "ename": "TypeError",
          "evalue": "example_fun_1() takes 2 positional arguments but 3 positional arguments (and 1 keyword-only argument) were given",
          "traceback": [
            "\u001b[0;31m---------------------------------------------------------------------------\u001b[0m",
            "\u001b[0;31mTypeError\u001b[0m                                 Traceback (most recent call last)",
            "\u001b[0;32m<ipython-input-35-c27eace2dcc2>\u001b[0m in \u001b[0;36m<cell line: 1>\u001b[0;34m()\u001b[0m\n\u001b[0;32m----> 1\u001b[0;31m \u001b[0mexample_fun_1\u001b[0m\u001b[0;34m(\u001b[0m\u001b[0;36m1\u001b[0m\u001b[0;34m,\u001b[0m\u001b[0;36m2\u001b[0m\u001b[0;34m,\u001b[0m \u001b[0;36m10\u001b[0m\u001b[0;34m,\u001b[0m \u001b[0mk2\u001b[0m\u001b[0;34m=\u001b[0m\u001b[0;34m'house'\u001b[0m\u001b[0;34m,\u001b[0m \u001b[0mk3\u001b[0m\u001b[0;34m=\u001b[0m\u001b[0;36m30\u001b[0m\u001b[0;34m,\u001b[0m \u001b[0mk4\u001b[0m\u001b[0;34m=\u001b[0m\u001b[0;34m[\u001b[0m\u001b[0;34m]\u001b[0m\u001b[0;34m,\u001b[0m \u001b[0mk5\u001b[0m\u001b[0;34m=\u001b[0m\u001b[0;34m{\u001b[0m\u001b[0;34m'a'\u001b[0m\u001b[0;34m:\u001b[0m \u001b[0;36m1\u001b[0m\u001b[0;34m}\u001b[0m\u001b[0;34m)\u001b[0m\u001b[0;34m\u001b[0m\u001b[0;34m\u001b[0m\u001b[0m\n\u001b[0m",
            "\u001b[0;31mTypeError\u001b[0m: example_fun_1() takes 2 positional arguments but 3 positional arguments (and 1 keyword-only argument) were given"
          ]
        }
      ],
      "source": [
        "example_fun_1(1,2, 10, k2='house', k3=30, k4=[], k5={'a': 1})"
      ]
    },
    {
      "cell_type": "code",
      "execution_count": 36,
      "metadata": {
        "colab": {
          "base_uri": "https://localhost:8080/"
        },
        "id": "RCtTyxwy59N7",
        "outputId": "586825f3-0fa8-4a20-ee88-9def35603e96"
      },
      "outputs": [
        {
          "output_type": "stream",
          "name": "stdout",
          "text": [
            "args : ('a', 1, 2, ['pro'])\n",
            "kwargs : {'a': 1, 'b': 2, 'c': True}\n"
          ]
        }
      ],
      "source": [
        "# Call function only with\n",
        "# args and kwargs\n",
        "\n",
        "def example_fun_2(*args, **kwargs):\n",
        "\n",
        "    print('args : {}'.format(args))\n",
        "    print('kwargs : {}'.format(kwargs))\n",
        "\n",
        "\n",
        "example_fun_2('a', 1, 2, ['pro'], a=1, b=2, c=True)"
      ]
    },
    {
      "cell_type": "markdown",
      "metadata": {
        "id": "xzRxttAw59N7"
      },
      "source": [
        "#### Summary:\n",
        "\n",
        "We have learned:\n",
        "\n",
        "- What is function\n",
        "\n",
        "- Function arguments\n",
        "\n",
        "- Default function argumets\n",
        "\n",
        "- Using \"*\" with function arguments\n",
        "  \n",
        "- Using \"**\" with function arguments\n",
        "\n",
        "\n",
        "\n"
      ]
    },
    {
      "cell_type": "code",
      "source": [],
      "metadata": {
        "id": "NmQZwGwT6Gug"
      },
      "execution_count": null,
      "outputs": []
    }
  ],
  "metadata": {
    "kernelspec": {
      "display_name": "test_env_2",
      "language": "python",
      "name": "python3"
    },
    "language_info": {
      "codemirror_mode": {
        "name": "ipython",
        "version": 3
      },
      "file_extension": ".py",
      "mimetype": "text/x-python",
      "name": "python",
      "nbconvert_exporter": "python",
      "pygments_lexer": "ipython3",
      "version": "3.11.3"
    },
    "orig_nbformat": 4,
    "colab": {
      "provenance": [],
      "include_colab_link": true
    }
  },
  "nbformat": 4,
  "nbformat_minor": 0
}