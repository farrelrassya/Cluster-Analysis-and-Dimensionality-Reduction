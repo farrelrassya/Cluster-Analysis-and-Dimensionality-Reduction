{
  "nbformat": 4,
  "nbformat_minor": 0,
  "metadata": {
    "colab": {
      "provenance": [],
      "authorship_tag": "ABX9TyNtHW8vHc38mTqL1m8SvQyg",
      "include_colab_link": true
    },
    "kernelspec": {
      "name": "python3",
      "display_name": "Python 3"
    },
    "language_info": {
      "name": "python"
    }
  },
  "cells": [
    {
      "cell_type": "markdown",
      "metadata": {
        "id": "view-in-github",
        "colab_type": "text"
      },
      "source": [
        "<a href=\"https://colab.research.google.com/github/farrelrassya/Cluster-Analysis-and-Dimensionality-Reduction/blob/main/01.%20Python%20Basic/%2001_Numeric_data_types.ipynb\" target=\"_parent\"><img src=\"https://colab.research.google.com/assets/colab-badge.svg\" alt=\"Open In Colab\"/></a>"
      ]
    },
    {
      "cell_type": "markdown",
      "source": [
        "#Numeric data types"
      ],
      "metadata": {
        "id": "okk5CSMVP46x"
      }
    },
    {
      "cell_type": "code",
      "execution_count": 1,
      "metadata": {
        "colab": {
          "base_uri": "https://localhost:8080/"
        },
        "id": "5S1852_APzoc",
        "outputId": "280cbb6b-f8f1-45dc-8b1b-1716d4926440"
      },
      "outputs": [
        {
          "output_type": "stream",
          "name": "stdout",
          "text": [
            "42\n",
            "<class 'int'>\n"
          ]
        }
      ],
      "source": [
        "num_int =42\n",
        "print(num_int)\n",
        "print(type(num_int))"
      ]
    },
    {
      "cell_type": "code",
      "source": [
        "num_float =42.8\n",
        "print(num_float)\n",
        "print(type(num_float))"
      ],
      "metadata": {
        "colab": {
          "base_uri": "https://localhost:8080/"
        },
        "id": "i7GD0I0eQDQH",
        "outputId": "09f0ae50-a6ca-448b-8125-fdfb54919215"
      },
      "execution_count": 2,
      "outputs": [
        {
          "output_type": "stream",
          "name": "stdout",
          "text": [
            "42.8\n",
            "<class 'float'>\n"
          ]
        }
      ]
    },
    {
      "cell_type": "markdown",
      "source": [
        "#Basic Operations"
      ],
      "metadata": {
        "id": "E1wZeSrhQxRr"
      }
    },
    {
      "cell_type": "code",
      "source": [
        "# Basic math operations\n",
        "print('Addition: {}'.format(10 + 3)) # Addition\n",
        "print('Subtraction: {}'.format(10 - 3)) # Subtraction\n",
        "print('Multiplication: {}'.format(10 * 3)) # Multiplication\n",
        "print('Division: {}'.format(10 / 3)) # Division"
      ],
      "metadata": {
        "colab": {
          "base_uri": "https://localhost:8080/"
        },
        "id": "zPti8lPqQIqd",
        "outputId": "a2b2bcb2-8deb-42d5-bb19-04e7df146824"
      },
      "execution_count": 7,
      "outputs": [
        {
          "output_type": "stream",
          "name": "stdout",
          "text": [
            "Addition: 13\n",
            "Subtraction: 7\n",
            "Multiplication: 30\n",
            "Division: 3.3333333333333335\n"
          ]
        }
      ]
    },
    {
      "cell_type": "code",
      "source": [
        "# Power has python specific operator\n",
        "print('Exponentiation: {}'.format(10 ** 3)) # Power"
      ],
      "metadata": {
        "colab": {
          "base_uri": "https://localhost:8080/"
        },
        "id": "JBf6qhztQPPw",
        "outputId": "84b0fa94-e053-4bbe-a3ca-07a868335b81"
      },
      "execution_count": 8,
      "outputs": [
        {
          "output_type": "stream",
          "name": "stdout",
          "text": [
            "Exponentiation: 1000\n"
          ]
        }
      ]
    },
    {
      "cell_type": "code",
      "source": [
        "# Python supports other division based operators\n",
        "print('Modulus: {}'.format(10 % 3)) # Modulus\n",
        "print('Floor division: {}'.format(10 // 3)) # Floor division"
      ],
      "metadata": {
        "colab": {
          "base_uri": "https://localhost:8080/"
        },
        "id": "lrCDCj5EQY3l",
        "outputId": "29706913-d842-44fb-c3d8-bc20b0957c3f"
      },
      "execution_count": 9,
      "outputs": [
        {
          "output_type": "stream",
          "name": "stdout",
          "text": [
            "Modulus: 1\n",
            "Floor division: 3\n"
          ]
        }
      ]
    },
    {
      "cell_type": "markdown",
      "source": [
        "#Datatype Conversion"
      ],
      "metadata": {
        "id": "J5cliWfgQ1FS"
      }
    },
    {
      "cell_type": "code",
      "source": [
        "num_int"
      ],
      "metadata": {
        "colab": {
          "base_uri": "https://localhost:8080/"
        },
        "id": "s2_ERMWTQaB2",
        "outputId": "574999d5-09e0-418f-f8dc-ac81686d2de5"
      },
      "execution_count": 10,
      "outputs": [
        {
          "output_type": "execute_result",
          "data": {
            "text/plain": [
              "42"
            ]
          },
          "metadata": {},
          "execution_count": 10
        }
      ]
    },
    {
      "cell_type": "code",
      "source": [
        "# Float to int\n",
        "eg1 = float(num_int)\n",
        "print(type(eg1))\n",
        "print(eg1)"
      ],
      "metadata": {
        "colab": {
          "base_uri": "https://localhost:8080/"
        },
        "id": "j0Zei35RQcO5",
        "outputId": "db674462-7381-4502-f56c-669e3f7a3994"
      },
      "execution_count": 11,
      "outputs": [
        {
          "output_type": "stream",
          "name": "stdout",
          "text": [
            "<class 'float'>\n",
            "42.0\n"
          ]
        }
      ]
    },
    {
      "cell_type": "code",
      "source": [
        "num_float"
      ],
      "metadata": {
        "colab": {
          "base_uri": "https://localhost:8080/"
        },
        "id": "V-G-MLtPQdsN",
        "outputId": "b85330cc-6881-4a4c-f4ce-b37c78ca231a"
      },
      "execution_count": 12,
      "outputs": [
        {
          "output_type": "execute_result",
          "data": {
            "text/plain": [
              "42.8"
            ]
          },
          "metadata": {},
          "execution_count": 12
        }
      ]
    },
    {
      "cell_type": "code",
      "source": [
        "# Int to float\n",
        "eg2 = int(num_float)\n",
        "print(type(eg2))\n",
        "print(eg2)"
      ],
      "metadata": {
        "colab": {
          "base_uri": "https://localhost:8080/"
        },
        "id": "kikn8vNPQfUy",
        "outputId": "6f9406b9-2330-461f-d870-f65707ed8f72"
      },
      "execution_count": 13,
      "outputs": [
        {
          "output_type": "stream",
          "name": "stdout",
          "text": [
            "<class 'int'>\n",
            "42\n"
          ]
        }
      ]
    },
    {
      "cell_type": "code",
      "source": [
        "# String to float\n",
        "eg3 = float('4.5a')\n",
        "print(type(eg3))\n",
        "print(eg3)"
      ],
      "metadata": {
        "colab": {
          "base_uri": "https://localhost:8080/",
          "height": 198
        },
        "id": "G7Ym3WHfQgWm",
        "outputId": "f840657a-94a4-4948-d67e-b36c0cdf15fc"
      },
      "execution_count": 14,
      "outputs": [
        {
          "output_type": "error",
          "ename": "ValueError",
          "evalue": "could not convert string to float: '4.5a'",
          "traceback": [
            "\u001b[0;31m---------------------------------------------------------------------------\u001b[0m",
            "\u001b[0;31mValueError\u001b[0m                                Traceback (most recent call last)",
            "\u001b[0;32m<ipython-input-14-a7585d2fadb6>\u001b[0m in \u001b[0;36m<cell line: 2>\u001b[0;34m()\u001b[0m\n\u001b[1;32m      1\u001b[0m \u001b[0;31m# String to float\u001b[0m\u001b[0;34m\u001b[0m\u001b[0;34m\u001b[0m\u001b[0m\n\u001b[0;32m----> 2\u001b[0;31m \u001b[0meg3\u001b[0m \u001b[0;34m=\u001b[0m \u001b[0mfloat\u001b[0m\u001b[0;34m(\u001b[0m\u001b[0;34m'4.5a'\u001b[0m\u001b[0;34m)\u001b[0m\u001b[0;34m\u001b[0m\u001b[0;34m\u001b[0m\u001b[0m\n\u001b[0m\u001b[1;32m      3\u001b[0m \u001b[0mprint\u001b[0m\u001b[0;34m(\u001b[0m\u001b[0mtype\u001b[0m\u001b[0;34m(\u001b[0m\u001b[0meg3\u001b[0m\u001b[0;34m)\u001b[0m\u001b[0;34m)\u001b[0m\u001b[0;34m\u001b[0m\u001b[0;34m\u001b[0m\u001b[0m\n\u001b[1;32m      4\u001b[0m \u001b[0mprint\u001b[0m\u001b[0;34m(\u001b[0m\u001b[0meg3\u001b[0m\u001b[0;34m)\u001b[0m\u001b[0;34m\u001b[0m\u001b[0;34m\u001b[0m\u001b[0m\n",
            "\u001b[0;31mValueError\u001b[0m: could not convert string to float: '4.5a'"
          ]
        }
      ]
    },
    {
      "cell_type": "code",
      "source": [
        "# Addition of int and float results in float\n",
        "num_int + num_float"
      ],
      "metadata": {
        "colab": {
          "base_uri": "https://localhost:8080/"
        },
        "id": "EGKSInRxQhkV",
        "outputId": "fca1eb2f-38a1-4673-db9c-6bf6fda60e1a"
      },
      "execution_count": 15,
      "outputs": [
        {
          "output_type": "execute_result",
          "data": {
            "text/plain": [
              "84.8"
            ]
          },
          "metadata": {},
          "execution_count": 15
        }
      ]
    },
    {
      "cell_type": "code",
      "source": [
        "8/2"
      ],
      "metadata": {
        "colab": {
          "base_uri": "https://localhost:8080/"
        },
        "id": "FmVWsNliQlIE",
        "outputId": "d8ff307f-f784-44a4-f35f-ad703804b865"
      },
      "execution_count": 16,
      "outputs": [
        {
          "output_type": "execute_result",
          "data": {
            "text/plain": [
              "4.0"
            ]
          },
          "metadata": {},
          "execution_count": 16
        }
      ]
    },
    {
      "cell_type": "markdown",
      "source": [
        "#Modifying the value"
      ],
      "metadata": {
        "id": "xEOuxQDEQ8NV"
      }
    },
    {
      "cell_type": "code",
      "source": [
        "a=1"
      ],
      "metadata": {
        "id": "mq_4kisrQmHR"
      },
      "execution_count": 17,
      "outputs": []
    },
    {
      "cell_type": "code",
      "source": [
        "a = a + 1"
      ],
      "metadata": {
        "id": "ir_fIACFQoGD"
      },
      "execution_count": 18,
      "outputs": []
    },
    {
      "cell_type": "code",
      "source": [
        "a += 10"
      ],
      "metadata": {
        "id": "Zvz4Im9CQpUe"
      },
      "execution_count": 19,
      "outputs": []
    },
    {
      "cell_type": "code",
      "source": [
        "a"
      ],
      "metadata": {
        "colab": {
          "base_uri": "https://localhost:8080/"
        },
        "id": "3Px_pYzwQqNo",
        "outputId": "3341c7fe-74f5-46c3-a7ae-80b74933d7b5"
      },
      "execution_count": 20,
      "outputs": [
        {
          "output_type": "execute_result",
          "data": {
            "text/plain": [
              "12"
            ]
          },
          "metadata": {},
          "execution_count": 20
        }
      ]
    },
    {
      "cell_type": "markdown",
      "source": [
        "#Mathematics Library python"
      ],
      "metadata": {
        "id": "SB958L4MQ-z3"
      }
    },
    {
      "cell_type": "code",
      "source": [
        "import math\n",
        "\n",
        "print('Square root of 16 is: {}'.format(math.sqrt(16)))\n",
        "print('3 raised to the power of 3 is: {}'.format(math.pow(3, 3)))\n",
        "print('Absolute value of -10 is: {}'.format(math.fabs(-10)))\n",
        "print('Factorial of 5 is: {}'.format(math.factorial(5)))\n",
        "print('Natural logarithm of 2 is: {}'.format(math.log(2)))\n",
        "print('Base-10 logarithm of 100 is: {}'.format(math.log10(100)))\n",
        "print('Exponential of 1 is: {}'.format(math.exp(1)))\n",
        "print('Value of the mathematical constant PI is: {}'.format(math.pi))\n",
        "print('Value of the mathematical constant E is: {}'.format(math.e))\n"
      ],
      "metadata": {
        "colab": {
          "base_uri": "https://localhost:8080/"
        },
        "id": "yUvnqM4WQqzL",
        "outputId": "0a73b1f5-aed1-4e5c-b996-897b33d73b5a"
      },
      "execution_count": 21,
      "outputs": [
        {
          "output_type": "stream",
          "name": "stdout",
          "text": [
            "Square root of 16 is: 4.0\n",
            "3 raised to the power of 3 is: 27.0\n",
            "Absolute value of -10 is: 10.0\n",
            "Factorial of 5 is: 120\n",
            "Natural logarithm of 2 is: 0.6931471805599453\n",
            "Base-10 logarithm of 100 is: 2.0\n",
            "Exponential of 1 is: 2.718281828459045\n",
            "Value of the mathematical constant PI is: 3.141592653589793\n",
            "Value of the mathematical constant E is: 2.718281828459045\n"
          ]
        }
      ]
    },
    {
      "cell_type": "code",
      "source": [],
      "metadata": {
        "id": "rvZolifxQtks"
      },
      "execution_count": null,
      "outputs": []
    }
  ]
}