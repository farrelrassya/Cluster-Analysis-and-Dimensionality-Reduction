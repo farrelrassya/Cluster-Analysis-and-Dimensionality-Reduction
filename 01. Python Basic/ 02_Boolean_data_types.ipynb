{
  "nbformat": 4,
  "nbformat_minor": 0,
  "metadata": {
    "colab": {
      "provenance": [],
      "authorship_tag": "ABX9TyPZ0soPpst9/dBUYOp9bwri",
      "include_colab_link": true
    },
    "kernelspec": {
      "name": "python3",
      "display_name": "Python 3"
    },
    "language_info": {
      "name": "python"
    }
  },
  "cells": [
    {
      "cell_type": "markdown",
      "metadata": {
        "id": "view-in-github",
        "colab_type": "text"
      },
      "source": [
        "<a href=\"https://colab.research.google.com/github/farrelrassya/Cluster-Analysis-and-Dimensionality-Reduction/blob/main/01.%20Python%20Basic/%2002_Boolean_data_types.ipynb\" target=\"_parent\"><img src=\"https://colab.research.google.com/assets/colab-badge.svg\" alt=\"Open In Colab\"/></a>"
      ]
    },
    {
      "cell_type": "markdown",
      "source": [
        "# Boolean datatype"
      ],
      "metadata": {
        "id": "okk5CSMVP46x"
      }
    },
    {
      "cell_type": "code",
      "execution_count": 1,
      "metadata": {
        "colab": {
          "base_uri": "https://localhost:8080/"
        },
        "id": "5S1852_APzoc",
        "outputId": "d88fc8ae-b3b6-463a-ac3a-240fb0815d2f"
      },
      "outputs": [
        {
          "output_type": "stream",
          "name": "stdout",
          "text": [
            "<class 'bool'>\n",
            "<class 'bool'>\n"
          ]
        }
      ],
      "source": [
        "true_val = True\n",
        "false_val = False\n",
        "\n",
        "print(type(true_val))\n",
        "print(type(false_val))"
      ]
    },
    {
      "cell_type": "markdown",
      "source": [
        "#Comparison operators"
      ],
      "metadata": {
        "id": "cAGb0E2Ln2JD"
      }
    },
    {
      "cell_type": "code",
      "source": [
        "print('Is 10 equal to 10?: {}'.format(10 == 10))              # Equal to\n",
        "print('Is 10 not equal to 5?: {}'.format(10 != 5))            # Not equal to\n",
        "print('Is 10 greater than 5?: {}'.format(10 > 5))             # Greater than\n",
        "print('Is 10 less than 5?: {}'.format(10 < 5))                # Less than\n",
        "print('Is 10 greater or equal to 10?: {}'.format(10 >= 10))   # Greater than or equal to\n",
        "print('Is 10 less than or equal to 5?: {}'.format(10 <= 5))   # Less than or equal to"
      ],
      "metadata": {
        "colab": {
          "base_uri": "https://localhost:8080/"
        },
        "id": "i7GD0I0eQDQH",
        "outputId": "fad5de5d-dd57-4491-f3ab-85f89837c5b1"
      },
      "execution_count": 2,
      "outputs": [
        {
          "output_type": "stream",
          "name": "stdout",
          "text": [
            "Is 10 equal to 10?: True\n",
            "Is 10 not equal to 5?: True\n",
            "Is 10 greater than 5?: True\n",
            "Is 10 less than 5?: False\n",
            "Is 10 greater or equal to 10?: True\n",
            "Is 10 less than or equal to 5?: False\n"
          ]
        }
      ]
    },
    {
      "cell_type": "markdown",
      "source": [
        "#IF Statements"
      ],
      "metadata": {
        "id": "E1wZeSrhQxRr"
      }
    },
    {
      "cell_type": "code",
      "source": [
        "temperature = 30"
      ],
      "metadata": {
        "id": "zPti8lPqQIqd"
      },
      "execution_count": 3,
      "outputs": []
    },
    {
      "cell_type": "code",
      "source": [
        "temperature > 25"
      ],
      "metadata": {
        "colab": {
          "base_uri": "https://localhost:8080/"
        },
        "id": "JBf6qhztQPPw",
        "outputId": "f88db813-7e7f-40f8-96a0-155c5c01d435"
      },
      "execution_count": 4,
      "outputs": [
        {
          "output_type": "execute_result",
          "data": {
            "text/plain": [
              "True"
            ]
          },
          "metadata": {},
          "execution_count": 4
        }
      ]
    },
    {
      "cell_type": "code",
      "source": [
        "if temperature > 35:\n",
        "  print('It is hot outside')"
      ],
      "metadata": {
        "id": "lrCDCj5EQY3l"
      },
      "execution_count": 5,
      "outputs": []
    },
    {
      "cell_type": "code",
      "source": [
        "if temperature > 25:\n",
        "  print('It is hot outside')\n",
        "\n",
        "else:\n",
        "  print('It is not hot inside')"
      ],
      "metadata": {
        "colab": {
          "base_uri": "https://localhost:8080/"
        },
        "id": "oogJI6DJnTiZ",
        "outputId": "318b34e3-bcc5-42f5-b24a-b41f3e6c59f8"
      },
      "execution_count": 6,
      "outputs": [
        {
          "output_type": "stream",
          "name": "stdout",
          "text": [
            "It is hot outside\n"
          ]
        }
      ]
    },
    {
      "cell_type": "code",
      "source": [
        "# Nested IF statements\n",
        "\n",
        "temperature = 16\n",
        "if temperature > 25:\n",
        "    print('It is hot outside.')\n",
        "else:\n",
        "    if temperature > 15:\n",
        "        print('It is not hot outside.')\n",
        "    else:\n",
        "        print('It is cold outside.')"
      ],
      "metadata": {
        "colab": {
          "base_uri": "https://localhost:8080/"
        },
        "id": "HICH-zH_njou",
        "outputId": "8b772b76-9427-4ad8-e5a2-d5bfd80c89cb"
      },
      "execution_count": 7,
      "outputs": [
        {
          "output_type": "stream",
          "name": "stdout",
          "text": [
            "It is not hot outside.\n"
          ]
        }
      ]
    },
    {
      "cell_type": "code",
      "source": [
        "# Elif - more elegand way to implement\n",
        "# the same logic\n",
        "\n",
        "temperature = 16\n",
        "if temperature > 25:\n",
        "    print('It is hot outside.')\n",
        "elif temperature > 15:\n",
        "    print('It is not hot outside.')\n",
        "else:\n",
        "    print('It is cold outside.')"
      ],
      "metadata": {
        "colab": {
          "base_uri": "https://localhost:8080/"
        },
        "id": "uF30-7c9nl7f",
        "outputId": "76d34118-1fca-4dfa-d4c1-715233f44e87"
      },
      "execution_count": 8,
      "outputs": [
        {
          "output_type": "stream",
          "name": "stdout",
          "text": [
            "It is not hot outside.\n"
          ]
        }
      ]
    },
    {
      "cell_type": "markdown",
      "source": [
        "#Boolean operators"
      ],
      "metadata": {
        "id": "J5cliWfgQ1FS"
      }
    },
    {
      "cell_type": "code",
      "source": [
        "# Classical and\n",
        "print('True and False is: {}'.format(True and False))\n",
        "\n",
        "# Bitwise and\n",
        "print('True and False is: {}'.format(True & False))"
      ],
      "metadata": {
        "colab": {
          "base_uri": "https://localhost:8080/"
        },
        "id": "s2_ERMWTQaB2",
        "outputId": "4fb51eb2-93da-448b-9ffe-e83724718587"
      },
      "execution_count": 9,
      "outputs": [
        {
          "output_type": "stream",
          "name": "stdout",
          "text": [
            "True and False is: False\n",
            "True and False is: False\n"
          ]
        }
      ]
    },
    {
      "cell_type": "code",
      "source": [
        "# Classical or\n",
        "print('True or False is: {}'.format(True or False))\n",
        "\n",
        "# Bitwise or\n",
        "print('True or False is: {}'.format(True | False))"
      ],
      "metadata": {
        "colab": {
          "base_uri": "https://localhost:8080/"
        },
        "id": "j0Zei35RQcO5",
        "outputId": "649cbed9-c6fc-4b96-841b-4da5c204f88f"
      },
      "execution_count": 10,
      "outputs": [
        {
          "output_type": "stream",
          "name": "stdout",
          "text": [
            "True or False is: True\n",
            "True or False is: True\n"
          ]
        }
      ]
    },
    {
      "cell_type": "code",
      "source": [
        "print('Not True is: {}'.format(not True))"
      ],
      "metadata": {
        "colab": {
          "base_uri": "https://localhost:8080/"
        },
        "id": "V-G-MLtPQdsN",
        "outputId": "4d27d2bb-b2b1-403e-8b0c-7264a954e4da"
      },
      "execution_count": 11,
      "outputs": [
        {
          "output_type": "stream",
          "name": "stdout",
          "text": [
            "Not True is: False\n"
          ]
        }
      ]
    },
    {
      "cell_type": "code",
      "source": [
        "# If statement with boolean operator\n",
        "temperature = 30\n",
        "is_summer = True\n",
        "if temperature > 25 and is_summer:\n",
        "    print('It is a hot summer day.')"
      ],
      "metadata": {
        "colab": {
          "base_uri": "https://localhost:8080/"
        },
        "id": "kikn8vNPQfUy",
        "outputId": "705dab53-ffb3-4e2b-8747-ecb04e89cc9f"
      },
      "execution_count": 12,
      "outputs": [
        {
          "output_type": "stream",
          "name": "stdout",
          "text": [
            "It is a hot summer day.\n"
          ]
        }
      ]
    }
  ]
}