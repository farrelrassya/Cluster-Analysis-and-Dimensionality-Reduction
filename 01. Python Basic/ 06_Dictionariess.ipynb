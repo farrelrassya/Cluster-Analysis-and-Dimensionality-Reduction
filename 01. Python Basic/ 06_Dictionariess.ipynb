{
  "nbformat": 4,
  "nbformat_minor": 0,
  "metadata": {
    "colab": {
      "provenance": [],
      "authorship_tag": "ABX9TyOr0p1hvUcF5VjrsSj7skcN",
      "include_colab_link": true
    },
    "kernelspec": {
      "name": "python3",
      "display_name": "Python 3"
    },
    "language_info": {
      "name": "python"
    }
  },
  "cells": [
    {
      "cell_type": "markdown",
      "metadata": {
        "id": "view-in-github",
        "colab_type": "text"
      },
      "source": [
        "<a href=\"https://colab.research.google.com/github/farrelrassya/Cluster-Analysis-and-Dimensionality-Reduction/blob/main/01.%20Python%20Basic/%2006_Dictionariess.ipynb\" target=\"_parent\"><img src=\"https://colab.research.google.com/assets/colab-badge.svg\" alt=\"Open In Colab\"/></a>"
      ]
    },
    {
      "cell_type": "code",
      "execution_count": 1,
      "metadata": {
        "id": "JpGRfMtEQH6q",
        "colab": {
          "base_uri": "https://localhost:8080/"
        },
        "outputId": "9b7f1236-bb2e-475c-8630-39c77e23b1fb"
      },
      "outputs": [
        {
          "output_type": "stream",
          "name": "stdout",
          "text": [
            "{'a': 1, 'b': 2}\n",
            "<class 'dict'>\n"
          ]
        }
      ],
      "source": [
        "d1 = {\n",
        "    'a' : 1,\n",
        "    'b' : 2\n",
        "}\n",
        "print(d1)\n",
        "print(type(d1))"
      ]
    },
    {
      "cell_type": "code",
      "source": [
        "d1 = dict(\n",
        "    a = 1,\n",
        "    b = 2\n",
        ")\n",
        "print(d1)\n",
        "print(type(d1))"
      ],
      "metadata": {
        "colab": {
          "base_uri": "https://localhost:8080/"
        },
        "id": "KX5-BVZw98G8",
        "outputId": "3794693c-e07a-4f72-e924-a94c4e2db24e"
      },
      "execution_count": 4,
      "outputs": [
        {
          "output_type": "stream",
          "name": "stdout",
          "text": [
            "{'a': 1, 'b': 2}\n",
            "<class 'dict'>\n"
          ]
        }
      ]
    },
    {
      "cell_type": "code",
      "source": [
        "# Get value\n",
        "d1['a']"
      ],
      "metadata": {
        "colab": {
          "base_uri": "https://localhost:8080/"
        },
        "id": "B165Nk6W-KlR",
        "outputId": "5ebc3d11-1435-4d84-ba7e-d5ba8517a5b8"
      },
      "execution_count": 5,
      "outputs": [
        {
          "output_type": "execute_result",
          "data": {
            "text/plain": [
              "1"
            ]
          },
          "metadata": {},
          "execution_count": 5
        }
      ]
    },
    {
      "cell_type": "code",
      "source": [
        "# Non existing key\n",
        "d1['m']"
      ],
      "metadata": {
        "colab": {
          "base_uri": "https://localhost:8080/",
          "height": 162
        },
        "id": "EBOv7mpE-ShF",
        "outputId": "64e0a38e-1e45-48a6-9866-cc7ffd05173b"
      },
      "execution_count": 6,
      "outputs": [
        {
          "output_type": "error",
          "ename": "KeyError",
          "evalue": "'m'",
          "traceback": [
            "\u001b[0;31m---------------------------------------------------------------------------\u001b[0m",
            "\u001b[0;31mKeyError\u001b[0m                                  Traceback (most recent call last)",
            "\u001b[0;32m<ipython-input-6-a8a45092e118>\u001b[0m in \u001b[0;36m<cell line: 2>\u001b[0;34m()\u001b[0m\n\u001b[1;32m      1\u001b[0m \u001b[0;31m# Non existing key\u001b[0m\u001b[0;34m\u001b[0m\u001b[0;34m\u001b[0m\u001b[0m\n\u001b[0;32m----> 2\u001b[0;31m \u001b[0md1\u001b[0m\u001b[0;34m[\u001b[0m\u001b[0;34m'm'\u001b[0m\u001b[0;34m]\u001b[0m\u001b[0;34m\u001b[0m\u001b[0;34m\u001b[0m\u001b[0m\n\u001b[0m",
            "\u001b[0;31mKeyError\u001b[0m: 'm'"
          ]
        }
      ]
    },
    {
      "cell_type": "code",
      "source": [
        "# Get element through get\n",
        "d1.get('a')"
      ],
      "metadata": {
        "colab": {
          "base_uri": "https://localhost:8080/"
        },
        "id": "Q9t5odES-Tgz",
        "outputId": "6714078d-c5d9-48bb-a2d0-413dbcf08f8f"
      },
      "execution_count": 7,
      "outputs": [
        {
          "output_type": "execute_result",
          "data": {
            "text/plain": [
              "1"
            ]
          },
          "metadata": {},
          "execution_count": 7
        }
      ]
    },
    {
      "cell_type": "code",
      "source": [
        "# Try getting unexisting key\n",
        "d1.get('m')"
      ],
      "metadata": {
        "id": "MceZd9ye-WKK"
      },
      "execution_count": 8,
      "outputs": []
    },
    {
      "cell_type": "code",
      "source": [
        "# Try getting unexisting key with default\n",
        "d1.get('m', 'Default')"
      ],
      "metadata": {
        "colab": {
          "base_uri": "https://localhost:8080/",
          "height": 35
        },
        "id": "XXxJIdMP-Yx6",
        "outputId": "f9c48665-b677-44a8-9452-8957d570beb3"
      },
      "execution_count": 9,
      "outputs": [
        {
          "output_type": "execute_result",
          "data": {
            "text/plain": [
              "'Default'"
            ],
            "application/vnd.google.colaboratory.intrinsic+json": {
              "type": "string"
            }
          },
          "metadata": {},
          "execution_count": 9
        }
      ]
    },
    {
      "cell_type": "code",
      "source": [
        "# Adding new element\n",
        "d1['m'] = True\n",
        "d1"
      ],
      "metadata": {
        "colab": {
          "base_uri": "https://localhost:8080/"
        },
        "id": "WnhvXbTi-Z65",
        "outputId": "1b59bf4f-7c55-46ba-f800-14b7e2cd6718"
      },
      "execution_count": 10,
      "outputs": [
        {
          "output_type": "execute_result",
          "data": {
            "text/plain": [
              "{'a': 1, 'b': 2, 'm': True}"
            ]
          },
          "metadata": {},
          "execution_count": 10
        }
      ]
    },
    {
      "cell_type": "code",
      "source": [
        "# Removing element with pop\n",
        "d1.pop('m')"
      ],
      "metadata": {
        "colab": {
          "base_uri": "https://localhost:8080/"
        },
        "id": "nA5v3Tkh-bHe",
        "outputId": "95b688e2-ec0f-42ff-c10a-af09d7491678"
      },
      "execution_count": 11,
      "outputs": [
        {
          "output_type": "execute_result",
          "data": {
            "text/plain": [
              "True"
            ]
          },
          "metadata": {},
          "execution_count": 11
        }
      ]
    },
    {
      "cell_type": "code",
      "source": [
        "d1"
      ],
      "metadata": {
        "colab": {
          "base_uri": "https://localhost:8080/"
        },
        "id": "Z37o2K3Q-cUH",
        "outputId": "87672a6c-88d9-4c71-f795-54ce97a845e0"
      },
      "execution_count": 12,
      "outputs": [
        {
          "output_type": "execute_result",
          "data": {
            "text/plain": [
              "{'a': 1, 'b': 2}"
            ]
          },
          "metadata": {},
          "execution_count": 12
        }
      ]
    },
    {
      "cell_type": "code",
      "source": [
        "# Removing element with del\n",
        "del d1['a']\n",
        "d1"
      ],
      "metadata": {
        "colab": {
          "base_uri": "https://localhost:8080/"
        },
        "id": "sTM2DZxH-daB",
        "outputId": "3ac81e10-271f-41d7-f887-946c28d8f2a5"
      },
      "execution_count": 13,
      "outputs": [
        {
          "output_type": "execute_result",
          "data": {
            "text/plain": [
              "{'b': 2}"
            ]
          },
          "metadata": {},
          "execution_count": 13
        }
      ]
    },
    {
      "cell_type": "markdown",
      "source": [
        "#Dict Methods"
      ],
      "metadata": {
        "id": "pZGpJLOV-g7J"
      }
    },
    {
      "cell_type": "code",
      "source": [
        "# Get dict keys\n",
        "d1.keys()# Add new elements to the dict\n",
        "d1['x'] = []\n",
        "d1['l'] = 3.2\n",
        "d1"
      ],
      "metadata": {
        "colab": {
          "base_uri": "https://localhost:8080/"
        },
        "id": "zpU3RkG4-e_D",
        "outputId": "198b0f25-cb3a-44fa-a185-6b8b8b9189a7"
      },
      "execution_count": 14,
      "outputs": [
        {
          "output_type": "execute_result",
          "data": {
            "text/plain": [
              "{'b': 2, 'x': [], 'l': 3.2}"
            ]
          },
          "metadata": {},
          "execution_count": 14
        }
      ]
    },
    {
      "cell_type": "code",
      "source": [
        "# Get dict keys\n",
        "d1.keys()"
      ],
      "metadata": {
        "colab": {
          "base_uri": "https://localhost:8080/"
        },
        "id": "S93sWGN8-gTP",
        "outputId": "63864175-f446-4ccd-a5f3-693e46c3c47f"
      },
      "execution_count": 15,
      "outputs": [
        {
          "output_type": "execute_result",
          "data": {
            "text/plain": [
              "dict_keys(['b', 'x', 'l'])"
            ]
          },
          "metadata": {},
          "execution_count": 15
        }
      ]
    },
    {
      "cell_type": "code",
      "source": [
        "# Transform dict keys to the list\n",
        "list(d1.keys())"
      ],
      "metadata": {
        "colab": {
          "base_uri": "https://localhost:8080/"
        },
        "id": "uq9yX5g8-je4",
        "outputId": "5654ee67-d4e8-46ea-c9f5-48d6e4ba13b1"
      },
      "execution_count": 16,
      "outputs": [
        {
          "output_type": "execute_result",
          "data": {
            "text/plain": [
              "['b', 'x', 'l']"
            ]
          },
          "metadata": {},
          "execution_count": 16
        }
      ]
    },
    {
      "cell_type": "code",
      "source": [
        "# Get values\n",
        "d1.values()"
      ],
      "metadata": {
        "colab": {
          "base_uri": "https://localhost:8080/"
        },
        "id": "s1HdM64F-kih",
        "outputId": "d80d8178-ebfd-4614-c3f8-9b4d56a068b1"
      },
      "execution_count": 17,
      "outputs": [
        {
          "output_type": "execute_result",
          "data": {
            "text/plain": [
              "dict_values([2, [], 3.2])"
            ]
          },
          "metadata": {},
          "execution_count": 17
        }
      ]
    },
    {
      "cell_type": "code",
      "source": [
        "# Get key value pairs\n",
        "d1.items()"
      ],
      "metadata": {
        "colab": {
          "base_uri": "https://localhost:8080/"
        },
        "id": "kzWmTjZH-lhg",
        "outputId": "c4a42f07-d6bb-427f-a0e1-662f1c67b551"
      },
      "execution_count": 18,
      "outputs": [
        {
          "output_type": "execute_result",
          "data": {
            "text/plain": [
              "dict_items([('b', 2), ('x', []), ('l', 3.2)])"
            ]
          },
          "metadata": {},
          "execution_count": 18
        }
      ]
    },
    {
      "cell_type": "code",
      "source": [
        "# Merge dicts\n",
        "\n",
        "d1 = {\n",
        "    'a': 1,\n",
        "    'b': 2\n",
        "}\n",
        "\n",
        "d2 = {\n",
        "    'b':3,\n",
        "    'c':True\n",
        "}\n",
        "\n",
        "d1.update(d2)\n",
        "\n",
        "d1"
      ],
      "metadata": {
        "colab": {
          "base_uri": "https://localhost:8080/"
        },
        "id": "4medFr1B-mZt",
        "outputId": "9106c590-9888-4ad4-9b78-cd1133ffde61"
      },
      "execution_count": 19,
      "outputs": [
        {
          "output_type": "execute_result",
          "data": {
            "text/plain": [
              "{'a': 1, 'b': 3, 'c': True}"
            ]
          },
          "metadata": {},
          "execution_count": 19
        }
      ]
    },
    {
      "cell_type": "code",
      "source": [
        "# Iterate dict\n",
        "for key in d1:\n",
        "    print(key)\n",
        "    print(d1[key])\n",
        "    print('---------')"
      ],
      "metadata": {
        "colab": {
          "base_uri": "https://localhost:8080/"
        },
        "id": "VDHD-5T1-nTH",
        "outputId": "87102852-4354-41b4-c530-0ab20c3ab13a"
      },
      "execution_count": 20,
      "outputs": [
        {
          "output_type": "stream",
          "name": "stdout",
          "text": [
            "a\n",
            "1\n",
            "---------\n",
            "b\n",
            "3\n",
            "---------\n",
            "c\n",
            "True\n",
            "---------\n"
          ]
        }
      ]
    },
    {
      "cell_type": "code",
      "source": [
        "# Dicts can be nested\n",
        "big_dict = {\n",
        "    'a' : {\n",
        "        'c': 1,\n",
        "        'd': 2\n",
        "    },\n",
        "    'c': [1,2,3],\n",
        "    'd': [[], [], []]\n",
        "}\n",
        "\n",
        "big_dict"
      ],
      "metadata": {
        "colab": {
          "base_uri": "https://localhost:8080/"
        },
        "id": "XW1U8lX--oaz",
        "outputId": "e243ab48-593c-468f-a19a-b88766dce582"
      },
      "execution_count": 21,
      "outputs": [
        {
          "output_type": "execute_result",
          "data": {
            "text/plain": [
              "{'a': {'c': 1, 'd': 2}, 'c': [1, 2, 3], 'd': [[], [], []]}"
            ]
          },
          "metadata": {},
          "execution_count": 21
        }
      ]
    },
    {
      "cell_type": "markdown",
      "source": [
        "#The \"None\""
      ],
      "metadata": {
        "id": "IXpniqfv-rvt"
      }
    },
    {
      "cell_type": "code",
      "source": [
        "a = None\n",
        "print(type(a))"
      ],
      "metadata": {
        "colab": {
          "base_uri": "https://localhost:8080/"
        },
        "id": "rcZt87c9-qjX",
        "outputId": "6e96337d-9d2d-454b-8ffd-378702cb04b7"
      },
      "execution_count": 22,
      "outputs": [
        {
          "output_type": "stream",
          "name": "stdout",
          "text": [
            "<class 'NoneType'>\n"
          ]
        }
      ]
    },
    {
      "cell_type": "code",
      "source": [
        "a"
      ],
      "metadata": {
        "id": "tIAny5VF-uc8"
      },
      "execution_count": 23,
      "outputs": []
    },
    {
      "cell_type": "code",
      "source": [
        "print(a)"
      ],
      "metadata": {
        "colab": {
          "base_uri": "https://localhost:8080/"
        },
        "id": "mskAjF7j-u_T",
        "outputId": "8cdec27b-173c-47c3-fb60-899bf8476bbf"
      },
      "execution_count": 24,
      "outputs": [
        {
          "output_type": "stream",
          "name": "stdout",
          "text": [
            "None\n"
          ]
        }
      ]
    },
    {
      "cell_type": "code",
      "source": [
        "a is None"
      ],
      "metadata": {
        "colab": {
          "base_uri": "https://localhost:8080/"
        },
        "id": "sbIcxdh3-vrt",
        "outputId": "16dbe794-1725-4d6d-8074-7f871a583648"
      },
      "execution_count": 25,
      "outputs": [
        {
          "output_type": "execute_result",
          "data": {
            "text/plain": [
              "True"
            ]
          },
          "metadata": {},
          "execution_count": 25
        }
      ]
    },
    {
      "cell_type": "code",
      "source": [],
      "metadata": {
        "id": "IijB0dTG-wum"
      },
      "execution_count": null,
      "outputs": []
    }
  ]
}