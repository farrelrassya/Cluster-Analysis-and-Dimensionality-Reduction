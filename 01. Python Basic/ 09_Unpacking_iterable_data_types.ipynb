{
  "nbformat": 4,
  "nbformat_minor": 0,
  "metadata": {
    "colab": {
      "provenance": [],
      "authorship_tag": "ABX9TyOSqDnSU5IKjZvruX4qPnMi",
      "include_colab_link": true
    },
    "kernelspec": {
      "name": "python3",
      "display_name": "Python 3"
    },
    "language_info": {
      "name": "python"
    }
  },
  "cells": [
    {
      "cell_type": "markdown",
      "metadata": {
        "id": "view-in-github",
        "colab_type": "text"
      },
      "source": [
        "<a href=\"https://colab.research.google.com/github/farrelrassya/Cluster-Analysis-and-Dimensionality-Reduction/blob/main/01.%20Python%20Basic/%2009_Unpacking_iterable_data_types.ipynb\" target=\"_parent\"><img src=\"https://colab.research.google.com/assets/colab-badge.svg\" alt=\"Open In Colab\"/></a>"
      ]
    },
    {
      "cell_type": "markdown",
      "source": [
        "# Definitions\n",
        "\n",
        "- Unpacking is a way to assign values from a list (or other iterable) to multiple variables at once. It's called \"unpacking\" because you can think of the list as a packed suitcase, and you're taking out (or \"unpacking\") the items and assigning them to variables."
      ],
      "metadata": {
        "id": "NpyNzkfY2yy3"
      }
    },
    {
      "cell_type": "code",
      "execution_count": 1,
      "metadata": {
        "colab": {
          "base_uri": "https://localhost:8080/"
        },
        "id": "ATeKxyaZ2q9Y",
        "outputId": "91dfec29-0adc-489b-f941-e2b75df23e41"
      },
      "outputs": [
        {
          "output_type": "stream",
          "name": "stdout",
          "text": [
            "a : 1\n",
            "b : 2\n",
            "c : 3\n"
          ]
        }
      ],
      "source": [
        "# Unpack list\n",
        "l1 = [1, 2, 3]\n",
        "\n",
        "a, b, c = l1\n",
        "\n",
        "print('a : {}'.format(a))\n",
        "print('b : {}'.format(b))\n",
        "print('c : {}'.format(c))"
      ]
    },
    {
      "cell_type": "code",
      "source": [
        "# Unpack tuple\n",
        "t1 = (4, 5, 6)\n",
        "a, b, c = t1\n",
        "print('a : {}'.format(a))\n",
        "print('b : {}'.format(b))\n",
        "print('c : {}'.format(c))"
      ],
      "metadata": {
        "colab": {
          "base_uri": "https://localhost:8080/"
        },
        "id": "YyZJOmc74qhi",
        "outputId": "f7e46501-96e8-4d83-c6a1-77fa05b2a1d7"
      },
      "execution_count": 2,
      "outputs": [
        {
          "output_type": "stream",
          "name": "stdout",
          "text": [
            "a : 4\n",
            "b : 5\n",
            "c : 6\n"
          ]
        }
      ]
    },
    {
      "cell_type": "code",
      "source": [
        "# Unpack set\n",
        "s1 = {9, 7, 8}\n",
        "a, b, c = s1\n",
        "print('a : {}'.format(a))\n",
        "print('b : {}'.format(b))\n",
        "print('c : {}'.format(c))"
      ],
      "metadata": {
        "colab": {
          "base_uri": "https://localhost:8080/"
        },
        "id": "r6emjbIk4rl3",
        "outputId": "007e9b6c-a15e-42e8-e477-d6e8cf26aeea"
      },
      "execution_count": 3,
      "outputs": [
        {
          "output_type": "stream",
          "name": "stdout",
          "text": [
            "a : 8\n",
            "b : 9\n",
            "c : 7\n"
          ]
        }
      ]
    },
    {
      "cell_type": "code",
      "source": [
        "# Cant unpack dict the same way\n",
        "d1 = {'k1': 1, 'k2': 2, 'k3': 3}\n",
        "a, b, c = d1\n",
        "print('a : {}'.format(a))\n",
        "print('b : {}'.format(b))\n",
        "print('c : {}'.format(c))"
      ],
      "metadata": {
        "colab": {
          "base_uri": "https://localhost:8080/"
        },
        "id": "cJP6wl7e4swK",
        "outputId": "ebfe5dc5-dc38-4509-c7a6-272d1ccc7443"
      },
      "execution_count": 4,
      "outputs": [
        {
          "output_type": "stream",
          "name": "stdout",
          "text": [
            "a : k1\n",
            "b : k2\n",
            "c : k3\n"
          ]
        }
      ]
    },
    {
      "cell_type": "code",
      "source": [
        "# Unpack list\n",
        "l1 = [1, 2, 3, 4]\n",
        "\n",
        "a, b, c = l1\n",
        "\n",
        "print('a : {}'.format(a))\n",
        "print('b : {}'.format(b))\n",
        "print('c : {}'.format(c))"
      ],
      "metadata": {
        "colab": {
          "base_uri": "https://localhost:8080/",
          "height": 216
        },
        "id": "ol1iRBXy4t92",
        "outputId": "8b33546c-4fcd-4ac8-88ad-a32016b17977"
      },
      "execution_count": 5,
      "outputs": [
        {
          "output_type": "error",
          "ename": "ValueError",
          "evalue": "too many values to unpack (expected 3)",
          "traceback": [
            "\u001b[0;31m---------------------------------------------------------------------------\u001b[0m",
            "\u001b[0;31mValueError\u001b[0m                                Traceback (most recent call last)",
            "\u001b[0;32m<ipython-input-5-eecff96af9f6>\u001b[0m in \u001b[0;36m<cell line: 4>\u001b[0;34m()\u001b[0m\n\u001b[1;32m      2\u001b[0m \u001b[0ml1\u001b[0m \u001b[0;34m=\u001b[0m \u001b[0;34m[\u001b[0m\u001b[0;36m1\u001b[0m\u001b[0;34m,\u001b[0m \u001b[0;36m2\u001b[0m\u001b[0;34m,\u001b[0m \u001b[0;36m3\u001b[0m\u001b[0;34m,\u001b[0m \u001b[0;36m4\u001b[0m\u001b[0;34m]\u001b[0m\u001b[0;34m\u001b[0m\u001b[0;34m\u001b[0m\u001b[0m\n\u001b[1;32m      3\u001b[0m \u001b[0;34m\u001b[0m\u001b[0m\n\u001b[0;32m----> 4\u001b[0;31m \u001b[0ma\u001b[0m\u001b[0;34m,\u001b[0m \u001b[0mb\u001b[0m\u001b[0;34m,\u001b[0m \u001b[0mc\u001b[0m \u001b[0;34m=\u001b[0m \u001b[0ml1\u001b[0m\u001b[0;34m\u001b[0m\u001b[0;34m\u001b[0m\u001b[0m\n\u001b[0m\u001b[1;32m      5\u001b[0m \u001b[0;34m\u001b[0m\u001b[0m\n\u001b[1;32m      6\u001b[0m \u001b[0mprint\u001b[0m\u001b[0;34m(\u001b[0m\u001b[0;34m'a : {}'\u001b[0m\u001b[0;34m.\u001b[0m\u001b[0mformat\u001b[0m\u001b[0;34m(\u001b[0m\u001b[0ma\u001b[0m\u001b[0;34m)\u001b[0m\u001b[0;34m)\u001b[0m\u001b[0;34m\u001b[0m\u001b[0;34m\u001b[0m\u001b[0m\n",
            "\u001b[0;31mValueError\u001b[0m: too many values to unpack (expected 3)"
          ]
        }
      ]
    },
    {
      "cell_type": "markdown",
      "source": [
        "#Single Star Operator"
      ],
      "metadata": {
        "id": "IDx09p4D47KL"
      }
    },
    {
      "cell_type": "code",
      "source": [
        "# Using star to pick up remaining elements\n",
        "l1 = [1, 2, 3, 4, 5, 6, 7]\n",
        "\n",
        "a, b, *c = l1\n",
        "\n",
        "print('a : {}'.format(a))\n",
        "print('b : {}'.format(b))\n",
        "print('c : {}'.format(c))"
      ],
      "metadata": {
        "colab": {
          "base_uri": "https://localhost:8080/"
        },
        "id": "45_5GORe4vNe",
        "outputId": "a54ef0ac-85cd-4506-b9df-caa02419e436"
      },
      "execution_count": 6,
      "outputs": [
        {
          "output_type": "stream",
          "name": "stdout",
          "text": [
            "a : 1\n",
            "b : 2\n",
            "c : [3, 4, 5, 6, 7]\n"
          ]
        }
      ]
    },
    {
      "cell_type": "code",
      "source": [
        "# Using star to pick up middle elements\n",
        "l1 = [1, 2, 3, 4, 5, 6, 7]\n",
        "\n",
        "a, *b, c = l1\n",
        "\n",
        "print('a : {}'.format(a))\n",
        "print('b : {}'.format(b))\n",
        "print('c : {}'.format(c))"
      ],
      "metadata": {
        "colab": {
          "base_uri": "https://localhost:8080/"
        },
        "id": "suvbEn_u4-lE",
        "outputId": "35c2be55-a931-4125-f41f-5ccbbbb114ca"
      },
      "execution_count": 7,
      "outputs": [
        {
          "output_type": "stream",
          "name": "stdout",
          "text": [
            "a : 1\n",
            "b : [2, 3, 4, 5, 6]\n",
            "c : 7\n"
          ]
        }
      ]
    },
    {
      "cell_type": "code",
      "source": [
        "# Two stars cant be used\n",
        "l1 = [1, 2, 3, 4, 5, 6, 7]\n",
        "\n",
        "a, *b, *c = l1\n",
        "\n",
        "print('a : {}'.format(a))\n",
        "print('b : {}'.format(b))\n",
        "print('c : {}'.format(c))"
      ],
      "metadata": {
        "colab": {
          "base_uri": "https://localhost:8080/",
          "height": 108
        },
        "id": "SST0lGA65Abu",
        "outputId": "b6c4de66-40f8-414c-87ae-e2b6634fc1a6"
      },
      "execution_count": 8,
      "outputs": [
        {
          "output_type": "error",
          "ename": "SyntaxError",
          "evalue": "multiple starred expressions in assignment (<ipython-input-8-b906350c1efc>, line 4)",
          "traceback": [
            "\u001b[0;36m  File \u001b[0;32m\"<ipython-input-8-b906350c1efc>\"\u001b[0;36m, line \u001b[0;32m4\u001b[0m\n\u001b[0;31m    a, *b, *c = l1\u001b[0m\n\u001b[0m    ^\u001b[0m\n\u001b[0;31mSyntaxError\u001b[0m\u001b[0;31m:\u001b[0m multiple starred expressions in assignment\n"
          ]
        }
      ]
    },
    {
      "cell_type": "code",
      "source": [
        "# Unpacking lists on the righthand side\n",
        "l2 = ['blue', 'orange']\n",
        "l3 = [*l1, *l2]\n",
        "l3"
      ],
      "metadata": {
        "colab": {
          "base_uri": "https://localhost:8080/"
        },
        "id": "jiGkN9SK5CNC",
        "outputId": "46871159-6825-4cfc-ea75-9177d34b4ce4"
      },
      "execution_count": 9,
      "outputs": [
        {
          "output_type": "execute_result",
          "data": {
            "text/plain": [
              "[1, 2, 3, 4, 5, 6, 7, 'blue', 'orange']"
            ]
          },
          "metadata": {},
          "execution_count": 9
        }
      ]
    },
    {
      "cell_type": "markdown",
      "source": [
        "#Double Star Operator"
      ],
      "metadata": {
        "id": "BnfyTr1G5D-n"
      }
    },
    {
      "cell_type": "code",
      "source": [
        "# Unpacking dicts with double star\n",
        "\n",
        "d1 = {\n",
        "    'a': 1,\n",
        "    'x': 2,\n",
        "}\n",
        "\n",
        "d2 = {\n",
        "    'b': 4,\n",
        "    'c': 10\n",
        "}\n",
        "\n",
        "d3 = {**d1, **d2}\n",
        "d3"
      ],
      "metadata": {
        "colab": {
          "base_uri": "https://localhost:8080/"
        },
        "id": "PSmOZhVC5DaF",
        "outputId": "4fa72b0c-f320-4964-8eef-e549e179e36e"
      },
      "execution_count": 10,
      "outputs": [
        {
          "output_type": "execute_result",
          "data": {
            "text/plain": [
              "{'a': 1, 'x': 2, 'b': 4, 'c': 10}"
            ]
          },
          "metadata": {},
          "execution_count": 10
        }
      ]
    },
    {
      "cell_type": "code",
      "source": [
        "# Unpacking dicts with double star\n",
        "\n",
        "d1 = {\n",
        "    'a': 1,\n",
        "    'b': 2,\n",
        "}\n",
        "\n",
        "d2 = {\n",
        "    'b': 4,\n",
        "    'c': 10\n",
        "}\n",
        "\n",
        "d3 = {**d1, **d2}\n",
        "d3"
      ],
      "metadata": {
        "colab": {
          "base_uri": "https://localhost:8080/"
        },
        "id": "XdPdVtRI5I3M",
        "outputId": "2b4d0a42-33e8-4806-eb5e-91f8356163f1"
      },
      "execution_count": 11,
      "outputs": [
        {
          "output_type": "execute_result",
          "data": {
            "text/plain": [
              "{'a': 1, 'b': 4, 'c': 10}"
            ]
          },
          "metadata": {},
          "execution_count": 11
        }
      ]
    },
    {
      "cell_type": "code",
      "source": [],
      "metadata": {
        "id": "vaiefCCH5KH6"
      },
      "execution_count": null,
      "outputs": []
    }
  ]
}