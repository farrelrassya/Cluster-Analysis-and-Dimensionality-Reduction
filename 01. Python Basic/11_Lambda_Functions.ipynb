{
  "cells": [
    {
      "cell_type": "markdown",
      "metadata": {
        "id": "view-in-github",
        "colab_type": "text"
      },
      "source": [
        "<a href=\"https://colab.research.google.com/github/farrelrassya/Cluster-Analysis-and-Dimensionality-Reduction/blob/main/01.%20Python%20Basic/11_Lambda_Functions.ipynb\" target=\"_parent\"><img src=\"https://colab.research.google.com/assets/colab-badge.svg\" alt=\"Open In Colab\"/></a>"
      ]
    },
    {
      "cell_type": "markdown",
      "metadata": {
        "id": "A8fIKBd06e02"
      },
      "source": [
        "## Functions - lambda functions and decorators\n",
        "\n",
        "#### Agenda\n",
        "\n",
        "- Lambda functions\n",
        "- Function scope\n",
        "- Decorator basics"
      ]
    },
    {
      "cell_type": "markdown",
      "metadata": {
        "id": "JxX_vM0H6e1D"
      },
      "source": [
        "##### Lambda functions\n"
      ]
    },
    {
      "cell_type": "code",
      "execution_count": 1,
      "metadata": {
        "id": "p0z79aii6e1D"
      },
      "outputs": [],
      "source": [
        "def sum_numbers_1(a,b,c):\n",
        "    return a + b + c"
      ]
    },
    {
      "cell_type": "code",
      "execution_count": 2,
      "metadata": {
        "id": "fibSWffv6e1E"
      },
      "outputs": [],
      "source": [
        "sum_numbers_2 = lambda a,b,c:  a+b+c"
      ]
    },
    {
      "cell_type": "code",
      "execution_count": 3,
      "metadata": {
        "colab": {
          "base_uri": "https://localhost:8080/"
        },
        "id": "jHEQcWJS6e1E",
        "outputId": "975a135f-3fcf-48bd-de13-ce36f4c6ab22"
      },
      "outputs": [
        {
          "output_type": "execute_result",
          "data": {
            "text/plain": [
              "6"
            ]
          },
          "metadata": {},
          "execution_count": 3
        }
      ],
      "source": [
        "sum_numbers_1(1,2,3)"
      ]
    },
    {
      "cell_type": "code",
      "execution_count": 4,
      "metadata": {
        "colab": {
          "base_uri": "https://localhost:8080/"
        },
        "id": "008KqcjC6e1E",
        "outputId": "328ed0bb-7e85-478c-b5e7-bdab72782559"
      },
      "outputs": [
        {
          "output_type": "execute_result",
          "data": {
            "text/plain": [
              "6"
            ]
          },
          "metadata": {},
          "execution_count": 4
        }
      ],
      "source": [
        "sum_numbers_2(1,2,3)"
      ]
    },
    {
      "cell_type": "code",
      "execution_count": 5,
      "metadata": {
        "colab": {
          "base_uri": "https://localhost:8080/"
        },
        "id": "WedyvZk06e1E",
        "outputId": "81049e74-7042-4a46-ce3d-b15539e3b26a"
      },
      "outputs": [
        {
          "output_type": "execute_result",
          "data": {
            "text/plain": [
              "function"
            ]
          },
          "metadata": {},
          "execution_count": 5
        }
      ],
      "source": [
        "type(sum_numbers_1)"
      ]
    },
    {
      "cell_type": "code",
      "execution_count": 6,
      "metadata": {
        "colab": {
          "base_uri": "https://localhost:8080/"
        },
        "id": "eNWYxSYJ6e1E",
        "outputId": "2d2f8565-ac63-4a27-f69d-f51a8f6a60be"
      },
      "outputs": [
        {
          "output_type": "execute_result",
          "data": {
            "text/plain": [
              "function"
            ]
          },
          "metadata": {},
          "execution_count": 6
        }
      ],
      "source": [
        "type(sum_numbers_2)"
      ]
    },
    {
      "cell_type": "markdown",
      "metadata": {
        "id": "1xsvg8TH6e1E"
      },
      "source": [
        "##### Function scope"
      ]
    },
    {
      "cell_type": "code",
      "execution_count": 7,
      "metadata": {
        "colab": {
          "base_uri": "https://localhost:8080/"
        },
        "id": "N_QGQRoq6e1E",
        "outputId": "66e4096d-e2f7-48b9-aa80-cb5efe531cba"
      },
      "outputs": [
        {
          "output_type": "execute_result",
          "data": {
            "text/plain": [
              "15"
            ]
          },
          "metadata": {},
          "execution_count": 7
        }
      ],
      "source": [
        "# Function can see outside variables\n",
        "out_var = 10\n",
        "\n",
        "def f1(p1):\n",
        "    in_var = 19\n",
        "    return p1 + out_var\n",
        "\n",
        "f1(5)"
      ]
    },
    {
      "cell_type": "code",
      "execution_count": 9,
      "metadata": {
        "colab": {
          "base_uri": "https://localhost:8080/",
          "height": 144
        },
        "id": "xeRowkAe6e1F",
        "outputId": "5c5bc031-0b04-4022-dccf-4e1b23149e49"
      },
      "outputs": [
        {
          "output_type": "error",
          "ename": "NameError",
          "evalue": "name 'in_var' is not defined",
          "traceback": [
            "\u001b[0;31m---------------------------------------------------------------------------\u001b[0m",
            "\u001b[0;31mNameError\u001b[0m                                 Traceback (most recent call last)",
            "\u001b[0;32m<ipython-input-9-196788d9fecd>\u001b[0m in \u001b[0;36m<cell line: 1>\u001b[0;34m()\u001b[0m\n\u001b[0;32m----> 1\u001b[0;31m \u001b[0min_var\u001b[0m\u001b[0;34m\u001b[0m\u001b[0;34m\u001b[0m\u001b[0m\n\u001b[0m",
            "\u001b[0;31mNameError\u001b[0m: name 'in_var' is not defined"
          ]
        }
      ],
      "source": [
        "in_var"
      ]
    },
    {
      "cell_type": "code",
      "execution_count": 10,
      "metadata": {
        "colab": {
          "base_uri": "https://localhost:8080/"
        },
        "id": "jVvEUk0v6e1F",
        "outputId": "0d931582-55c3-42f7-9501-8092e014e054"
      },
      "outputs": [
        {
          "output_type": "execute_result",
          "data": {
            "text/plain": [
              "205"
            ]
          },
          "metadata": {},
          "execution_count": 10
        }
      ],
      "source": [
        "# Arguments have advantage over\n",
        "# outter variables\n",
        "\n",
        "def f1(p1, out_var):\n",
        "    return p1 + out_var\n",
        "\n",
        "f1(5, 200)"
      ]
    },
    {
      "cell_type": "code",
      "execution_count": 11,
      "metadata": {
        "colab": {
          "base_uri": "https://localhost:8080/"
        },
        "id": "O0-igJ2B6e1F",
        "outputId": "a0d44a70-c483-4699-d92c-3371639749a9"
      },
      "outputs": [
        {
          "output_type": "execute_result",
          "data": {
            "text/plain": [
              "105"
            ]
          },
          "metadata": {},
          "execution_count": 11
        }
      ],
      "source": [
        "# Internal variables have\n",
        "# advantage over outside variables\n",
        "\n",
        "def f1(p1):\n",
        "    out_var = 100\n",
        "    return p1 + out_var\n",
        "\n",
        "f1(5)"
      ]
    },
    {
      "cell_type": "code",
      "execution_count": 12,
      "metadata": {
        "colab": {
          "base_uri": "https://localhost:8080/"
        },
        "id": "LkE8WkLJ6e1F",
        "outputId": "e13f8f4d-a95a-4d9d-81fb-7d863e63a47d"
      },
      "outputs": [
        {
          "output_type": "execute_result",
          "data": {
            "text/plain": [
              "19"
            ]
          },
          "metadata": {},
          "execution_count": 12
        }
      ],
      "source": [
        "# Functions can be defined inside other functions\n",
        "\n",
        "def f1(p1, p2, p3):\n",
        "\n",
        "    def f2(i1):\n",
        "        return i1 + out_var + p3\n",
        "\n",
        "    return p1 + f2(i1=p2)\n",
        "\n",
        "f1(2, 3, 4)"
      ]
    },
    {
      "cell_type": "code",
      "execution_count": 13,
      "metadata": {
        "colab": {
          "base_uri": "https://localhost:8080/"
        },
        "id": "D9c9zYSE6e1F",
        "outputId": "bee371db-db1d-437e-c574-2f3e43fdd8ca"
      },
      "outputs": [
        {
          "output_type": "execute_result",
          "data": {
            "text/plain": [
              "105"
            ]
          },
          "metadata": {},
          "execution_count": 13
        }
      ],
      "source": [
        "# out_var in f1 scope has advantage in f2\n",
        "# over out_var from general scope\n",
        "def f1(p1, p2):\n",
        "\n",
        "    out_var = 100\n",
        "\n",
        "    def f2(i1):\n",
        "        return i1 + out_var\n",
        "    return p1 + f2(i1=p2)\n",
        "\n",
        "f1(2, 3)"
      ]
    },
    {
      "cell_type": "code",
      "execution_count": 14,
      "metadata": {
        "colab": {
          "base_uri": "https://localhost:8080/"
        },
        "id": "w9Wnrj616e1F",
        "outputId": "90524479-75f6-4b75-97d0-d3da3190f6ac"
      },
      "outputs": [
        {
          "output_type": "execute_result",
          "data": {
            "text/plain": [
              "10"
            ]
          },
          "metadata": {},
          "execution_count": 14
        }
      ],
      "source": [
        "out_var"
      ]
    },
    {
      "cell_type": "markdown",
      "metadata": {
        "id": "Uro4cpHX6e1G"
      },
      "source": [
        "##### Decorator basics\n",
        "\n",
        "A decorator in Python is a special type of function that allows us to add extra functionality to an existing function or method, without modifying its source code.\n",
        "\n"
      ]
    },
    {
      "cell_type": "code",
      "execution_count": 15,
      "metadata": {
        "id": "SFiVrTp86e1G"
      },
      "outputs": [],
      "source": [
        "# Our example function\n",
        "def f1(s1, s2):\n",
        "    return('I was provided {} and {} to print'.format(s1, s2))"
      ]
    },
    {
      "cell_type": "code",
      "execution_count": 16,
      "metadata": {
        "id": "PlHk74bl6e1G"
      },
      "outputs": [],
      "source": [
        "# Function that takes another function as argument\n",
        "# and returns function\n",
        "def f2(func):\n",
        "    print('I have received input {}'.format(func))\n",
        "    return func"
      ]
    },
    {
      "cell_type": "code",
      "execution_count": 17,
      "metadata": {
        "colab": {
          "base_uri": "https://localhost:8080/"
        },
        "id": "WZELM6Hy6e1G",
        "outputId": "c3c2130c-9b74-4a8e-823b-ad2ceef05f4b"
      },
      "outputs": [
        {
          "output_type": "stream",
          "name": "stdout",
          "text": [
            "I have received input <function f1 at 0x7d5c547472e0>\n"
          ]
        }
      ],
      "source": [
        "f_ret = f2(func=f1)"
      ]
    },
    {
      "cell_type": "code",
      "execution_count": 18,
      "metadata": {
        "colab": {
          "base_uri": "https://localhost:8080/",
          "height": 35
        },
        "id": "KiFfieM46e1G",
        "outputId": "257bf89e-33a9-47f8-a375-e46123947d7e"
      },
      "outputs": [
        {
          "output_type": "execute_result",
          "data": {
            "text/plain": [
              "'I was provided str 1 and str 2 to print'"
            ],
            "application/vnd.google.colaboratory.intrinsic+json": {
              "type": "string"
            }
          },
          "metadata": {},
          "execution_count": 18
        }
      ],
      "source": [
        "f_ret('str 1' , 'str 2')"
      ]
    },
    {
      "cell_type": "code",
      "execution_count": 19,
      "metadata": {
        "colab": {
          "base_uri": "https://localhost:8080/"
        },
        "id": "JsjgOhi56e1G",
        "outputId": "63cb2aae-db26-435d-b7af-206d8a36da9c"
      },
      "outputs": [
        {
          "output_type": "execute_result",
          "data": {
            "text/plain": [
              "True"
            ]
          },
          "metadata": {},
          "execution_count": 19
        }
      ],
      "source": [
        "f_ret == f1"
      ]
    },
    {
      "cell_type": "code",
      "execution_count": 20,
      "metadata": {
        "id": "pL001GZN6e1G"
      },
      "outputs": [],
      "source": [
        "import time"
      ]
    },
    {
      "cell_type": "code",
      "execution_count": 21,
      "metadata": {
        "id": "WlzCe5eQ6e1G"
      },
      "outputs": [],
      "source": [
        "# This function enchances other functions\n",
        "# with time profiling functionality\n",
        "def time_profiler(func):\n",
        "\n",
        "    def wrapper(*args, **kwargs):\n",
        "        start_time = time.time()\n",
        "        result = func(*args, **kwargs)\n",
        "        print(\"--- %s seconds ---\" % (time.time() - start_time))\n",
        "        return result\n",
        "\n",
        "    return wrapper"
      ]
    },
    {
      "cell_type": "code",
      "execution_count": 22,
      "metadata": {
        "id": "hqG9ltuP6e1G"
      },
      "outputs": [],
      "source": [
        "# Simple function that will be time proffiled\n",
        "def test_f(a,b):\n",
        "    return a+b"
      ]
    },
    {
      "cell_type": "code",
      "execution_count": 23,
      "metadata": {
        "colab": {
          "base_uri": "https://localhost:8080/"
        },
        "id": "4y75Ll9t6e1G",
        "outputId": "6d72fa97-ddd5-4f96-d1b2-d8615ce32e6f"
      },
      "outputs": [
        {
          "output_type": "execute_result",
          "data": {
            "text/plain": [
              "30"
            ]
          },
          "metadata": {},
          "execution_count": 23
        }
      ],
      "source": [
        "test_f(10, 20)"
      ]
    },
    {
      "cell_type": "code",
      "execution_count": 24,
      "metadata": {
        "id": "oLJ0zTyT6e1G"
      },
      "outputs": [],
      "source": [
        "test_f = time_profiler(test_f)"
      ]
    },
    {
      "cell_type": "code",
      "execution_count": 25,
      "metadata": {
        "colab": {
          "base_uri": "https://localhost:8080/"
        },
        "id": "0xMO-WXf6e1G",
        "outputId": "6f3328df-e211-42df-d8b9-cd332f79d331"
      },
      "outputs": [
        {
          "output_type": "stream",
          "name": "stdout",
          "text": [
            "--- 2.1457672119140625e-06 seconds ---\n"
          ]
        },
        {
          "output_type": "execute_result",
          "data": {
            "text/plain": [
              "30"
            ]
          },
          "metadata": {},
          "execution_count": 25
        }
      ],
      "source": [
        "test_f(10,20)"
      ]
    },
    {
      "cell_type": "code",
      "execution_count": 26,
      "metadata": {
        "id": "xml4mtY56e1H"
      },
      "outputs": [],
      "source": [
        "@time_profiler\n",
        "def test_f(a,b):\n",
        "\n",
        "    return a+b"
      ]
    },
    {
      "cell_type": "code",
      "execution_count": 27,
      "metadata": {
        "colab": {
          "base_uri": "https://localhost:8080/"
        },
        "id": "PoxycVDJ6e1H",
        "outputId": "061620e5-257d-4fdd-b149-ec972a5a6b06"
      },
      "outputs": [
        {
          "output_type": "stream",
          "name": "stdout",
          "text": [
            "--- 1.9073486328125e-06 seconds ---\n"
          ]
        },
        {
          "output_type": "execute_result",
          "data": {
            "text/plain": [
              "110"
            ]
          },
          "metadata": {},
          "execution_count": 27
        }
      ],
      "source": [
        "test_f(10, 100)"
      ]
    },
    {
      "cell_type": "markdown",
      "metadata": {
        "id": "QXNwISpc6e1H"
      },
      "source": [
        "#### Summary\n",
        "\n",
        "We have learned:\n",
        "\n",
        "- Lambda functions\n",
        "  \n",
        "- Function scope\n",
        "  \n",
        "- Decorator basics"
      ]
    }
  ],
  "metadata": {
    "kernelspec": {
      "display_name": "test_env_2",
      "language": "python",
      "name": "python3"
    },
    "language_info": {
      "codemirror_mode": {
        "name": "ipython",
        "version": 3
      },
      "file_extension": ".py",
      "mimetype": "text/x-python",
      "name": "python",
      "nbconvert_exporter": "python",
      "pygments_lexer": "ipython3",
      "version": "3.11.3"
    },
    "orig_nbformat": 4,
    "colab": {
      "provenance": [],
      "include_colab_link": true
    }
  },
  "nbformat": 4,
  "nbformat_minor": 0
}