{
  "nbformat": 4,
  "nbformat_minor": 0,
  "metadata": {
    "colab": {
      "provenance": [],
      "authorship_tag": "ABX9TyM/U5GO8r9++4fuYEFW9tq0",
      "include_colab_link": true
    },
    "kernelspec": {
      "name": "python3",
      "display_name": "Python 3"
    },
    "language_info": {
      "name": "python"
    }
  },
  "cells": [
    {
      "cell_type": "markdown",
      "metadata": {
        "id": "view-in-github",
        "colab_type": "text"
      },
      "source": [
        "<a href=\"https://colab.research.google.com/github/farrelrassya/Cluster-Analysis-and-Dimensionality-Reduction/blob/main/01.%20Python%20Basic/%2003_String_Data_Type.ipynb\" target=\"_parent\"><img src=\"https://colab.research.google.com/assets/colab-badge.svg\" alt=\"Open In Colab\"/></a>"
      ]
    },
    {
      "cell_type": "code",
      "execution_count": 1,
      "metadata": {
        "colab": {
          "base_uri": "https://localhost:8080/"
        },
        "id": "K5TwFSkk4dxH",
        "outputId": "c12791f8-0b94-4427-8141-6c1f0ccc2f45"
      },
      "outputs": [
        {
          "output_type": "stream",
          "name": "stdout",
          "text": [
            "<class 'str'>\n",
            "<class 'str'>\n"
          ]
        }
      ],
      "source": [
        "# Define two string variables\n",
        "str1 = 'Hello, World!'\n",
        "str2 = \"Good morning!\"\n",
        "\n",
        "print(type(str1))\n",
        "print(type(str2))"
      ]
    },
    {
      "cell_type": "code",
      "source": [
        "# String concatenation\n",
        "str1 = 'Hello,'\n",
        "str2 = ' World!'\n",
        "print(str1 + str2)"
      ],
      "metadata": {
        "colab": {
          "base_uri": "https://localhost:8080/"
        },
        "id": "BEfCNsgM4sPe",
        "outputId": "42bdc273-9a02-4165-ad51-e8a5e8cef835"
      },
      "execution_count": 2,
      "outputs": [
        {
          "output_type": "stream",
          "name": "stdout",
          "text": [
            "Hello, World!\n"
          ]
        }
      ]
    },
    {
      "cell_type": "code",
      "source": [
        "# String multiplication\n",
        "str1 = 'Hello, World! '\n",
        "print(str1 * 3)"
      ],
      "metadata": {
        "colab": {
          "base_uri": "https://localhost:8080/"
        },
        "id": "SlhlM1YE4tgL",
        "outputId": "4c054d21-e185-44f5-ff94-c58f01ea798c"
      },
      "execution_count": 3,
      "outputs": [
        {
          "output_type": "stream",
          "name": "stdout",
          "text": [
            "Hello, World! Hello, World! Hello, World! \n"
          ]
        }
      ]
    },
    {
      "cell_type": "code",
      "source": [
        "# String length\n",
        "str1 = 'Hello, World!'\n",
        "print(len(str1))"
      ],
      "metadata": {
        "colab": {
          "base_uri": "https://localhost:8080/"
        },
        "id": "wxg3aMFK4us9",
        "outputId": "a91c9669-599e-4830-fda2-a6e8bf137221"
      },
      "execution_count": 4,
      "outputs": [
        {
          "output_type": "stream",
          "name": "stdout",
          "text": [
            "13\n"
          ]
        }
      ]
    },
    {
      "cell_type": "code",
      "source": [
        "print(\"Hello,\\nWorld!\")"
      ],
      "metadata": {
        "colab": {
          "base_uri": "https://localhost:8080/"
        },
        "id": "orRrqN0w4v1G",
        "outputId": "783ad1fb-bf0d-4c32-aee0-b72b74592845"
      },
      "execution_count": 5,
      "outputs": [
        {
          "output_type": "stream",
          "name": "stdout",
          "text": [
            "Hello,\n",
            "World!\n"
          ]
        }
      ]
    },
    {
      "cell_type": "code",
      "source": [
        "# Casting to upper\n",
        "str1 = 'Hello, World!'\n",
        "print(str1.upper())"
      ],
      "metadata": {
        "colab": {
          "base_uri": "https://localhost:8080/"
        },
        "id": "qZlOVqLV4xK4",
        "outputId": "78588740-98aa-407f-8b3c-31b0de336c85"
      },
      "execution_count": 6,
      "outputs": [
        {
          "output_type": "stream",
          "name": "stdout",
          "text": [
            "HELLO, WORLD!\n"
          ]
        }
      ]
    },
    {
      "cell_type": "code",
      "source": [
        "status = 'successfully'\n",
        "\n",
        "print('Analysis has finished ' + status + '!')"
      ],
      "metadata": {
        "colab": {
          "base_uri": "https://localhost:8080/"
        },
        "id": "0GHDfpLZ4yad",
        "outputId": "a8359b50-06a1-49d3-abf2-fada2cb0673a"
      },
      "execution_count": 7,
      "outputs": [
        {
          "output_type": "stream",
          "name": "stdout",
          "text": [
            "Analysis has finished successfully!\n"
          ]
        }
      ]
    },
    {
      "cell_type": "code",
      "source": [
        "# Formating\n",
        "\n",
        "status = 'successfully'\n",
        "\n",
        "print('Analysis has finished {} !'.format(status))"
      ],
      "metadata": {
        "colab": {
          "base_uri": "https://localhost:8080/"
        },
        "id": "OkSHnZXM41EZ",
        "outputId": "5eee26ca-f0c5-4580-cbd4-36fc7cb68490"
      },
      "execution_count": 8,
      "outputs": [
        {
          "output_type": "stream",
          "name": "stdout",
          "text": [
            "Analysis has finished successfully !\n"
          ]
        }
      ]
    },
    {
      "cell_type": "code",
      "source": [
        "# Formating\n",
        "status = 'failed'\n",
        "reason = 'code bug'\n",
        "\n",
        "print('Analysis has failed {} due to {} !'.format(status, reason))"
      ],
      "metadata": {
        "colab": {
          "base_uri": "https://localhost:8080/"
        },
        "id": "CFcxSIlc42Fk",
        "outputId": "3d58bba0-7343-4247-99b3-710ab8fd1dc2"
      },
      "execution_count": 9,
      "outputs": [
        {
          "output_type": "stream",
          "name": "stdout",
          "text": [
            "Analysis has failed failed due to code bug !\n"
          ]
        }
      ]
    },
    {
      "cell_type": "code",
      "source": [
        "# Formating\n",
        "name = 4\n",
        "print('Analysis result equals {}!'.format(name))"
      ],
      "metadata": {
        "colab": {
          "base_uri": "https://localhost:8080/"
        },
        "id": "eNr8j9-C43Ui",
        "outputId": "e6244549-4711-412b-fc09-7987aba8e89e"
      },
      "execution_count": 10,
      "outputs": [
        {
          "output_type": "stream",
          "name": "stdout",
          "text": [
            "Analysis result equals 4!\n"
          ]
        }
      ]
    },
    {
      "cell_type": "code",
      "source": [
        "# String spliting\n",
        "sentence = \"Hello, I am learning Python.\"\n",
        "\n",
        "# Split by space\n",
        "sentence_split_by_comma = sentence.split(' ')\n",
        "print(sentence_split_by_comma)"
      ],
      "metadata": {
        "colab": {
          "base_uri": "https://localhost:8080/"
        },
        "id": "gylw3gwx44mi",
        "outputId": "3503743a-213d-4b2c-b334-25f6f6274606"
      },
      "execution_count": 11,
      "outputs": [
        {
          "output_type": "stream",
          "name": "stdout",
          "text": [
            "['Hello,', 'I', 'am', 'learning', 'Python.']\n"
          ]
        }
      ]
    },
    {
      "cell_type": "code",
      "source": [
        "merged_on_space = '_'.join(sentence_split_by_comma)\n",
        "print(merged_on_space)"
      ],
      "metadata": {
        "colab": {
          "base_uri": "https://localhost:8080/"
        },
        "id": "QF-D1d0l451N",
        "outputId": "18ab59d1-b847-4cc0-e5a5-30a8a5178510"
      },
      "execution_count": 12,
      "outputs": [
        {
          "output_type": "stream",
          "name": "stdout",
          "text": [
            "Hello,_I_am_learning_Python.\n"
          ]
        }
      ]
    }
  ]
}