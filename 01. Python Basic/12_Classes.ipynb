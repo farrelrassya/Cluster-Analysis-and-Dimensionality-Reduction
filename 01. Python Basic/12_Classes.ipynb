{
  "cells": [
    {
      "cell_type": "markdown",
      "metadata": {
        "id": "view-in-github",
        "colab_type": "text"
      },
      "source": [
        "<a href=\"https://colab.research.google.com/github/farrelrassya/Cluster-Analysis-and-Dimensionality-Reduction/blob/main/01.%20Python%20Basic/12_Classes.ipynb\" target=\"_parent\"><img src=\"https://colab.research.google.com/assets/colab-badge.svg\" alt=\"Open In Colab\"/></a>"
      ]
    },
    {
      "cell_type": "markdown",
      "metadata": {
        "id": "aT98sUcPQD1b"
      },
      "source": [
        "### Classes\n",
        "\n",
        "\n",
        "#### Agenda\n",
        "\n",
        "- Class basics\n",
        "- Inheritance\n",
        "- Everything in python is a class\n",
        "- More on methods\n",
        "\n",
        "\n"
      ]
    },
    {
      "cell_type": "markdown",
      "metadata": {
        "id": "MYNAIfWaQD1c"
      },
      "source": [
        "#### Class basics"
      ]
    },
    {
      "cell_type": "code",
      "execution_count": 1,
      "metadata": {
        "id": "pwRhmy1tQD1d"
      },
      "outputs": [],
      "source": [
        "class Vehicle:\n",
        "\n",
        "    def __init__(self, name, weight, mileage):\n",
        "        self._name = name\n",
        "        self._weight = weight\n",
        "        self._mileage = mileage\n",
        "\n",
        "    def display_vehicle(self):\n",
        "        print(\n",
        "            \"Vehicle Name: {}, Weight: {} kg, Mileage: {} km\".format(\n",
        "                self._name, self._weight, self._mileage\n",
        "            )\n",
        "        )\n",
        "\n",
        "    def add_mileage(self, miles):\n",
        "        self._mileage += miles"
      ]
    },
    {
      "cell_type": "code",
      "execution_count": 2,
      "metadata": {
        "id": "9gRMpEuwQD1e"
      },
      "outputs": [],
      "source": [
        "# Create two objects\n",
        "\n",
        "vehicle1 = Vehicle(\n",
        "    name=\"Ferrari\",\n",
        "    weight=2000,\n",
        "    mileage=15\n",
        ")\n",
        "\n",
        "vehicle2 = Vehicle(\n",
        "    name=\"Volvo\",\n",
        "    weight=3000,\n",
        "    mileage=25\n",
        ")"
      ]
    },
    {
      "cell_type": "code",
      "execution_count": 3,
      "metadata": {
        "colab": {
          "base_uri": "https://localhost:8080/",
          "height": 104
        },
        "id": "99yzbL9LQD1e",
        "outputId": "3bb69c94-b3e5-488d-fa33-308803cdaccd"
      },
      "outputs": [
        {
          "output_type": "execute_result",
          "data": {
            "text/plain": [
              "__main__.Vehicle"
            ],
            "text/html": [
              "<div style=\"max-width:800px; border: 1px solid var(--colab-border-color);\"><style>\n",
              "      pre.function-repr-contents {\n",
              "        overflow-x: auto;\n",
              "        padding: 8px 12px;\n",
              "        max-height: 500px;\n",
              "      }\n",
              "\n",
              "      pre.function-repr-contents.function-repr-contents-collapsed {\n",
              "        cursor: pointer;\n",
              "        max-height: 100px;\n",
              "      }\n",
              "    </style>\n",
              "    <pre style=\"white-space: initial; background:\n",
              "         var(--colab-secondary-surface-color); padding: 8px 12px;\n",
              "         border-bottom: 1px solid var(--colab-border-color);\"><b>Vehicle</b><br/>def __init__(name, weight, mileage)</pre><pre class=\"function-repr-contents function-repr-contents-collapsed\" style=\"\"><a class=\"filepath\" style=\"display:none\" href=\"#\"></a>&lt;no docstring&gt;</pre></div>"
            ]
          },
          "metadata": {},
          "execution_count": 3
        }
      ],
      "source": [
        "type(vehicle1)"
      ]
    },
    {
      "cell_type": "code",
      "execution_count": 4,
      "metadata": {
        "colab": {
          "base_uri": "https://localhost:8080/"
        },
        "id": "c-5YjYX_QD1e",
        "outputId": "c7154fd2-9f43-44b7-f1e8-f56a8ccf2044"
      },
      "outputs": [
        {
          "output_type": "stream",
          "name": "stdout",
          "text": [
            "Vehicle Name: Ferrari, Weight: 2000 kg, Mileage: 15 km\n"
          ]
        }
      ],
      "source": [
        "vehicle1.display_vehicle()"
      ]
    },
    {
      "cell_type": "code",
      "execution_count": 5,
      "metadata": {
        "id": "VY8_5C20QD1e"
      },
      "outputs": [],
      "source": [
        "vehicle1.add_mileage(10)"
      ]
    },
    {
      "cell_type": "code",
      "execution_count": 6,
      "metadata": {
        "colab": {
          "base_uri": "https://localhost:8080/"
        },
        "id": "MlSDJPzFQD1f",
        "outputId": "20ed33a7-35c7-4f77-fe1e-4a116f0c536a"
      },
      "outputs": [
        {
          "output_type": "stream",
          "name": "stdout",
          "text": [
            "Vehicle Name: Ferrari, Weight: 2000 kg, Mileage: 25 km\n"
          ]
        }
      ],
      "source": [
        "vehicle1.display_vehicle()"
      ]
    },
    {
      "cell_type": "code",
      "execution_count": 7,
      "metadata": {
        "colab": {
          "base_uri": "https://localhost:8080/"
        },
        "id": "I9opxxVyQD1f",
        "outputId": "4b11c43f-91e1-4fb8-bbca-06ace002ee62"
      },
      "outputs": [
        {
          "output_type": "execute_result",
          "data": {
            "text/plain": [
              "25"
            ]
          },
          "metadata": {},
          "execution_count": 7
        }
      ],
      "source": [
        "vehicle1._mileage"
      ]
    },
    {
      "cell_type": "code",
      "execution_count": 8,
      "metadata": {
        "colab": {
          "base_uri": "https://localhost:8080/"
        },
        "id": "nRG_Vg3UQD1f",
        "outputId": "fbe2784c-e6ae-41ea-d013-8731c40b46ef"
      },
      "outputs": [
        {
          "output_type": "execute_result",
          "data": {
            "text/plain": [
              "2000"
            ]
          },
          "metadata": {},
          "execution_count": 8
        }
      ],
      "source": [
        "vehicle1._weight"
      ]
    },
    {
      "cell_type": "code",
      "execution_count": 9,
      "metadata": {
        "id": "QvXz9tdeQD1f"
      },
      "outputs": [],
      "source": [
        "vehicle1._mileage = 10000"
      ]
    },
    {
      "cell_type": "code",
      "execution_count": 10,
      "metadata": {
        "colab": {
          "base_uri": "https://localhost:8080/"
        },
        "id": "zobxMFrPQD1f",
        "outputId": "2c5faa88-6641-4138-d632-b52dff5bfae2"
      },
      "outputs": [
        {
          "output_type": "stream",
          "name": "stdout",
          "text": [
            "Vehicle Name: Ferrari, Weight: 2000 kg, Mileage: 10000 km\n"
          ]
        }
      ],
      "source": [
        "vehicle1.display_vehicle()"
      ]
    },
    {
      "cell_type": "markdown",
      "metadata": {
        "id": "Uv-kj_P_QD1g"
      },
      "source": [
        "### Class inheritance"
      ]
    },
    {
      "cell_type": "code",
      "execution_count": 11,
      "metadata": {
        "id": "DAQiYv2XQD1g"
      },
      "outputs": [],
      "source": [
        "# Inheritance\n",
        "class Truck(Vehicle):\n",
        "\n",
        "    def __init__(self, name, weight, mileage, load_capacity):\n",
        "\n",
        "        super().__init__(name, weight, mileage)\n",
        "\n",
        "        self.load_capacity = load_capacity\n",
        "\n",
        "    def display_truck(self):\n",
        "\n",
        "        self.display_vehicle()\n",
        "\n",
        "        print(\"Load Capacity: {} kg\".format(self.load_capacity))"
      ]
    },
    {
      "cell_type": "code",
      "execution_count": 12,
      "metadata": {
        "colab": {
          "base_uri": "https://localhost:8080/"
        },
        "id": "TWkURfflQD1g",
        "outputId": "5a9a0e31-cf60-4d7f-e318-0e59d05caea1"
      },
      "outputs": [
        {
          "output_type": "stream",
          "name": "stdout",
          "text": [
            "Vehicle Name: Volvo, Weight: 80 kg, Mileage: 8 km\n",
            "Load Capacity: 15000 kg\n"
          ]
        }
      ],
      "source": [
        "# Create a truck\n",
        "truck1 = Truck(\"Volvo\", 80, 8, 15000)\n",
        "truck1.display_truck()"
      ]
    },
    {
      "cell_type": "code",
      "execution_count": 13,
      "metadata": {
        "colab": {
          "base_uri": "https://localhost:8080/"
        },
        "id": "3UqJiJ_6QD1g",
        "outputId": "e550cdc2-26ce-4cb8-c1ad-b5ce632e24f2"
      },
      "outputs": [
        {
          "output_type": "execute_result",
          "data": {
            "text/plain": [
              "80"
            ]
          },
          "metadata": {},
          "execution_count": 13
        }
      ],
      "source": [
        "truck1._weight"
      ]
    },
    {
      "cell_type": "code",
      "execution_count": 14,
      "metadata": {
        "id": "ZHuucfkVQD1g"
      },
      "outputs": [],
      "source": [
        "# Use method from the parent class\n",
        "truck1.add_mileage(10)"
      ]
    },
    {
      "cell_type": "code",
      "execution_count": 15,
      "metadata": {
        "colab": {
          "base_uri": "https://localhost:8080/"
        },
        "id": "2MgjmQKMQD1g",
        "outputId": "332874be-5ea7-4a6c-ef20-cfdea3c8cfc8"
      },
      "outputs": [
        {
          "output_type": "stream",
          "name": "stdout",
          "text": [
            "Vehicle Name: Volvo, Weight: 80 kg, Mileage: 18 km\n"
          ]
        }
      ],
      "source": [
        "truck1.display_vehicle()"
      ]
    },
    {
      "cell_type": "markdown",
      "metadata": {
        "id": "ZugZAkY1QD1g"
      },
      "source": [
        "### Classes are used everywhere in python !"
      ]
    },
    {
      "cell_type": "code",
      "execution_count": 16,
      "metadata": {
        "colab": {
          "base_uri": "https://localhost:8080/",
          "height": 35
        },
        "id": "DRLnnBrkQD1h",
        "outputId": "45eaa60b-c0c1-44fa-c773-7271d13721d9"
      },
      "outputs": [
        {
          "output_type": "execute_result",
          "data": {
            "text/plain": [
              "'123'"
            ],
            "application/vnd.google.colaboratory.intrinsic+json": {
              "type": "string"
            }
          },
          "metadata": {},
          "execution_count": 16
        }
      ],
      "source": [
        "s1 = str(123)\n",
        "s1"
      ]
    },
    {
      "cell_type": "code",
      "execution_count": 17,
      "metadata": {
        "colab": {
          "base_uri": "https://localhost:8080/",
          "height": 35
        },
        "id": "sDfqdUeWQD1h",
        "outputId": "01bf7e8c-8551-4cb8-9ef8-b3400c1bcb85"
      },
      "outputs": [
        {
          "output_type": "execute_result",
          "data": {
            "text/plain": [
              "'A23'"
            ],
            "application/vnd.google.colaboratory.intrinsic+json": {
              "type": "string"
            }
          },
          "metadata": {},
          "execution_count": 17
        }
      ],
      "source": [
        "s1.replace('1', 'A')"
      ]
    },
    {
      "cell_type": "code",
      "execution_count": 18,
      "metadata": {
        "colab": {
          "base_uri": "https://localhost:8080/"
        },
        "id": "fILqqTIWQD1h",
        "outputId": "1787aab4-b2bb-4db5-bec1-2f902810862c"
      },
      "outputs": [
        {
          "output_type": "execute_result",
          "data": {
            "text/plain": [
              "3"
            ]
          },
          "metadata": {},
          "execution_count": 18
        }
      ],
      "source": [
        "len(s1)"
      ]
    },
    {
      "cell_type": "code",
      "execution_count": 19,
      "metadata": {
        "colab": {
          "base_uri": "https://localhost:8080/"
        },
        "id": "NzSfi4t5QD1h",
        "outputId": "4ad85d16-884c-4d42-b566-391cb7c6adc1"
      },
      "outputs": [
        {
          "output_type": "execute_result",
          "data": {
            "text/plain": [
              "10.0"
            ]
          },
          "metadata": {},
          "execution_count": 19
        }
      ],
      "source": [
        "int1 = 10\n",
        "f1 = float(int1)\n",
        "f1"
      ]
    },
    {
      "cell_type": "markdown",
      "metadata": {
        "id": "Was_ZbY7QD1h"
      },
      "source": [
        "### Method return values"
      ]
    },
    {
      "cell_type": "code",
      "execution_count": 20,
      "metadata": {
        "id": "_XiNHqS0QD1h"
      },
      "outputs": [],
      "source": [
        "# New classs\n",
        "class Car:\n",
        "    def __init__(self, color, mileage):\n",
        "        self.color = color\n",
        "        self.mileage = mileage\n",
        "\n",
        "    def drive(self, miles):\n",
        "        self.mileage += miles\n",
        "\n",
        "    def return_mileage_in_miles(self):\n",
        "        return self.mileage*0.621371\n",
        "\n",
        "    def paint(self, new_color):\n",
        "        return Car(new_color, self.mileage)\n",
        "\n",
        "    def paint2(self, new_color):\n",
        "        self.color = new_color\n",
        "        return self\n"
      ]
    },
    {
      "cell_type": "code",
      "execution_count": 21,
      "metadata": {
        "colab": {
          "base_uri": "https://localhost:8080/"
        },
        "id": "E9BMgqyrQD1h",
        "outputId": "ed1001d8-5cdb-459a-b33b-37b942e6bf32"
      },
      "outputs": [
        {
          "output_type": "execute_result",
          "data": {
            "text/plain": [
              "140207610783984"
            ]
          },
          "metadata": {},
          "execution_count": 21
        }
      ],
      "source": [
        "c1 = Car('blue', 200)\n",
        "id(c1)"
      ]
    },
    {
      "cell_type": "code",
      "execution_count": 22,
      "metadata": {
        "colab": {
          "base_uri": "https://localhost:8080/"
        },
        "id": "Ze4NkzOYQD1h",
        "outputId": "5570b351-f6f4-476e-bf92-7c9e70e37fe1"
      },
      "outputs": [
        {
          "output_type": "execute_result",
          "data": {
            "text/plain": [
              "250"
            ]
          },
          "metadata": {},
          "execution_count": 22
        }
      ],
      "source": [
        "c1.drive(50)\n",
        "c1.mileage"
      ]
    },
    {
      "cell_type": "code",
      "execution_count": 23,
      "metadata": {
        "colab": {
          "base_uri": "https://localhost:8080/"
        },
        "id": "4IozAuzOQD1h",
        "outputId": "36d52014-8968-46e6-e714-f28a0f75eb32"
      },
      "outputs": [
        {
          "output_type": "execute_result",
          "data": {
            "text/plain": [
              "140207610783984"
            ]
          },
          "metadata": {},
          "execution_count": 23
        }
      ],
      "source": [
        "id(c1)"
      ]
    },
    {
      "cell_type": "code",
      "execution_count": 24,
      "metadata": {
        "id": "gl4PGIYoQD1h"
      },
      "outputs": [],
      "source": [
        "c1 = c1.drive(50)"
      ]
    },
    {
      "cell_type": "code",
      "execution_count": 25,
      "metadata": {
        "colab": {
          "base_uri": "https://localhost:8080/"
        },
        "id": "zW54ljbcQD1h",
        "outputId": "8722cc8c-bece-4da3-9375-8adca3d63b84"
      },
      "outputs": [
        {
          "output_type": "stream",
          "name": "stdout",
          "text": [
            "None\n"
          ]
        },
        {
          "output_type": "execute_result",
          "data": {
            "text/plain": [
              "100077698581472"
            ]
          },
          "metadata": {},
          "execution_count": 25
        }
      ],
      "source": [
        "print(c1)\n",
        "id(c1)"
      ]
    },
    {
      "cell_type": "code",
      "execution_count": 26,
      "metadata": {
        "colab": {
          "base_uri": "https://localhost:8080/"
        },
        "id": "mwjanjD0QD1i",
        "outputId": "d3baa062-512b-4fb1-fc74-edaee1a04fc9"
      },
      "outputs": [
        {
          "output_type": "execute_result",
          "data": {
            "text/plain": [
              "140207610426512"
            ]
          },
          "metadata": {},
          "execution_count": 26
        }
      ],
      "source": [
        "c1 = Car('blue', 200)\n",
        "id(c1)"
      ]
    },
    {
      "cell_type": "code",
      "execution_count": 27,
      "metadata": {
        "colab": {
          "base_uri": "https://localhost:8080/"
        },
        "id": "ORB0qfL4QD1i",
        "outputId": "bd717be7-0ac0-43cd-a04f-2086dda357eb"
      },
      "outputs": [
        {
          "output_type": "execute_result",
          "data": {
            "text/plain": [
              "124.27420000000001"
            ]
          },
          "metadata": {},
          "execution_count": 27
        }
      ],
      "source": [
        "c1.return_mileage_in_miles()"
      ]
    },
    {
      "cell_type": "code",
      "execution_count": 28,
      "metadata": {
        "colab": {
          "base_uri": "https://localhost:8080/"
        },
        "id": "i8kkM75_QD1i",
        "outputId": "a6735f14-9717-4b0a-c641-e8faecb8826a"
      },
      "outputs": [
        {
          "output_type": "stream",
          "name": "stdout",
          "text": [
            "Black\n",
            "140207610783408\n"
          ]
        }
      ],
      "source": [
        "c1 = c1.paint('Black')\n",
        "print(c1.color)\n",
        "print(id(c1))"
      ]
    },
    {
      "cell_type": "code",
      "execution_count": 29,
      "metadata": {
        "colab": {
          "base_uri": "https://localhost:8080/"
        },
        "id": "S0yD7hU2QD1i",
        "outputId": "15378c30-46f4-421a-9224-4766a2580364"
      },
      "outputs": [
        {
          "output_type": "stream",
          "name": "stdout",
          "text": [
            "red\n"
          ]
        },
        {
          "output_type": "execute_result",
          "data": {
            "text/plain": [
              "140207610783408"
            ]
          },
          "metadata": {},
          "execution_count": 29
        }
      ],
      "source": [
        "c1 = c1.paint2('red')\n",
        "print(c1.color)\n",
        "id(c1)"
      ]
    },
    {
      "cell_type": "markdown",
      "metadata": {
        "id": "x4yzXRFhQD1i"
      },
      "source": [
        "#### List and string examples"
      ]
    },
    {
      "cell_type": "code",
      "execution_count": 30,
      "metadata": {
        "colab": {
          "base_uri": "https://localhost:8080/"
        },
        "id": "lQWAd9obQD1i",
        "outputId": "7943ecb2-e65c-4a55-b093-4484832992ea"
      },
      "outputs": [
        {
          "output_type": "stream",
          "name": "stdout",
          "text": [
            "140207610684016\n",
            "140207610820272\n"
          ]
        }
      ],
      "source": [
        "s1 = 'red house'\n",
        "print(id(s1))\n",
        "\n",
        "s1 = s1.replace('red', 'blue')\n",
        "print(id(s1))"
      ]
    },
    {
      "cell_type": "code",
      "execution_count": 31,
      "metadata": {
        "colab": {
          "base_uri": "https://localhost:8080/"
        },
        "id": "c6AtvdnoQD1i",
        "outputId": "b71bdd63-b267-433d-caeb-9e589e383b2b"
      },
      "outputs": [
        {
          "output_type": "stream",
          "name": "stdout",
          "text": [
            "140207610754816\n"
          ]
        }
      ],
      "source": [
        "l1 = [5,3,6,1]\n",
        "print(id(l1))"
      ]
    },
    {
      "cell_type": "code",
      "execution_count": 32,
      "metadata": {
        "colab": {
          "base_uri": "https://localhost:8080/"
        },
        "id": "KyGrsAuNQD1i",
        "outputId": "5aa687fc-a8f4-4eac-9969-3163f6d56eb0"
      },
      "outputs": [
        {
          "output_type": "stream",
          "name": "stdout",
          "text": [
            "None\n"
          ]
        }
      ],
      "source": [
        "l2 = l1.sort()\n",
        "print(l2)"
      ]
    },
    {
      "cell_type": "code",
      "execution_count": 33,
      "metadata": {
        "colab": {
          "base_uri": "https://localhost:8080/"
        },
        "id": "KXvwJrMuQD1i",
        "outputId": "ebaa51ec-14cc-4df8-b707-250b335efa30"
      },
      "outputs": [
        {
          "output_type": "execute_result",
          "data": {
            "text/plain": [
              "[1, 3, 5, 6]"
            ]
          },
          "metadata": {},
          "execution_count": 33
        }
      ],
      "source": [
        "l1"
      ]
    },
    {
      "cell_type": "code",
      "execution_count": 34,
      "metadata": {
        "colab": {
          "base_uri": "https://localhost:8080/"
        },
        "id": "87NVdlhUQD1j",
        "outputId": "08ddd47f-dd4b-44f1-d6c0-e5c79eaea223"
      },
      "outputs": [
        {
          "output_type": "execute_result",
          "data": {
            "text/plain": [
              "140207610754816"
            ]
          },
          "metadata": {},
          "execution_count": 34
        }
      ],
      "source": [
        "id(l1)"
      ]
    },
    {
      "cell_type": "markdown",
      "metadata": {
        "id": "EHyncBbkQD1j"
      },
      "source": [
        "#### Conclusion\n",
        "\n",
        "We have learned :\n",
        "\n",
        "- Class creation\n",
        "- Inheritance\n",
        "- Everything in python is a class\n",
        "- More on methods"
      ]
    }
  ],
  "metadata": {
    "kernelspec": {
      "display_name": "test_env_2",
      "language": "python",
      "name": "python3"
    },
    "language_info": {
      "codemirror_mode": {
        "name": "ipython",
        "version": 3
      },
      "file_extension": ".py",
      "mimetype": "text/x-python",
      "name": "python",
      "nbconvert_exporter": "python",
      "pygments_lexer": "ipython3",
      "version": "3.11.3"
    },
    "orig_nbformat": 4,
    "colab": {
      "provenance": [],
      "include_colab_link": true
    }
  },
  "nbformat": 4,
  "nbformat_minor": 0
}