{
  "cells": [
    {
      "cell_type": "markdown",
      "metadata": {
        "id": "view-in-github",
        "colab_type": "text"
      },
      "source": [
        "<a href=\"https://colab.research.google.com/github/farrelrassya/Cluster-Analysis-and-Dimensionality-Reduction/blob/main/01.%20Python%20Basic/%2005_Sets_and_Tuples.ipynb\" target=\"_parent\"><img src=\"https://colab.research.google.com/assets/colab-badge.svg\" alt=\"Open In Colab\"/></a>"
      ]
    },
    {
      "cell_type": "markdown",
      "metadata": {
        "id": "CxB5kgxiPkO8"
      },
      "source": [
        "## Sets and tuples\n",
        "\n",
        "### Sets\n",
        "\n",
        "A set is mutable collection of unique elements.\n",
        "\n",
        "- It's defined by values separated by commas inside braces {}.\n",
        "  \n",
        "- Sets are unordered.\n",
        "- Sets also don't allow duplicates.\n",
        "- Sets can only contain unmutable elements.\n",
        "- Sets are iterable."
      ]
    },
    {
      "cell_type": "code",
      "execution_count": 1,
      "metadata": {
        "colab": {
          "base_uri": "https://localhost:8080/"
        },
        "id": "3T5yiyiFPkO9",
        "outputId": "a1a9f9c5-3731-4a58-81a0-232d1f9ace19"
      },
      "outputs": [
        {
          "output_type": "stream",
          "name": "stdout",
          "text": [
            "{1, 'b', 'a'}\n",
            "<class 'set'>\n"
          ]
        }
      ],
      "source": [
        "# Creating simple set\n",
        "set1 = {1, 'a', 'b'}\n",
        "print(set1)\n",
        "print(type(set1))"
      ]
    },
    {
      "cell_type": "code",
      "execution_count": 2,
      "metadata": {
        "colab": {
          "base_uri": "https://localhost:8080/"
        },
        "id": "wuxUZO11PkO-",
        "outputId": "3f0f9404-163e-44c1-ea8b-69599ebc7b45"
      },
      "outputs": [
        {
          "output_type": "stream",
          "name": "stdout",
          "text": [
            "{1, 'b', 'a'}\n",
            "<class 'set'>\n"
          ]
        }
      ],
      "source": [
        "# Creating set from a list\n",
        "set1 = set([1, 'a', 'b'])\n",
        "print(set1)\n",
        "print(type(set1))"
      ]
    },
    {
      "cell_type": "code",
      "execution_count": 3,
      "metadata": {
        "colab": {
          "base_uri": "https://localhost:8080/"
        },
        "id": "SFsG9wFZPkO_",
        "outputId": "618ee497-3408-469a-bc8d-d7efde4f3bb2"
      },
      "outputs": [
        {
          "output_type": "execute_result",
          "data": {
            "text/plain": [
              "{0, 2, 'a', 'b'}"
            ]
          },
          "metadata": {},
          "execution_count": 3
        }
      ],
      "source": [
        "# Sets cant have duplicate elements\n",
        "# Sets do not preserve order\n",
        "set2 = {'b', 'b', 'a', 0, 2}\n",
        "set2"
      ]
    },
    {
      "cell_type": "code",
      "execution_count": 4,
      "metadata": {
        "colab": {
          "base_uri": "https://localhost:8080/"
        },
        "id": "hUTiCtpaPkO_",
        "outputId": "7b7a5147-665b-46ae-82a5-ed613ca9ec97"
      },
      "outputs": [
        {
          "output_type": "execute_result",
          "data": {
            "text/plain": [
              "{1, 2, 7, 8, 9}"
            ]
          },
          "metadata": {},
          "execution_count": 4
        }
      ],
      "source": [
        "l1 = [9, 9, 9, 8, 7, 1, 1, 1, 2]\n",
        "set3 = set(l1)\n",
        "set3\n"
      ]
    },
    {
      "cell_type": "code",
      "execution_count": 5,
      "metadata": {
        "colab": {
          "base_uri": "https://localhost:8080/"
        },
        "id": "UiVsFqHsPkO_",
        "outputId": "57c4e43d-d111-4ac1-969c-80d82f92d70a"
      },
      "outputs": [
        {
          "output_type": "stream",
          "name": "stdout",
          "text": [
            "1\n",
            "2\n",
            "7\n",
            "8\n",
            "9\n"
          ]
        }
      ],
      "source": [
        "# Iterating over sets\n",
        "for el in set3:\n",
        "    print(el)"
      ]
    },
    {
      "cell_type": "markdown",
      "metadata": {
        "id": "SxmnnlkEPkO_"
      },
      "source": [
        "#### Operations on sets"
      ]
    },
    {
      "cell_type": "code",
      "execution_count": 6,
      "metadata": {
        "colab": {
          "base_uri": "https://localhost:8080/"
        },
        "id": "nyWRwCFsPkO_",
        "outputId": "e0e7e63a-618f-4fe5-e8a6-92140a0b8a06"
      },
      "outputs": [
        {
          "output_type": "execute_result",
          "data": {
            "text/plain": [
              "{1, 2, 3, 4, 5, 6, 'a'}"
            ]
          },
          "metadata": {},
          "execution_count": 6
        }
      ],
      "source": [
        "# Add element to the set\n",
        "set4 = {1, 2, 3, 4, 5, 6}\n",
        "\n",
        "set4.add('a')\n",
        "set4"
      ]
    },
    {
      "cell_type": "code",
      "execution_count": 7,
      "metadata": {
        "colab": {
          "base_uri": "https://localhost:8080/"
        },
        "id": "QtX_dtKRPkO_",
        "outputId": "40342c33-0d6a-49db-bfa1-236daf30000f"
      },
      "outputs": [
        {
          "output_type": "execute_result",
          "data": {
            "text/plain": [
              "{1, 2, 20, 3, 4, 5, 6, 'a'}"
            ]
          },
          "metadata": {},
          "execution_count": 7
        }
      ],
      "source": [
        "# Concatenate sets\n",
        "set4.update({20})\n",
        "set4"
      ]
    },
    {
      "cell_type": "code",
      "execution_count": 8,
      "metadata": {
        "colab": {
          "base_uri": "https://localhost:8080/"
        },
        "id": "pYqdHKn8PkPA",
        "outputId": "df499eeb-f76d-4098-aff6-f4cc325d1f19"
      },
      "outputs": [
        {
          "output_type": "execute_result",
          "data": {
            "text/plain": [
              "{2, 20, 3, 4, 5, 6, 'a'}"
            ]
          },
          "metadata": {},
          "execution_count": 8
        }
      ],
      "source": [
        "# Pop random el\n",
        "pop_var = set4.pop()\n",
        "set4"
      ]
    },
    {
      "cell_type": "code",
      "execution_count": 9,
      "metadata": {
        "colab": {
          "base_uri": "https://localhost:8080/"
        },
        "id": "2mTCdpzSPkPA",
        "outputId": "fe18b43f-61da-403c-fdc1-5823c69f8b25"
      },
      "outputs": [
        {
          "output_type": "execute_result",
          "data": {
            "text/plain": [
              "1"
            ]
          },
          "metadata": {},
          "execution_count": 9
        }
      ],
      "source": [
        "pop_var"
      ]
    },
    {
      "cell_type": "code",
      "execution_count": 10,
      "metadata": {
        "colab": {
          "base_uri": "https://localhost:8080/"
        },
        "id": "GuvjfayRPkPA",
        "outputId": "81e2d31f-c97e-4cd4-bb62-e95ab28ac5ea"
      },
      "outputs": [
        {
          "output_type": "execute_result",
          "data": {
            "text/plain": [
              "{2, 20, 3, 4, 6, 'a'}"
            ]
          },
          "metadata": {},
          "execution_count": 10
        }
      ],
      "source": [
        "# Remove certain element\n",
        "set4.remove(5)\n",
        "set4"
      ]
    },
    {
      "cell_type": "markdown",
      "metadata": {
        "id": "MC7KEtQBPkPA"
      },
      "source": [
        "#### Mathematical set operations"
      ]
    },
    {
      "cell_type": "code",
      "execution_count": 11,
      "metadata": {
        "colab": {
          "base_uri": "https://localhost:8080/"
        },
        "id": "irZl1iucPkPA",
        "outputId": "b0303648-668c-4f83-a1fe-03b051886e52"
      },
      "outputs": [
        {
          "output_type": "stream",
          "name": "stdout",
          "text": [
            "Union : {1, 2, 3, 4, 5, 6}\n",
            "Union : {1, 2, 3, 4, 5, 6}\n"
          ]
        }
      ],
      "source": [
        "# Operations on multiple sets\n",
        "\n",
        "set1 = {1, 2, 3, 4}\n",
        "set2 = {3, 4, 5, 6}\n",
        "\n",
        "print('Union : {}'.format(set1.union(set2)))\n",
        "print('Union : {}'.format(set1 | set2))"
      ]
    },
    {
      "cell_type": "code",
      "execution_count": 12,
      "metadata": {
        "colab": {
          "base_uri": "https://localhost:8080/"
        },
        "id": "RkGZj9DYPkPA",
        "outputId": "704f99ea-c19c-43a8-930a-de5cf8c442e8"
      },
      "outputs": [
        {
          "output_type": "stream",
          "name": "stdout",
          "text": [
            "Intersection : {3, 4}\n",
            "Intersection : {3, 4}\n"
          ]
        }
      ],
      "source": [
        "print('Intersection : {}'.format(set1.intersection(set2)))\n",
        "print('Intersection : {}'.format(set1 & set2))"
      ]
    },
    {
      "cell_type": "code",
      "execution_count": 13,
      "metadata": {
        "colab": {
          "base_uri": "https://localhost:8080/"
        },
        "id": "rNjQoX4zPkPA",
        "outputId": "176a2b5b-2492-40c4-ea77-db04c096476e"
      },
      "outputs": [
        {
          "output_type": "stream",
          "name": "stdout",
          "text": [
            "Difference : {1, 2}\n",
            "Difference : {1, 2}\n"
          ]
        }
      ],
      "source": [
        "print('Difference : {}'.format(set1.difference(set2)))\n",
        "print('Difference : {}'.format(set1 - set2))"
      ]
    },
    {
      "cell_type": "markdown",
      "metadata": {
        "id": "t4WIBzeJPkPB"
      },
      "source": [
        "####  Part 6 : Touples\n",
        "\n",
        "A tuple is an immutable collection of ordered elements.\n",
        "\n",
        "- Tuples are ordered.\n",
        "- Tuples are iterable.\n",
        "  \n",
        "- Tuples are immutable (meaning they cannot be changed, unlike lists).\n"
      ]
    },
    {
      "cell_type": "code",
      "execution_count": 14,
      "metadata": {
        "colab": {
          "base_uri": "https://localhost:8080/"
        },
        "id": "FYoV46aJPkPB",
        "outputId": "b62ef87b-7637-4fe1-f00a-a400fafee341"
      },
      "outputs": [
        {
          "output_type": "stream",
          "name": "stdout",
          "text": [
            "(1, 'a', True)\n",
            "<class 'tuple'>\n"
          ]
        }
      ],
      "source": [
        "# Create simple tuple\n",
        "t1 = (1,'a', True)\n",
        "print(t1)\n",
        "print(type(t1))"
      ]
    },
    {
      "cell_type": "code",
      "execution_count": 15,
      "metadata": {
        "colab": {
          "base_uri": "https://localhost:8080/"
        },
        "id": "lj0A-Xl0PkPB",
        "outputId": "72dd799b-0d1b-435d-aec0-f4aade73e992"
      },
      "outputs": [
        {
          "output_type": "stream",
          "name": "stdout",
          "text": [
            "(1, 'a', True)\n",
            "<class 'tuple'>\n"
          ]
        }
      ],
      "source": [
        "# Create simple tuple\n",
        "t1 = 1,'a', True\n",
        "print(t1)\n",
        "print(type(t1))"
      ]
    },
    {
      "cell_type": "code",
      "execution_count": 16,
      "metadata": {
        "colab": {
          "base_uri": "https://localhost:8080/"
        },
        "id": "sA2u1qE0PkPB",
        "outputId": "f4c1a122-daba-4b53-b76e-e56fcb9d51d2"
      },
      "outputs": [
        {
          "output_type": "stream",
          "name": "stdout",
          "text": [
            "(1, 'a', True)\n",
            "<class 'tuple'>\n"
          ]
        }
      ],
      "source": [
        "# Create simple tuple\n",
        "t1 = tuple([1,'a', True])\n",
        "print(t1)\n",
        "print(type(t1))"
      ]
    },
    {
      "cell_type": "code",
      "execution_count": 17,
      "metadata": {
        "colab": {
          "base_uri": "https://localhost:8080/"
        },
        "id": "idXriHsfPkPC",
        "outputId": "9da3f607-dcd7-4a0d-cc46-045650a8a7f1"
      },
      "outputs": [
        {
          "output_type": "execute_result",
          "data": {
            "text/plain": [
              "1"
            ]
          },
          "metadata": {},
          "execution_count": 17
        }
      ],
      "source": [
        "# Indexing\n",
        "t1[0]"
      ]
    },
    {
      "cell_type": "code",
      "execution_count": 18,
      "metadata": {
        "colab": {
          "base_uri": "https://localhost:8080/"
        },
        "id": "ltucT7wfPkPC",
        "outputId": "2a9c55f5-247a-4576-84a3-c24e1dc86453"
      },
      "outputs": [
        {
          "output_type": "execute_result",
          "data": {
            "text/plain": [
              "('a', True)"
            ]
          },
          "metadata": {},
          "execution_count": 18
        }
      ],
      "source": [
        "# Slicing\n",
        "t1[1:3]"
      ]
    },
    {
      "cell_type": "code",
      "execution_count": 19,
      "metadata": {
        "colab": {
          "base_uri": "https://localhost:8080/",
          "height": 162
        },
        "id": "3bd-QcNyPkPC",
        "outputId": "6a4d1def-398e-4783-d6e1-7941db04ddd6"
      },
      "outputs": [
        {
          "output_type": "error",
          "ename": "TypeError",
          "evalue": "'tuple' object does not support item assignment",
          "traceback": [
            "\u001b[0;31m---------------------------------------------------------------------------\u001b[0m",
            "\u001b[0;31mTypeError\u001b[0m                                 Traceback (most recent call last)",
            "\u001b[0;32m<ipython-input-19-17b657730d8c>\u001b[0m in \u001b[0;36m<cell line: 2>\u001b[0;34m()\u001b[0m\n\u001b[1;32m      1\u001b[0m \u001b[0;31m# Tuple is immutable\u001b[0m\u001b[0;34m\u001b[0m\u001b[0;34m\u001b[0m\u001b[0m\n\u001b[0;32m----> 2\u001b[0;31m \u001b[0mt1\u001b[0m\u001b[0;34m[\u001b[0m\u001b[0;36m0\u001b[0m\u001b[0;34m]\u001b[0m \u001b[0;34m=\u001b[0m \u001b[0;36m10\u001b[0m\u001b[0;34m\u001b[0m\u001b[0;34m\u001b[0m\u001b[0m\n\u001b[0m",
            "\u001b[0;31mTypeError\u001b[0m: 'tuple' object does not support item assignment"
          ]
        }
      ],
      "source": [
        "# Tuple is immutable\n",
        "t1[0] = 10"
      ]
    },
    {
      "cell_type": "code",
      "execution_count": 20,
      "metadata": {
        "colab": {
          "base_uri": "https://localhost:8080/"
        },
        "id": "DKs6i3SCPkPC",
        "outputId": "0e2191ed-d545-4575-e397-d89ed2a208ee"
      },
      "outputs": [
        {
          "output_type": "stream",
          "name": "stdout",
          "text": [
            "1\n",
            "a\n",
            "True\n"
          ]
        }
      ],
      "source": [
        "# Iterate through tuple\n",
        "for el in t1:\n",
        "    print(el)"
      ]
    }
  ],
  "metadata": {
    "kernelspec": {
      "display_name": "test_env_2",
      "language": "python",
      "name": "python3"
    },
    "language_info": {
      "codemirror_mode": {
        "name": "ipython",
        "version": 3
      },
      "file_extension": ".py",
      "mimetype": "text/x-python",
      "name": "python",
      "nbconvert_exporter": "python",
      "pygments_lexer": "ipython3",
      "version": "3.11.3"
    },
    "orig_nbformat": 4,
    "colab": {
      "provenance": [],
      "include_colab_link": true
    }
  },
  "nbformat": 4,
  "nbformat_minor": 0
}