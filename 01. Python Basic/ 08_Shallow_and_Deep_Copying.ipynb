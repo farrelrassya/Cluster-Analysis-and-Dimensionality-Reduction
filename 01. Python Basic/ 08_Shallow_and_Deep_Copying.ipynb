{
  "nbformat": 4,
  "nbformat_minor": 0,
  "metadata": {
    "colab": {
      "provenance": [],
      "authorship_tag": "ABX9TyOx/n0Y7WJQlJF8T6bDHK7c",
      "include_colab_link": true
    },
    "kernelspec": {
      "name": "python3",
      "display_name": "Python 3"
    },
    "language_info": {
      "name": "python"
    }
  },
  "cells": [
    {
      "cell_type": "markdown",
      "metadata": {
        "id": "view-in-github",
        "colab_type": "text"
      },
      "source": [
        "<a href=\"https://colab.research.google.com/github/farrelrassya/Cluster-Analysis-and-Dimensionality-Reduction/blob/main/01.%20Python%20Basic/%2008_Shallow_and_Deep_Copying.ipynb\" target=\"_parent\"><img src=\"https://colab.research.google.com/assets/colab-badge.svg\" alt=\"Open In Colab\"/></a>"
      ]
    },
    {
      "cell_type": "markdown",
      "source": [
        "#References\n",
        "In Python, when you create a variable and assign it a value, you're actually creating a reference to that value in memory. This is like giving a name to a spot in your computer's memory where the actual data is stored."
      ],
      "metadata": {
        "id": "fTE52bbRyPzR"
      }
    },
    {
      "cell_type": "code",
      "execution_count": 1,
      "metadata": {
        "id": "lpeqjplFxntA"
      },
      "outputs": [],
      "source": [
        "l2 = [1, 2, 3]"
      ]
    },
    {
      "cell_type": "code",
      "source": [
        "id(l2)"
      ],
      "metadata": {
        "colab": {
          "base_uri": "https://localhost:8080/"
        },
        "id": "-1rpbgSFx7tB",
        "outputId": "092643f9-5faa-4a71-eabe-8e1f6df6a7b9"
      },
      "execution_count": 3,
      "outputs": [
        {
          "output_type": "execute_result",
          "data": {
            "text/plain": [
              "138815631340608"
            ]
          },
          "metadata": {},
          "execution_count": 3
        }
      ]
    },
    {
      "cell_type": "code",
      "source": [
        "l1 = l2"
      ],
      "metadata": {
        "id": "ow1MTyjLx8F2"
      },
      "execution_count": 4,
      "outputs": []
    },
    {
      "cell_type": "code",
      "source": [
        "id(l1)"
      ],
      "metadata": {
        "colab": {
          "base_uri": "https://localhost:8080/"
        },
        "id": "86DGhjvPx_zI",
        "outputId": "aec93cb1-92c1-4aff-cc53-42a5a530aa71"
      },
      "execution_count": 5,
      "outputs": [
        {
          "output_type": "execute_result",
          "data": {
            "text/plain": [
              "138815631340608"
            ]
          },
          "metadata": {},
          "execution_count": 5
        }
      ]
    },
    {
      "cell_type": "code",
      "source": [
        "id(l2) == id(l1)"
      ],
      "metadata": {
        "colab": {
          "base_uri": "https://localhost:8080/"
        },
        "id": "W1A4SYuzyAkg",
        "outputId": "2fa09efc-7512-4dfe-9092-262dd13a94f9"
      },
      "execution_count": 6,
      "outputs": [
        {
          "output_type": "execute_result",
          "data": {
            "text/plain": [
              "True"
            ]
          },
          "metadata": {},
          "execution_count": 6
        }
      ]
    },
    {
      "cell_type": "code",
      "source": [
        "l2"
      ],
      "metadata": {
        "colab": {
          "base_uri": "https://localhost:8080/"
        },
        "id": "V5FOVLqByDS2",
        "outputId": "4c946970-d775-42bf-c13b-07517f632556"
      },
      "execution_count": 7,
      "outputs": [
        {
          "output_type": "execute_result",
          "data": {
            "text/plain": [
              "[1, 2, 3]"
            ]
          },
          "metadata": {},
          "execution_count": 7
        }
      ]
    },
    {
      "cell_type": "code",
      "source": [
        "l2[0] = 'something new'\n",
        "l2"
      ],
      "metadata": {
        "colab": {
          "base_uri": "https://localhost:8080/"
        },
        "id": "5eOf06n7yFCB",
        "outputId": "bc15c600-9b6a-4791-d044-bd075d96c788"
      },
      "execution_count": 8,
      "outputs": [
        {
          "output_type": "execute_result",
          "data": {
            "text/plain": [
              "['something new', 2, 3]"
            ]
          },
          "metadata": {},
          "execution_count": 8
        }
      ]
    },
    {
      "cell_type": "code",
      "source": [
        "l1"
      ],
      "metadata": {
        "colab": {
          "base_uri": "https://localhost:8080/"
        },
        "id": "q0xfLjW2yGrn",
        "outputId": "caa526ee-4857-4086-da0d-493c06e8a773"
      },
      "execution_count": 9,
      "outputs": [
        {
          "output_type": "execute_result",
          "data": {
            "text/plain": [
              "['something new', 2, 3]"
            ]
          },
          "metadata": {},
          "execution_count": 9
        }
      ]
    },
    {
      "cell_type": "markdown",
      "source": [
        "#Mutability\n",
        "whether or not objects in Python can be changed (mutated) after they are created."
      ],
      "metadata": {
        "id": "DvDgmDNtySzM"
      }
    },
    {
      "cell_type": "code",
      "source": [
        "str1 = 'house'"
      ],
      "metadata": {
        "id": "PS54-K3fyH20"
      },
      "execution_count": 10,
      "outputs": []
    },
    {
      "cell_type": "code",
      "source": [
        "str1[0] = 'l'"
      ],
      "metadata": {
        "colab": {
          "base_uri": "https://localhost:8080/",
          "height": 144
        },
        "id": "MoXT8PdWybKp",
        "outputId": "f1c1362b-6e6a-4938-ffda-bae7b17c5b4d"
      },
      "execution_count": 11,
      "outputs": [
        {
          "output_type": "error",
          "ename": "TypeError",
          "evalue": "'str' object does not support item assignment",
          "traceback": [
            "\u001b[0;31m---------------------------------------------------------------------------\u001b[0m",
            "\u001b[0;31mTypeError\u001b[0m                                 Traceback (most recent call last)",
            "\u001b[0;32m<ipython-input-11-3f678d995160>\u001b[0m in \u001b[0;36m<cell line: 1>\u001b[0;34m()\u001b[0m\n\u001b[0;32m----> 1\u001b[0;31m \u001b[0mstr1\u001b[0m\u001b[0;34m[\u001b[0m\u001b[0;36m0\u001b[0m\u001b[0;34m]\u001b[0m \u001b[0;34m=\u001b[0m \u001b[0;34m'l'\u001b[0m\u001b[0;34m\u001b[0m\u001b[0;34m\u001b[0m\u001b[0m\n\u001b[0m",
            "\u001b[0;31mTypeError\u001b[0m: 'str' object does not support item assignment"
          ]
        }
      ]
    },
    {
      "cell_type": "code",
      "source": [
        "l1 = [1,2,3]\n",
        "id(l1)"
      ],
      "metadata": {
        "colab": {
          "base_uri": "https://localhost:8080/"
        },
        "id": "Zi1E3PJGycF3",
        "outputId": "679c342b-4634-4393-9922-d5647eac9def"
      },
      "execution_count": 12,
      "outputs": [
        {
          "output_type": "execute_result",
          "data": {
            "text/plain": [
              "138815645589312"
            ]
          },
          "metadata": {},
          "execution_count": 12
        }
      ]
    },
    {
      "cell_type": "code",
      "source": [
        "l1[0] = 10\n",
        "id(l1)"
      ],
      "metadata": {
        "colab": {
          "base_uri": "https://localhost:8080/"
        },
        "id": "FAHej3-zyd6q",
        "outputId": "d1c0313c-6d89-405c-87bf-ff22a4a0ddb2"
      },
      "execution_count": 13,
      "outputs": [
        {
          "output_type": "execute_result",
          "data": {
            "text/plain": [
              "138815645589312"
            ]
          },
          "metadata": {},
          "execution_count": 13
        }
      ]
    },
    {
      "cell_type": "code",
      "source": [
        "l1"
      ],
      "metadata": {
        "colab": {
          "base_uri": "https://localhost:8080/"
        },
        "id": "_lHeB_5vyfDn",
        "outputId": "72cf1746-44b1-48ad-991d-3a748ade062a"
      },
      "execution_count": 14,
      "outputs": [
        {
          "output_type": "execute_result",
          "data": {
            "text/plain": [
              "[10, 2, 3]"
            ]
          },
          "metadata": {},
          "execution_count": 14
        }
      ]
    },
    {
      "cell_type": "markdown",
      "source": [
        "#Shallow Copying\n",
        "refers to creating a new object that is a copy of an existing object, but only at the top level."
      ],
      "metadata": {
        "id": "R9DZr6T3ylLy"
      }
    },
    {
      "cell_type": "code",
      "source": [
        "# Perform shallow copy\n",
        "# List contains only unmutable elements\n",
        "l1 = [1, 2, 3, 4]\n",
        "print(id(l1))\n",
        "\n",
        "l2 = l1.copy()\n",
        "print(id(l2))"
      ],
      "metadata": {
        "colab": {
          "base_uri": "https://localhost:8080/"
        },
        "id": "aYJKnN0myf_b",
        "outputId": "b964b5ac-fa8d-468b-be1a-c6418dc82412"
      },
      "execution_count": 15,
      "outputs": [
        {
          "output_type": "stream",
          "name": "stdout",
          "text": [
            "138815629476288\n",
            "138815631457408\n"
          ]
        }
      ]
    },
    {
      "cell_type": "code",
      "source": [
        "# Modify copied object\n",
        "l2[0] = 'house'\n",
        "l2"
      ],
      "metadata": {
        "colab": {
          "base_uri": "https://localhost:8080/"
        },
        "id": "42L4vIOiyyTT",
        "outputId": "cd6bb825-8ade-4dc7-f296-b6136248370d"
      },
      "execution_count": 16,
      "outputs": [
        {
          "output_type": "execute_result",
          "data": {
            "text/plain": [
              "['house', 2, 3, 4]"
            ]
          },
          "metadata": {},
          "execution_count": 16
        }
      ]
    },
    {
      "cell_type": "code",
      "source": [
        "l1"
      ],
      "metadata": {
        "colab": {
          "base_uri": "https://localhost:8080/"
        },
        "id": "k-J2HqBtyz0A",
        "outputId": "2445080e-e21d-46d4-eeb2-e21bba8bafa4"
      },
      "execution_count": 17,
      "outputs": [
        {
          "output_type": "execute_result",
          "data": {
            "text/plain": [
              "[1, 2, 3, 4]"
            ]
          },
          "metadata": {},
          "execution_count": 17
        }
      ]
    },
    {
      "cell_type": "code",
      "source": [
        "# Shallow copy list containing\n",
        "# mutable elements\n",
        "l3 = [[1,2], [5,6]]\n",
        "print(id(l3))\n",
        "\n",
        "l4 = l3.copy()\n",
        "print(id(l4))"
      ],
      "metadata": {
        "colab": {
          "base_uri": "https://localhost:8080/"
        },
        "id": "kY_Cz2DPy0pl",
        "outputId": "45989b9f-09fe-43d9-8848-c51dd1023fda"
      },
      "execution_count": 18,
      "outputs": [
        {
          "output_type": "stream",
          "name": "stdout",
          "text": [
            "138815645600000\n",
            "138815903177280\n"
          ]
        }
      ]
    },
    {
      "cell_type": "code",
      "source": [
        "# Modify first element\n",
        "# of a copied list\n",
        "l4[0][0] = 'house'\n",
        "l4"
      ],
      "metadata": {
        "colab": {
          "base_uri": "https://localhost:8080/"
        },
        "id": "VXdsAyYpy11x",
        "outputId": "488ca918-87a7-45f5-db4d-3981f63b1d6e"
      },
      "execution_count": 19,
      "outputs": [
        {
          "output_type": "execute_result",
          "data": {
            "text/plain": [
              "[['house', 2], [5, 6]]"
            ]
          },
          "metadata": {},
          "execution_count": 19
        }
      ]
    },
    {
      "cell_type": "code",
      "source": [
        "l3"
      ],
      "metadata": {
        "colab": {
          "base_uri": "https://localhost:8080/"
        },
        "id": "SMoH4Ievy2-C",
        "outputId": "b24dd375-f2aa-4306-aee4-e817e9b0ce90"
      },
      "execution_count": 20,
      "outputs": [
        {
          "output_type": "execute_result",
          "data": {
            "text/plain": [
              "[['house', 2], [5, 6]]"
            ]
          },
          "metadata": {},
          "execution_count": 20
        }
      ]
    },
    {
      "cell_type": "code",
      "source": [
        "id(l3[0]) == id(l4[0])"
      ],
      "metadata": {
        "colab": {
          "base_uri": "https://localhost:8080/"
        },
        "id": "biIPVyMVy4Db",
        "outputId": "438b677b-e18a-4d51-f4c2-0519f92b5cee"
      },
      "execution_count": 21,
      "outputs": [
        {
          "output_type": "execute_result",
          "data": {
            "text/plain": [
              "True"
            ]
          },
          "metadata": {},
          "execution_count": 21
        }
      ]
    },
    {
      "cell_type": "markdown",
      "source": [
        "# Deep Copying\n",
        "\n",
        " Deep copying creates a new collection object and then, recursively, inserts copies of the objects found in the original. Changes to the copy will not affect the original and vice versa."
      ],
      "metadata": {
        "id": "kDdd5NDx1kYr"
      }
    },
    {
      "cell_type": "code",
      "source": [
        "import copy"
      ],
      "metadata": {
        "id": "X018Nyozy5GR"
      },
      "execution_count": 22,
      "outputs": []
    },
    {
      "cell_type": "code",
      "source": [
        "l5 = [[1,2,3], [5,6,7], [8,9,10]]\n",
        "print(id(l5))\n",
        "\n",
        "l6 = copy.deepcopy(l5)\n",
        "print(id(l6))"
      ],
      "metadata": {
        "colab": {
          "base_uri": "https://localhost:8080/"
        },
        "id": "uc7GTMpU2D93",
        "outputId": "044bc838-99ae-4646-a286-bc08f786a53d"
      },
      "execution_count": 23,
      "outputs": [
        {
          "output_type": "stream",
          "name": "stdout",
          "text": [
            "138815646930688\n",
            "138815631341824\n"
          ]
        }
      ]
    },
    {
      "cell_type": "code",
      "source": [
        "l6[0][0] = 'house'\n",
        "l6"
      ],
      "metadata": {
        "colab": {
          "base_uri": "https://localhost:8080/"
        },
        "id": "6X-d8_dQ2E-t",
        "outputId": "8e929b28-7e5d-4585-dc63-506f2eec676b"
      },
      "execution_count": 24,
      "outputs": [
        {
          "output_type": "execute_result",
          "data": {
            "text/plain": [
              "[['house', 2, 3], [5, 6, 7], [8, 9, 10]]"
            ]
          },
          "metadata": {},
          "execution_count": 24
        }
      ]
    },
    {
      "cell_type": "code",
      "source": [
        "l5"
      ],
      "metadata": {
        "colab": {
          "base_uri": "https://localhost:8080/"
        },
        "id": "49txZtrH2GxZ",
        "outputId": "f1a89c32-0cd6-4359-d79a-5d87c8a3cf51"
      },
      "execution_count": 25,
      "outputs": [
        {
          "output_type": "execute_result",
          "data": {
            "text/plain": [
              "[[1, 2, 3], [5, 6, 7], [8, 9, 10]]"
            ]
          },
          "metadata": {},
          "execution_count": 25
        }
      ]
    },
    {
      "cell_type": "code",
      "source": [],
      "metadata": {
        "id": "10zYBgOJ2Hyn"
      },
      "execution_count": null,
      "outputs": []
    }
  ]
}